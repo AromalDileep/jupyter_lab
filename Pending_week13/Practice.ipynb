{
 "cells": [
  {
   "cell_type": "markdown",
   "id": "127f287d-21da-4d64-adad-fcc907042bb2",
   "metadata": {},
   "source": [
    "# Binary Search"
   ]
  },
  {
   "cell_type": "code",
   "execution_count": 2,
   "id": "dd5c2436-7cd1-4943-84e8-08ca413f2d61",
   "metadata": {},
   "outputs": [
    {
     "data": {
      "text/plain": [
       "3"
      ]
     },
     "execution_count": 2,
     "metadata": {},
     "output_type": "execute_result"
    }
   ],
   "source": [
    "def binary_search(arr, target):\n",
    "    l = 0\n",
    "    r = len(arr) - 1\n",
    "    \n",
    "    while l <= r:\n",
    "        mid = (l + r) // 2\n",
    "        if arr[mid] == target:\n",
    "            return mid\n",
    "        elif arr[mid] > target: \n",
    "            r = mid - 1\n",
    "        else:\n",
    "            l = mid + 1\n",
    "\n",
    "    return -1\n",
    "\n",
    "\n",
    "binary_search([1, 2, 3, 4, 5], 4)"
   ]
  },
  {
   "cell_type": "markdown",
   "id": "205ab380-32d2-4a81-957c-6de3550eb85d",
   "metadata": {},
   "source": [
    "# Binary searhc recurssive"
   ]
  },
  {
   "cell_type": "code",
   "execution_count": 7,
   "id": "09024d11-3095-4495-b64e-47bd2997b7a5",
   "metadata": {
    "editable": true,
    "slideshow": {
     "slide_type": ""
    },
    "tags": []
   },
   "outputs": [
    {
     "name": "stdout",
     "output_type": "stream",
     "text": [
      "Element found at index 4\n"
     ]
    }
   ],
   "source": [
    "def binary_search_recurssive(arr, target, low, high):\n",
    "    if low > high:\n",
    "        return -1\n",
    "\n",
    "    mid = (low + high) // 2\n",
    "\n",
    "    if arr[mid] == target:\n",
    "        return mid\n",
    "    elif target < arr[mid]:\n",
    "        return binary_search_recurssive(arr, target, low, mid-1)\n",
    "    else:\n",
    "        return binary_search_recurssive(arr, target, mid+1, high)\n",
    "\n",
    "\n",
    "arr = [1, 2, 3, 4, 5, 6]\n",
    "target = 5\n",
    "\n",
    "result = binary_search_recurssive(arr, target, 0, len(arr) - 1)\n",
    "\n",
    "if result != -1:\n",
    "    print(f'Element found at index {result}')\n",
    "else:\n",
    "    print('Element not found')\n"
   ]
  },
  {
   "cell_type": "markdown",
   "id": "d1adc73f-d9bc-4876-a55f-15931b67e64d",
   "metadata": {},
   "source": [
    "# compare two vectors"
   ]
  },
  {
   "cell_type": "markdown",
   "id": "7afac807-35bf-44b4-b76d-0d378cbf3b17",
   "metadata": {},
   "source": [
    "## Magnitude (length)"
   ]
  },
  {
   "cell_type": "code",
   "execution_count": 17,
   "id": "9573b117-c695-4800-899d-6e07bad50137",
   "metadata": {},
   "outputs": [
    {
     "name": "stdout",
     "output_type": "stream",
     "text": [
      "Vector 2 is longer\n"
     ]
    }
   ],
   "source": [
    "import math\n",
    "def vector_magnitude(v):\n",
    "    magnitude = sum(math.sqrt(component)**2 for component in v)\n",
    "    return magnitude\n",
    "\n",
    "v1 = (3,4)\n",
    "v2 = (5,12)\n",
    "\n",
    "magnitude_v1 = vector_magnitude(v1)\n",
    "magnitude_v2 = vector_magnitude(v2)\n",
    "\n",
    "if magnitude_v1 > magnitude_v2:\n",
    "    print('Vector 1 is longer')\n",
    "elif magnitude_v1 < magnitude_v2:\n",
    "    print('Vector 2 is longer')\n",
    "else:\n",
    "    print('Both vecotrs are same length')"
   ]
  },
  {
   "cell_type": "markdown",
   "id": "80b64406-c9a7-49a3-b9e3-837e83bee2c3",
   "metadata": {},
   "source": [
    "## Compare direction"
   ]
  },
  {
   "cell_type": "code",
   "execution_count": 39,
   "id": "ef3d45b9-a825-4ec7-ab83-2ab59169df23",
   "metadata": {},
   "outputs": [
    {
     "name": "stdout",
     "output_type": "stream",
     "text": [
      "The vectors are parallel.\n"
     ]
    }
   ],
   "source": [
    "def are_parallel(v1, v2):\n",
    "    ratio = [v1[i] / v2[i] if v2[i] != 0 else None for i in range(len(v1))]\n",
    "    return all(r == ratio[0] for r in ratio if r is not None)\n",
    "\n",
    "\n",
    "v1 = (2, 4)\n",
    "v2 = (1, 2)\n",
    "if are_parallel(v1, v2):\n",
    "    print(\"The vectors are parallel.\")\n",
    "else:\n",
    "    print(\"The vectors are not parallel.\")"
   ]
  },
  {
   "cell_type": "code",
   "execution_count": 8,
   "id": "914a4c65-c5a4-4a07-bf78-f6dbf8f54f40",
   "metadata": {},
   "outputs": [
    {
     "data": {
      "text/plain": [
       "[1, 3, 5, 7]"
      ]
     },
     "execution_count": 8,
     "metadata": {},
     "output_type": "execute_result"
    }
   ],
   "source": [
    "lst = [1,2,3,4,5,6,7]\n",
    "list(filter(lambda x: x%2!= 0, lst))"
   ]
  },
  {
   "cell_type": "code",
   "execution_count": 26,
   "id": "d378f9ff-99ad-4734-8a45-361c39b46165",
   "metadata": {},
   "outputs": [
    {
     "data": {
      "text/plain": [
       "[1, 4, 9, 16, 25, 36, 49]"
      ]
     },
     "execution_count": 26,
     "metadata": {},
     "output_type": "execute_result"
    }
   ],
   "source": [
    "list(map(lambda x: x**2, lst))"
   ]
  },
  {
   "cell_type": "code",
   "execution_count": 10,
   "id": "9e390b9a-9ccf-4787-959f-751772531715",
   "metadata": {},
   "outputs": [
    {
     "data": {
      "text/plain": [
       "28"
      ]
     },
     "execution_count": 10,
     "metadata": {},
     "output_type": "execute_result"
    }
   ],
   "source": [
    "from functools import reduce\n",
    "result = reduce(lambda x, y: x + y, lst)\n",
    "result"
   ]
  },
  {
   "cell_type": "code",
   "execution_count": 12,
   "id": "e6ab66ba-2ca9-4b0f-aaf6-fa23d44eaf55",
   "metadata": {},
   "outputs": [
    {
     "data": {
      "text/plain": [
       "5040"
      ]
     },
     "execution_count": 12,
     "metadata": {},
     "output_type": "execute_result"
    }
   ],
   "source": [
    "\n",
    "result = reduce(lambda x, y: x * y, lst)\n",
    "result "
   ]
  },
  {
   "cell_type": "code",
   "execution_count": 18,
   "id": "6ff7d35a-f7ff-48fc-842c-15548c6adcb8",
   "metadata": {},
   "outputs": [
    {
     "name": "stdout",
     "output_type": "stream",
     "text": [
      "6\n"
     ]
    }
   ],
   "source": [
    "alphalst = ['a', 3,'d', 3]\n",
    "print(sum(i for i in alphalst if isinstance(i, int)))"
   ]
  },
  {
   "cell_type": "code",
   "execution_count": 39,
   "id": "75ed3807-3118-430b-b281-7229a83059b0",
   "metadata": {},
   "outputs": [
    {
     "name": "stdout",
     "output_type": "stream",
     "text": [
      "1\n"
     ]
    }
   ],
   "source": [
    "def binary_search_recurssive(arr, target, low, high):\n",
    "    if low > high:\n",
    "        return -1\n",
    "\n",
    "    mid = (low + high) // 2\n",
    "    if arr[mid] == target:\n",
    "        return mid\n",
    "    elif arr[mid] < target:\n",
    "        return binary_search_recurssive(arr, target, mid + 1, high)\n",
    "    else:\n",
    "        return binary_search_recurssive(arr, target, low, mid-1)\n",
    "\n",
    "arr = [2,4,5,6,8]\n",
    "result = binary_search_recurssive(arr, 4, 0, len(arr)-1)\n",
    "print(result)"
   ]
  },
  {
   "cell_type": "code",
   "execution_count": 42,
   "id": "5798e754-e3a7-42f0-b8c8-63253f6deade",
   "metadata": {},
   "outputs": [
    {
     "data": {
      "text/plain": [
       "45"
      ]
     },
     "execution_count": 42,
     "metadata": {},
     "output_type": "execute_result"
    }
   ],
   "source": [
    "import math\n",
    "\n",
    "a = 10\n",
    "b = 2\n",
    "math.comb(a, b)"
   ]
  },
  {
   "cell_type": "code",
   "execution_count": 51,
   "id": "b6247876-af65-495b-8ccc-6bd0de9f14d1",
   "metadata": {},
   "outputs": [],
   "source": [
    "import pandas as pd\n",
    "from sklearn.datasets import load_diabetes"
   ]
  },
  {
   "cell_type": "code",
   "execution_count": 55,
   "id": "f6c507ca-3291-45bf-bb93-389e5567bfa4",
   "metadata": {},
   "outputs": [],
   "source": [
    "X, y = load_diabetes(return_X_y=True)"
   ]
  },
  {
   "cell_type": "code",
   "execution_count": 57,
   "id": "260e2861-6095-4135-a822-234036d71d2e",
   "metadata": {},
   "outputs": [],
   "source": [
    "from sklearn.model_selection import train_test_split\n",
    "X_train, X_test , y_train, y_test = train_test_split(X, y, test_size=0.2, random_state=42)"
   ]
  },
  {
   "cell_type": "code",
   "execution_count": 160,
   "id": "a7055b42-cf85-4336-8a77-fc8c673db707",
   "metadata": {},
   "outputs": [],
   "source": [
    "class MyLr:\n",
    "    def __init__(self):\n",
    "        self.coef_ = None\n",
    "        self.intercept_ = None\n",
    "    \n",
    "    def fit(self, X_train, y_train):\n",
    "        # X_train = np.insert(X_train, 0, 1, axis=1)\n",
    "        # Calcualte the coeff\n",
    "        betas = np.linalg.inv(np.dot(X_train.T, X_train)).dot(X_train.T).dot(y_train)\n",
    "        self.intercept_ = betas[0]\n",
    "        self.coef_ = betas[1:]\n",
    "        \n",
    "    def predict(self, X_test):\n",
    "        \n",
    "        x_test = np.insert(x_test, 0, 1, axis=1)\n",
    "        y_pred = np.dot(X_test, self.coef_) + self.intercept_\n",
    "        return y_pred\n",
    "        \n",
    "        "
   ]
  },
  {
   "cell_type": "code",
   "execution_count": 162,
   "id": "28b9721b-6cef-4581-a35f-9baa158f00b1",
   "metadata": {},
   "outputs": [],
   "source": [
    "lr = MyLr()"
   ]
  },
  {
   "cell_type": "code",
   "execution_count": 164,
   "id": "0dd47040-8856-4b97-ba4b-3d5e2ee72153",
   "metadata": {},
   "outputs": [],
   "source": [
    "lr.fit(X_train, y_train)"
   ]
  },
  {
   "cell_type": "code",
   "execution_count": 166,
   "id": "67fa64fa-18c5-4b5e-9192-a10284d181f9",
   "metadata": {},
   "outputs": [
    {
     "ename": "UnboundLocalError",
     "evalue": "cannot access local variable 'x_test' where it is not associated with a value",
     "output_type": "error",
     "traceback": [
      "\u001b[0;31m---------------------------------------------------------------------------\u001b[0m",
      "\u001b[0;31mUnboundLocalError\u001b[0m                         Traceback (most recent call last)",
      "Cell \u001b[0;32mIn[166], line 1\u001b[0m\n\u001b[0;32m----> 1\u001b[0m lr\u001b[38;5;241m.\u001b[39mpredict(y_test)\n",
      "Cell \u001b[0;32mIn[160], line 15\u001b[0m, in \u001b[0;36mMyLr.predict\u001b[0;34m(self, X_test)\u001b[0m\n\u001b[1;32m     13\u001b[0m \u001b[38;5;28;01mdef\u001b[39;00m \u001b[38;5;21mpredict\u001b[39m(\u001b[38;5;28mself\u001b[39m, X_test):\n\u001b[0;32m---> 15\u001b[0m     x_test \u001b[38;5;241m=\u001b[39m np\u001b[38;5;241m.\u001b[39minsert(x_test, \u001b[38;5;241m0\u001b[39m, \u001b[38;5;241m1\u001b[39m, axis\u001b[38;5;241m=\u001b[39m\u001b[38;5;241m1\u001b[39m)\n\u001b[1;32m     16\u001b[0m     y_pred \u001b[38;5;241m=\u001b[39m np\u001b[38;5;241m.\u001b[39mdot(X_test, \u001b[38;5;28mself\u001b[39m\u001b[38;5;241m.\u001b[39mcoef_) \u001b[38;5;241m+\u001b[39m \u001b[38;5;28mself\u001b[39m\u001b[38;5;241m.\u001b[39mintercept_\n\u001b[1;32m     17\u001b[0m     \u001b[38;5;28;01mreturn\u001b[39;00m y_pred\n",
      "\u001b[0;31mUnboundLocalError\u001b[0m: cannot access local variable 'x_test' where it is not associated with a value"
     ]
    }
   ],
   "source": [
    "lr.predict(y_test)"
   ]
  },
  {
   "cell_type": "code",
   "execution_count": null,
   "id": "0d0595f4-4675-430e-b320-cecb322eddae",
   "metadata": {},
   "outputs": [],
   "source": []
  }
 ],
 "metadata": {
  "kernelspec": {
   "display_name": "Python 3 (ipykernel)",
   "language": "python",
   "name": "python3"
  },
  "language_info": {
   "codemirror_mode": {
    "name": "ipython",
    "version": 3
   },
   "file_extension": ".py",
   "mimetype": "text/x-python",
   "name": "python",
   "nbconvert_exporter": "python",
   "pygments_lexer": "ipython3",
   "version": "3.12.3"
  }
 },
 "nbformat": 4,
 "nbformat_minor": 5
}
