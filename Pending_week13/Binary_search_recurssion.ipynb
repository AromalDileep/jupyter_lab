{
 "cells": [
  {
   "cell_type": "code",
   "execution_count": 3,
   "id": "9e3094ed-3f03-41d7-a914-1efb8bd0372f",
   "metadata": {
    "editable": true,
    "slideshow": {
     "slide_type": ""
    },
    "tags": []
   },
   "outputs": [
    {
     "name": "stdout",
     "output_type": "stream",
     "text": [
      "Element found at index 4\n"
     ]
    }
   ],
   "source": [
    "def binary_search_recursive(arr, target, low, high):\n",
    "    # Base case: target is not found\n",
    "    if low > high:\n",
    "        return -1\n",
    "\n",
    "    # Find the middle index\n",
    "    mid = (low + high) // 2\n",
    "\n",
    "    # Check if the middle element is the target\n",
    "    if arr[mid] == target:\n",
    "        return mid\n",
    "    # If the target is smaller, search the left half\n",
    "    elif target < arr[mid]:\n",
    "        return binary_search_recursive(arr, target, low, mid - 1)\n",
    "    # If the target is larger, search the right half\n",
    "    else:\n",
    "        return binary_search_recursive(arr, target, mid + 1, high)\n",
    "\n",
    "\n",
    "# Example usage:\n",
    "arr = [2, 4, 6, 8, 10, 12, 14]\n",
    "target = 10\n",
    "\n",
    "# Call the function with the full range of the array\n",
    "result = binary_search_recursive(arr, target, 0, len(arr) - 1)\n",
    "\n",
    "if result != -1:\n",
    "    print(f\"Element found at index {result}\")\n",
    "else:\n",
    "    print(\"Element not found\")\n",
    "\n"
   ]
  },
  {
   "cell_type": "code",
   "execution_count": null,
   "id": "5dbcbe10-b7bc-40d7-a043-bc7c1265c25d",
   "metadata": {},
   "outputs": [],
   "source": []
  }
 ],
 "metadata": {
  "kernelspec": {
   "display_name": "Python 3 (ipykernel)",
   "language": "python",
   "name": "python3"
  },
  "language_info": {
   "codemirror_mode": {
    "name": "ipython",
    "version": 3
   },
   "file_extension": ".py",
   "mimetype": "text/x-python",
   "name": "python",
   "nbconvert_exporter": "python",
   "pygments_lexer": "ipython3",
   "version": "3.12.3"
  }
 },
 "nbformat": 4,
 "nbformat_minor": 5
}
