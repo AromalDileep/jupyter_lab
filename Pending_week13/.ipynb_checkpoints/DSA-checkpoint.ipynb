{
 "cells": [
  {
   "cell_type": "markdown",
   "metadata": {},
   "source": [
    "# Heap (Build in)"
   ]
  },
  {
   "cell_type": "markdown",
   "metadata": {},
   "source": [
    "## MIN HEAP"
   ]
  },
  {
   "cell_type": "code",
   "execution_count": 25,
   "metadata": {},
   "outputs": [
    {
     "data": {
      "text/plain": [
       "[-4, 0, 1, 3, 2, 5, 10, 8, 12, 9]"
      ]
     },
     "execution_count": 25,
     "metadata": {},
     "output_type": "execute_result"
    }
   ],
   "source": [
    "# Build min heap (heapify)\n",
    "# Time O(n), Space O(1)\n",
    "\n",
    "A = [-4,3,1,0,2,5,10,8,12,9 ]\n",
    "import heapq\n",
    "heapq.heapify(A)\n",
    "A"
   ]
  },
  {
   "cell_type": "code",
   "execution_count": 26,
   "metadata": {},
   "outputs": [
    {
     "data": {
      "text/plain": [
       "[-4, 0, 1, 3, 2, 5, 10, 8, 12, 9, 4]"
      ]
     },
     "execution_count": 26,
     "metadata": {},
     "output_type": "execute_result"
    }
   ],
   "source": [
    "# Heap push(Insert element)\n",
    "# Time : O(long n)\n",
    "heapq.heappush(A, 4)\n",
    "A"
   ]
  },
  {
   "cell_type": "code",
   "execution_count": 27,
   "metadata": {},
   "outputs": [
    {
     "data": {
      "text/plain": [
       "([0, 2, 1, 3, 4, 5, 10, 8, 12, 9], -4)"
      ]
     },
     "execution_count": 27,
     "metadata": {},
     "output_type": "execute_result"
    }
   ],
   "source": [
    "# Heap Pop (Extract min)\n",
    "# Time O(log n)\n",
    "\n",
    "minn = heapq.heappop(A)\n",
    "A, minn"
   ]
  },
  {
   "cell_type": "code",
   "execution_count": 28,
   "metadata": {},
   "outputs": [
    {
     "data": {
      "text/plain": [
       "[2, 3, 4, 4, 5, 6, 36, 87]"
      ]
     },
     "execution_count": 28,
     "metadata": {},
     "output_type": "execute_result"
    }
   ],
   "source": [
    "# Heap Sort\n",
    "# Time O(n long n), Space: O(n)\n",
    "# Note: O(1) Space is possible via swapping, but this is complex\n",
    "\n",
    "def heapsort(arr):\n",
    "    heapq.heapify(arr)\n",
    "    n= len(arr)\n",
    "    new_lst = [0] * n\n",
    "    for i in range(n):\n",
    "        minn = heapq.heappop(arr)\n",
    "        new_lst[i] = minn\n",
    "    \n",
    "    return new_lst\n",
    "\n",
    "heapsort([3,5,6,4,36,87,4,2])\n"
   ]
  },
  {
   "cell_type": "code",
   "execution_count": 29,
   "metadata": {},
   "outputs": [
    {
     "data": {
      "text/plain": [
       "[1, 2, 5, 3, 4, 99, 10, 8, 12, 9]"
      ]
     },
     "execution_count": 29,
     "metadata": {},
     "output_type": "execute_result"
    }
   ],
   "source": [
    "# Heap push pop Time: O(log n)\n",
    "heapq.heappushpop(A, 99)\n",
    "A"
   ]
  },
  {
   "cell_type": "markdown",
   "metadata": {},
   "source": [
    "## Max heap"
   ]
  },
  {
   "cell_type": "code",
   "execution_count": 30,
   "metadata": {},
   "outputs": [
    {
     "data": {
      "text/plain": [
       "[-12, -9, -10, -8, -2, -5, -1, -3, 0, 4]"
      ]
     },
     "execution_count": 30,
     "metadata": {},
     "output_type": "execute_result"
    }
   ],
   "source": [
    "B = [-4,3,1,0,2,5,10,8,12,9]\n",
    "n = len(B)\n",
    "\n",
    "for i in range(n):\n",
    "    B[i] = -B[i]\n",
    "\n",
    "heapq.heapify(B)\n",
    "B"
   ]
  },
  {
   "cell_type": "code",
   "execution_count": 31,
   "metadata": {},
   "outputs": [
    {
     "data": {
      "text/plain": [
       "12"
      ]
     },
     "execution_count": 31,
     "metadata": {},
     "output_type": "execute_result"
    }
   ],
   "source": [
    "largest = -heapq.heappop(B)\n",
    "largest"
   ]
  },
  {
   "cell_type": "code",
   "execution_count": 32,
   "metadata": {},
   "outputs": [
    {
     "data": {
      "text/plain": [
       "[-10, -9, -5, -8, -7, 4, -1, -3, 0, -2]"
      ]
     },
     "execution_count": 32,
     "metadata": {},
     "output_type": "execute_result"
    }
   ],
   "source": [
    "heapq.heappush(B, -7) # This inserts 7 into the max heap\n",
    "B"
   ]
  },
  {
   "cell_type": "code",
   "execution_count": 33,
   "metadata": {},
   "outputs": [
    {
     "name": "stdout",
     "output_type": "stream",
     "text": [
      "[-5] 1\n",
      "[-5, 4] 2\n",
      "[-5, 4, 2] 3\n",
      "[-5, 1, 2, 4] 4\n",
      "[-5, 1, 2, 4, 7] 5\n",
      "[-5, 1, 0, 4, 7, 2] 6\n",
      "[-5, 1, 0, 4, 7, 2, 3] 7\n"
     ]
    }
   ],
   "source": [
    "# Build heap from scratch - Time: O(n log n)\n",
    "C = [-5, 4, 2, 1, 7, 0, 3]\n",
    "\n",
    "heap = []\n",
    "\n",
    "for x in C:\n",
    "    heapq.heappush(heap, x)\n",
    "    print(heap, len(heap))"
   ]
  },
  {
   "cell_type": "code",
   "execution_count": 34,
   "metadata": {},
   "outputs": [
    {
     "name": "stdout",
     "output_type": "stream",
     "text": [
      "Heap based on frequency: [(2, 3), (4, 5), (3, 4)]\n"
     ]
    }
   ],
   "source": [
    "# Putting tuples of items on the heap\n",
    "import heapq\n",
    "from collections import Counter\n",
    "\n",
    "D = [5, 4, 3, 5, 4, 3, 5, 5, 4]\n",
    "counter = Counter(D)  # Counts occurrences of each element\n",
    "\n",
    "# Initialize an empty heap\n",
    "heap = []\n",
    "\n",
    "# Push each (frequency, element) pair into the heap\n",
    "for k, v in counter.items():\n",
    "    heapq.heappush(heap, (v, k))\n",
    "\n",
    "# Display the heap\n",
    "print(\"Heap based on frequency:\", heap)\n"
   ]
  },
  {
   "cell_type": "markdown",
   "metadata": {},
   "source": [
    "# Build heap from scratch"
   ]
  },
  {
   "cell_type": "code",
   "execution_count": 35,
   "metadata": {},
   "outputs": [],
   "source": [
    "class MinHeap:\n",
    "    def __init__(self):\n",
    "        self.heap = []\n",
    "    \n",
    "    def push(self, value):\n",
    "        \"\"\"Insert a new element and maintain the min-heap property.\"\"\"\n",
    "        self.heap.append(value)\n",
    "        self.heapify_up(len(self.heap) - 1)\n",
    "    \n",
    "    def pop(self):\n",
    "        \"\"\"Remove and return the smallest element (root) and reheapify.\"\"\"\n",
    "        if len(self.heap) == 0:\n",
    "            raise IndexError(\"Heap is empty\")\n",
    "        if len(self.heap) == 1:\n",
    "            return self.heap.pop()\n",
    "        \n",
    "        # Swap the root with the last element\n",
    "        root_value = self.heap[0]\n",
    "        self.heap[0] = self.heap.pop()\n",
    "        self.heapify_down(0)\n",
    "        return root_value\n",
    "    \n",
    "    def heapify_up(self, index):\n",
    "        \"\"\"Move the element at index up to maintain the min-heap property.\"\"\"\n",
    "        parent_index = (index - 1) // 2\n",
    "        if index > 0 and self.heap[index] < self.heap[parent_index]:\n",
    "            # Swap with parent\n",
    "            self.heap[index], self.heap[parent_index] = self.heap[parent_index], self.heap[index]\n",
    "            # Recursively heapify the parent node\n",
    "            self.heapify_up(parent_index)\n",
    "    \n",
    "    def heapify_down(self, index):\n",
    "        \"\"\"Move the element at index down to maintain the min-heap property.\"\"\"\n",
    "        smallest = index\n",
    "        left_child_index = 2 * index + 1\n",
    "        right_child_index = 2 * index + 2\n",
    "\n",
    "        # Find the smallest among index, left child, and right child\n",
    "        if left_child_index < len(self.heap) and self.heap[left_child_index] < self.heap[smallest]:\n",
    "            smallest = left_child_index\n",
    "        if right_child_index < len(self.heap) and self.heap[right_child_index] < self.heap[smallest]:\n",
    "            smallest = right_child_index\n",
    "        \n",
    "        # If the smallest is not the current index, swap and continue heapifying\n",
    "        if smallest != index:\n",
    "            self.heap[index], self.heap[smallest] = self.heap[smallest], self.heap[index]\n",
    "            self.heapify_down(smallest)\n",
    "    \n",
    "    def peek(self):\n",
    "        \"\"\"Return the smallest element without removing it.\"\"\"\n",
    "        if not self.heap:\n",
    "            raise IndexError(\"Heap is empty\")\n",
    "        return self.heap[0]\n",
    "    \n",
    "    def __str__(self):\n",
    "        \"\"\"Return a string representation of the heap.\"\"\"\n",
    "        return str(self.heap)\n"
   ]
  },
  {
   "cell_type": "code",
   "execution_count": 36,
   "metadata": {},
   "outputs": [
    {
     "name": "stdout",
     "output_type": "stream",
     "text": [
      "Heap after inserts: [1, 2, 8, 5, 3]\n",
      "Minimum element (peek): 1\n",
      "Pop: 1\n",
      "Heap after pop: [2, 3, 8, 5]\n",
      "Pop: 2\n",
      "Heap after pop: [3, 5, 8]\n"
     ]
    }
   ],
   "source": [
    "# Initialize the heap\n",
    "heap = MinHeap()\n",
    "\n",
    "# Insert elements\n",
    "heap.push(5)\n",
    "heap.push(3)\n",
    "heap.push(8)\n",
    "heap.push(1)\n",
    "heap.push(2)\n",
    "\n",
    "# Display the heap\n",
    "print(\"Heap after inserts:\", heap)\n",
    "\n",
    "# Peek at the minimum element\n",
    "print(\"Minimum element (peek):\", heap.peek())\n",
    "\n",
    "# Pop elements one by one\n",
    "print(\"Pop:\", heap.pop())\n",
    "print(\"Heap after pop:\", heap)\n",
    "\n",
    "print(\"Pop:\", heap.pop())\n",
    "print(\"Heap after pop:\", heap)\n"
   ]
  }
 ],
 "metadata": {
  "kernelspec": {
   "display_name": "testenv",
   "language": "python",
   "name": "python3"
  },
  "language_info": {
   "codemirror_mode": {
    "name": "ipython",
    "version": 3
   },
   "file_extension": ".py",
   "mimetype": "text/x-python",
   "name": "python",
   "nbconvert_exporter": "python",
   "pygments_lexer": "ipython3",
   "version": "3.12.6"
  }
 },
 "nbformat": 4,
 "nbformat_minor": 2
}
