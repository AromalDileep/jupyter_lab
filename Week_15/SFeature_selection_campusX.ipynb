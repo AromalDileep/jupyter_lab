{
 "cells": [
  {
   "cell_type": "code",
   "execution_count": 71,
   "id": "ac7af1ab-bbc1-48b8-aec7-e66e511c6cd6",
   "metadata": {},
   "outputs": [],
   "source": [
    "import pandas as pd \n",
    "import numpy as np "
   ]
  },
  {
   "cell_type": "code",
   "execution_count": 72,
   "id": "1edc2c40-f4fa-4d08-be25-4055adf8f6a4",
   "metadata": {},
   "outputs": [
    {
     "data": {
      "text/html": [
       "<div>\n",
       "<style scoped>\n",
       "    .dataframe tbody tr th:only-of-type {\n",
       "        vertical-align: middle;\n",
       "    }\n",
       "\n",
       "    .dataframe tbody tr th {\n",
       "        vertical-align: top;\n",
       "    }\n",
       "\n",
       "    .dataframe thead th {\n",
       "        text-align: right;\n",
       "    }\n",
       "</style>\n",
       "<table border=\"1\" class=\"dataframe\">\n",
       "  <thead>\n",
       "    <tr style=\"text-align: right;\">\n",
       "      <th></th>\n",
       "      <th>tBodyAcc-mean()-X</th>\n",
       "      <th>tBodyAcc-mean()-Y</th>\n",
       "      <th>tBodyAcc-mean()-Z</th>\n",
       "      <th>tBodyAcc-std()-X</th>\n",
       "      <th>tBodyAcc-std()-Y</th>\n",
       "      <th>tBodyAcc-std()-Z</th>\n",
       "      <th>tBodyAcc-mad()-X</th>\n",
       "      <th>tBodyAcc-mad()-Y</th>\n",
       "      <th>tBodyAcc-mad()-Z</th>\n",
       "      <th>tBodyAcc-max()-X</th>\n",
       "      <th>...</th>\n",
       "      <th>fBodyBodyGyroJerkMag-skewness()</th>\n",
       "      <th>fBodyBodyGyroJerkMag-kurtosis()</th>\n",
       "      <th>angle(tBodyAccMean,gravity)</th>\n",
       "      <th>angle(tBodyAccJerkMean),gravityMean)</th>\n",
       "      <th>angle(tBodyGyroMean,gravityMean)</th>\n",
       "      <th>angle(tBodyGyroJerkMean,gravityMean)</th>\n",
       "      <th>angle(X,gravityMean)</th>\n",
       "      <th>angle(Y,gravityMean)</th>\n",
       "      <th>angle(Z,gravityMean)</th>\n",
       "      <th>Activity</th>\n",
       "    </tr>\n",
       "  </thead>\n",
       "  <tbody>\n",
       "    <tr>\n",
       "      <th>0</th>\n",
       "      <td>0.288585</td>\n",
       "      <td>-0.020294</td>\n",
       "      <td>-0.132905</td>\n",
       "      <td>-0.995279</td>\n",
       "      <td>-0.983111</td>\n",
       "      <td>-0.913526</td>\n",
       "      <td>-0.995112</td>\n",
       "      <td>-0.983185</td>\n",
       "      <td>-0.923527</td>\n",
       "      <td>-0.934724</td>\n",
       "      <td>...</td>\n",
       "      <td>-0.298676</td>\n",
       "      <td>-0.710304</td>\n",
       "      <td>-0.112754</td>\n",
       "      <td>0.030400</td>\n",
       "      <td>-0.464761</td>\n",
       "      <td>-0.018446</td>\n",
       "      <td>-0.841247</td>\n",
       "      <td>0.179941</td>\n",
       "      <td>-0.058627</td>\n",
       "      <td>STANDING</td>\n",
       "    </tr>\n",
       "    <tr>\n",
       "      <th>1</th>\n",
       "      <td>0.278419</td>\n",
       "      <td>-0.016411</td>\n",
       "      <td>-0.123520</td>\n",
       "      <td>-0.998245</td>\n",
       "      <td>-0.975300</td>\n",
       "      <td>-0.960322</td>\n",
       "      <td>-0.998807</td>\n",
       "      <td>-0.974914</td>\n",
       "      <td>-0.957686</td>\n",
       "      <td>-0.943068</td>\n",
       "      <td>...</td>\n",
       "      <td>-0.595051</td>\n",
       "      <td>-0.861499</td>\n",
       "      <td>0.053477</td>\n",
       "      <td>-0.007435</td>\n",
       "      <td>-0.732626</td>\n",
       "      <td>0.703511</td>\n",
       "      <td>-0.844788</td>\n",
       "      <td>0.180289</td>\n",
       "      <td>-0.054317</td>\n",
       "      <td>STANDING</td>\n",
       "    </tr>\n",
       "  </tbody>\n",
       "</table>\n",
       "<p>2 rows × 562 columns</p>\n",
       "</div>"
      ],
      "text/plain": [
       "   tBodyAcc-mean()-X  tBodyAcc-mean()-Y  tBodyAcc-mean()-Z  tBodyAcc-std()-X  \\\n",
       "0           0.288585          -0.020294          -0.132905         -0.995279   \n",
       "1           0.278419          -0.016411          -0.123520         -0.998245   \n",
       "\n",
       "   tBodyAcc-std()-Y  tBodyAcc-std()-Z  tBodyAcc-mad()-X  tBodyAcc-mad()-Y  \\\n",
       "0         -0.983111         -0.913526         -0.995112         -0.983185   \n",
       "1         -0.975300         -0.960322         -0.998807         -0.974914   \n",
       "\n",
       "   tBodyAcc-mad()-Z  tBodyAcc-max()-X  ...  fBodyBodyGyroJerkMag-skewness()  \\\n",
       "0         -0.923527         -0.934724  ...                        -0.298676   \n",
       "1         -0.957686         -0.943068  ...                        -0.595051   \n",
       "\n",
       "   fBodyBodyGyroJerkMag-kurtosis()  angle(tBodyAccMean,gravity)  \\\n",
       "0                        -0.710304                    -0.112754   \n",
       "1                        -0.861499                     0.053477   \n",
       "\n",
       "   angle(tBodyAccJerkMean),gravityMean)  angle(tBodyGyroMean,gravityMean)  \\\n",
       "0                              0.030400                         -0.464761   \n",
       "1                             -0.007435                         -0.732626   \n",
       "\n",
       "   angle(tBodyGyroJerkMean,gravityMean)  angle(X,gravityMean)  \\\n",
       "0                             -0.018446             -0.841247   \n",
       "1                              0.703511             -0.844788   \n",
       "\n",
       "   angle(Y,gravityMean)  angle(Z,gravityMean)  Activity  \n",
       "0              0.179941             -0.058627  STANDING  \n",
       "1              0.180289             -0.054317  STANDING  \n",
       "\n",
       "[2 rows x 562 columns]"
      ]
     },
     "execution_count": 72,
     "metadata": {},
     "output_type": "execute_result"
    }
   ],
   "source": [
    "df = pd.read_csv('/home/aromal/Documents/jupyter_Lab/Week_15/Dataset_15/Human-acitvity-recognition-with-smartphones/train.csv').drop(columns='subject')\n",
    "df.head(2)"
   ]
  },
  {
   "cell_type": "code",
   "execution_count": 73,
   "id": "382ce17c-1fa8-401f-a0f9-86135ba6dbe0",
   "metadata": {},
   "outputs": [
    {
     "data": {
      "text/plain": [
       "Activity\n",
       "LAYING                1407\n",
       "STANDING              1374\n",
       "SITTING               1286\n",
       "WALKING               1226\n",
       "WALKING_UPSTAIRS      1073\n",
       "WALKING_DOWNSTAIRS     986\n",
       "Name: count, dtype: int64"
      ]
     },
     "execution_count": 73,
     "metadata": {},
     "output_type": "execute_result"
    }
   ],
   "source": [
    "df['Activity'].value_counts()"
   ]
  },
  {
   "cell_type": "markdown",
   "id": "ce245281-33e9-4f0f-a683-87068e52f2a4",
   "metadata": {},
   "source": [
    "## Dupicate Features \n",
    "- Delete duplicate features\n",
    "- This is the first step"
   ]
  },
  {
   "cell_type": "code",
   "execution_count": 75,
   "id": "95b5563a-9b76-4d30-acd7-03c24a47bec7",
   "metadata": {},
   "outputs": [],
   "source": [
    "from sklearn.preprocessing import LabelEncoder\n",
    "from sklearn.model_selection import train_test_split\n",
    "from sklearn.linear_model import LogisticRegression\n",
    "from sklearn.metrics import accuracy_score\n",
    "\n",
    "# Separate features and target\n",
    "X = df.drop('Activity', axis=1)\n",
    "y = df['Activity']\n",
    "\n",
    "le = LabelEncoder()\n",
    "y = le.fit_transform(y)\n",
    "\n",
    "X_train, X_test, y_train, y_test = train_test_split(X, y, test_size=0.2, random_state=42)\n"
   ]
  },
  {
   "cell_type": "code",
   "execution_count": 76,
   "id": "dc73eaf2-fac2-4f04-b0a9-f07f8698c080",
   "metadata": {},
   "outputs": [
    {
     "name": "stdout",
     "output_type": "stream",
     "text": [
      "(5881, 561)\n",
      "(1471, 561)\n"
     ]
    }
   ],
   "source": [
    "print(X_train.shape)\n",
    "print(X_test.shape)"
   ]
  },
  {
   "cell_type": "code",
   "execution_count": 77,
   "id": "6f25e711-76a8-46a1-92f6-d66ca3292fc3",
   "metadata": {},
   "outputs": [],
   "source": [
    "def get_duplicate_columns(df):\n",
    "    \n",
    "    duplicate_columns = {}\n",
    "    seen_columns = {}\n",
    "\n",
    "    for column in df.columns:\n",
    "        current_column = df[column]\n",
    "\n",
    "        # Convert column data to bytes\n",
    "        try:\n",
    "            current_column_hash = current_column.values.tobytes()\n",
    "        except AttributeError:\n",
    "            current_column_hash = current_column.to_string().encode()\n",
    "\n",
    "        if current_column_hash in seen_columns:\n",
    "            if seen_columns[current_column_hash] in duplicate_columns:\n",
    "                duplicate_columns[seen_columns[current_column_hash]].append(column)\n",
    "            else:\n",
    "                duplicate_columns[seen_columns[current_column_hash]] = [column]\n",
    "        else:\n",
    "            seen_columns[current_column_hash] = column\n",
    "\n",
    "    return duplicate_columns\n"
   ]
  },
  {
   "cell_type": "code",
   "execution_count": 78,
   "id": "54c0d4ca-361f-4a6f-ade4-cd09735d542e",
   "metadata": {},
   "outputs": [],
   "source": [
    "\n",
    "duplicate_columns = get_duplicate_columns(X_train)"
   ]
  },
  {
   "cell_type": "code",
   "execution_count": 79,
   "id": "d50b6569-401c-4a7d-8822-0e1d1e7c5438",
   "metadata": {},
   "outputs": [
    {
     "data": {
      "text/plain": [
       "{'tBodyAccMag-mean()': ['tBodyAccMag-sma()',\n",
       "  'tGravityAccMag-mean()',\n",
       "  'tGravityAccMag-sma()'],\n",
       " 'tBodyAccMag-std()': ['tGravityAccMag-std()'],\n",
       " 'tBodyAccMag-mad()': ['tGravityAccMag-mad()'],\n",
       " 'tBodyAccMag-max()': ['tGravityAccMag-max()'],\n",
       " 'tBodyAccMag-min()': ['tGravityAccMag-min()'],\n",
       " 'tBodyAccMag-energy()': ['tGravityAccMag-energy()'],\n",
       " 'tBodyAccMag-iqr()': ['tGravityAccMag-iqr()'],\n",
       " 'tBodyAccMag-entropy()': ['tGravityAccMag-entropy()'],\n",
       " 'tBodyAccMag-arCoeff()1': ['tGravityAccMag-arCoeff()1'],\n",
       " 'tBodyAccMag-arCoeff()2': ['tGravityAccMag-arCoeff()2'],\n",
       " 'tBodyAccMag-arCoeff()3': ['tGravityAccMag-arCoeff()3'],\n",
       " 'tBodyAccMag-arCoeff()4': ['tGravityAccMag-arCoeff()4'],\n",
       " 'tBodyAccJerkMag-mean()': ['tBodyAccJerkMag-sma()'],\n",
       " 'tBodyGyroMag-mean()': ['tBodyGyroMag-sma()'],\n",
       " 'tBodyGyroJerkMag-mean()': ['tBodyGyroJerkMag-sma()'],\n",
       " 'fBodyAccMag-mean()': ['fBodyAccMag-sma()'],\n",
       " 'fBodyBodyAccJerkMag-mean()': ['fBodyBodyAccJerkMag-sma()'],\n",
       " 'fBodyBodyGyroMag-mean()': ['fBodyBodyGyroMag-sma()'],\n",
       " 'fBodyBodyGyroJerkMag-mean()': ['fBodyBodyGyroJerkMag-sma()']}"
      ]
     },
     "execution_count": 79,
     "metadata": {},
     "output_type": "execute_result"
    }
   ],
   "source": [
    "\n",
    "duplicate_columns"
   ]
  },
  {
   "cell_type": "code",
   "execution_count": 80,
   "id": "0caf8779-3d3e-439c-8aeb-83fe27ec8d00",
   "metadata": {},
   "outputs": [
    {
     "data": {
      "text/html": [
       "<div>\n",
       "<style scoped>\n",
       "    .dataframe tbody tr th:only-of-type {\n",
       "        vertical-align: middle;\n",
       "    }\n",
       "\n",
       "    .dataframe tbody tr th {\n",
       "        vertical-align: top;\n",
       "    }\n",
       "\n",
       "    .dataframe thead th {\n",
       "        text-align: right;\n",
       "    }\n",
       "</style>\n",
       "<table border=\"1\" class=\"dataframe\">\n",
       "  <thead>\n",
       "    <tr style=\"text-align: right;\">\n",
       "      <th></th>\n",
       "      <th>tBodyAccMag-mean()</th>\n",
       "      <th>tBodyAccMag-sma()</th>\n",
       "      <th>tGravityAccMag-mean()</th>\n",
       "      <th>tGravityAccMag-sma()</th>\n",
       "    </tr>\n",
       "  </thead>\n",
       "  <tbody>\n",
       "    <tr>\n",
       "      <th>57</th>\n",
       "      <td>-0.997420</td>\n",
       "      <td>-0.997420</td>\n",
       "      <td>-0.997420</td>\n",
       "      <td>-0.997420</td>\n",
       "    </tr>\n",
       "    <tr>\n",
       "      <th>4154</th>\n",
       "      <td>-0.133797</td>\n",
       "      <td>-0.133797</td>\n",
       "      <td>-0.133797</td>\n",
       "      <td>-0.133797</td>\n",
       "    </tr>\n",
       "    <tr>\n",
       "      <th>6945</th>\n",
       "      <td>0.130528</td>\n",
       "      <td>0.130528</td>\n",
       "      <td>0.130528</td>\n",
       "      <td>0.130528</td>\n",
       "    </tr>\n",
       "    <tr>\n",
       "      <th>527</th>\n",
       "      <td>-0.955222</td>\n",
       "      <td>-0.955222</td>\n",
       "      <td>-0.955222</td>\n",
       "      <td>-0.955222</td>\n",
       "    </tr>\n",
       "    <tr>\n",
       "      <th>4196</th>\n",
       "      <td>-0.992499</td>\n",
       "      <td>-0.992499</td>\n",
       "      <td>-0.992499</td>\n",
       "      <td>-0.992499</td>\n",
       "    </tr>\n",
       "    <tr>\n",
       "      <th>...</th>\n",
       "      <td>...</td>\n",
       "      <td>...</td>\n",
       "      <td>...</td>\n",
       "      <td>...</td>\n",
       "    </tr>\n",
       "    <tr>\n",
       "      <th>5191</th>\n",
       "      <td>-0.372758</td>\n",
       "      <td>-0.372758</td>\n",
       "      <td>-0.372758</td>\n",
       "      <td>-0.372758</td>\n",
       "    </tr>\n",
       "    <tr>\n",
       "      <th>5226</th>\n",
       "      <td>-0.256033</td>\n",
       "      <td>-0.256033</td>\n",
       "      <td>-0.256033</td>\n",
       "      <td>-0.256033</td>\n",
       "    </tr>\n",
       "    <tr>\n",
       "      <th>5390</th>\n",
       "      <td>-0.434138</td>\n",
       "      <td>-0.434138</td>\n",
       "      <td>-0.434138</td>\n",
       "      <td>-0.434138</td>\n",
       "    </tr>\n",
       "    <tr>\n",
       "      <th>860</th>\n",
       "      <td>-0.983969</td>\n",
       "      <td>-0.983969</td>\n",
       "      <td>-0.983969</td>\n",
       "      <td>-0.983969</td>\n",
       "    </tr>\n",
       "    <tr>\n",
       "      <th>7270</th>\n",
       "      <td>-0.200163</td>\n",
       "      <td>-0.200163</td>\n",
       "      <td>-0.200163</td>\n",
       "      <td>-0.200163</td>\n",
       "    </tr>\n",
       "  </tbody>\n",
       "</table>\n",
       "<p>5881 rows × 4 columns</p>\n",
       "</div>"
      ],
      "text/plain": [
       "      tBodyAccMag-mean()  tBodyAccMag-sma()  tGravityAccMag-mean()  \\\n",
       "57             -0.997420          -0.997420              -0.997420   \n",
       "4154           -0.133797          -0.133797              -0.133797   \n",
       "6945            0.130528           0.130528               0.130528   \n",
       "527            -0.955222          -0.955222              -0.955222   \n",
       "4196           -0.992499          -0.992499              -0.992499   \n",
       "...                  ...                ...                    ...   \n",
       "5191           -0.372758          -0.372758              -0.372758   \n",
       "5226           -0.256033          -0.256033              -0.256033   \n",
       "5390           -0.434138          -0.434138              -0.434138   \n",
       "860            -0.983969          -0.983969              -0.983969   \n",
       "7270           -0.200163          -0.200163              -0.200163   \n",
       "\n",
       "      tGravityAccMag-sma()  \n",
       "57               -0.997420  \n",
       "4154             -0.133797  \n",
       "6945              0.130528  \n",
       "527              -0.955222  \n",
       "4196             -0.992499  \n",
       "...                    ...  \n",
       "5191             -0.372758  \n",
       "5226             -0.256033  \n",
       "5390             -0.434138  \n",
       "860              -0.983969  \n",
       "7270             -0.200163  \n",
       "\n",
       "[5881 rows x 4 columns]"
      ]
     },
     "execution_count": 80,
     "metadata": {},
     "output_type": "execute_result"
    }
   ],
   "source": [
    "\n",
    "X_train[['tBodyAccMag-mean()','tBodyAccMag-sma()','tGravityAccMag-mean()','tGravityAccMag-sma()']]"
   ]
  },
  {
   "cell_type": "code",
   "execution_count": 81,
   "id": "fd2d8b97-49c8-4b95-b0a1-994f5a08cc32",
   "metadata": {},
   "outputs": [],
   "source": [
    "for one_list in duplicate_columns.values():\n",
    "    X_train.drop(columns=one_list,inplace=True)\n",
    "    X_test.drop(columns=one_list,inplace=True)"
   ]
  },
  {
   "cell_type": "code",
   "execution_count": 82,
   "id": "6cb1cc07-01b7-4ce7-822a-a7ea8562aa76",
   "metadata": {},
   "outputs": [
    {
     "name": "stdout",
     "output_type": "stream",
     "text": [
      "(5881, 540)\n",
      "(1471, 540)\n"
     ]
    }
   ],
   "source": [
    "print(X_train.shape)\n",
    "print(X_test.shape)"
   ]
  },
  {
   "cell_type": "markdown",
   "id": "ae05d607-8bec-4c18-9de4-92af9914bbce",
   "metadata": {},
   "source": [
    "## Variance Threshold"
   ]
  },
  {
   "cell_type": "code",
   "execution_count": null,
   "id": "0cab3aee-da32-4374-80b2-402ea081250a",
   "metadata": {},
   "outputs": [],
   "source": [
    " "
   ]
  }
 ],
 "metadata": {
  "kernelspec": {
   "display_name": "Python 3 (ipykernel)",
   "language": "python",
   "name": "python3"
  },
  "language_info": {
   "codemirror_mode": {
    "name": "ipython",
    "version": 3
   },
   "file_extension": ".py",
   "mimetype": "text/x-python",
   "name": "python",
   "nbconvert_exporter": "python",
   "pygments_lexer": "ipython3",
   "version": "3.12.2"
  }
 },
 "nbformat": 4,
 "nbformat_minor": 5
}
