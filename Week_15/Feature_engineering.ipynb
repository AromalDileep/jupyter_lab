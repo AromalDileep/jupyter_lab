{
 "cells": [
  {
   "cell_type": "markdown",
   "id": "b04a5040-8401-4376-b978-4902c829ae2b",
   "metadata": {},
   "source": [
    "### **Feature Engineering Techniques in Machine Learning**\n",
    "\n",
    "**Definition**:  \n",
    "Feature engineering is the process of transforming raw data into features (input variables) that improve the performance of machine learning models. Good feature engineering enhances the model's ability to learn patterns from data effectively.\n",
    "\n",
    "---\n",
    "\n",
    "### **Key Techniques in Feature Engineering**\n",
    "Here are the most common techniques explained simply:\n",
    "\n",
    "---\n",
    "\n",
    "#### **1. Handling Missing Values**\n",
    "   - **Description**: Replace or remove missing values in the dataset to ensure model accuracy.\n",
    "   - **Techniques**:\n",
    "     - Replace with **mean**, **median**, or **mode**.\n",
    "     - Use advanced techniques like **KNN imputation**.\n",
    "     - Drop rows or columns with many missing values.\n",
    "\n",
    "   **Example (Python)**:\n",
    "   ```python\n",
    "   "
   ]
  },
  {
   "cell_type": "code",
   "execution_count": 22,
   "id": "ad1f5fb1-6d38-4296-a88f-71678222896b",
   "metadata": {},
   "outputs": [
    {
     "name": "stdout",
     "output_type": "stream",
     "text": [
      "   Feature1  Feature2\n",
      "0  1.000000       5.0\n",
      "1  2.000000       NaN\n",
      "2  2.333333       7.0\n",
      "3  4.000000       8.0\n"
     ]
    }
   ],
   "source": [
    "   import pandas as pd\n",
    "   import numpy as np\n",
    "\n",
    "   # Create sample data\n",
    "   data = {'Feature1': [1, 2, np.nan, 4], 'Feature2': [5, np.nan, 7, 8]}\n",
    "   df = pd.DataFrame(data)\n",
    "\n",
    "   # Fill missing values with mean\n",
    "   df['Feature1'] = df['Feature1'].fillna(df['Feature1'].mean())\n",
    "   print(df)\n",
    "   \n",
    "   "
   ]
  },
  {
   "cell_type": "markdown",
   "id": "74f412a7-06a0-4b07-a5c1-1f0ff7f43c39",
   "metadata": {},
   "source": [
    "---\n",
    "\n",
    "#### **2. Encoding Categorical Variables**\n",
    "   - **Description**: Convert categorical data into numerical values since ML models work with numbers.\n",
    "   - **Techniques**:\n",
    "     - **One-Hot Encoding**: Create binary columns for each category.\n",
    "     - **Label Encoding**: Assign a unique number to each category.\n",
    "\n",
    "   **Example (Python)**:\n",
    "   ```python\n",
    "   "
   ]
  },
  {
   "cell_type": "code",
   "execution_count": 24,
   "id": "0af3bbab-2579-4f9b-8ca2-ff46240ff015",
   "metadata": {},
   "outputs": [
    {
     "name": "stdout",
     "output_type": "stream",
     "text": [
      "  (0, 2)\t1.0\n",
      "  (1, 0)\t1.0\n",
      "  (2, 1)\t1.0\n"
     ]
    }
   ],
   "source": [
    "   from sklearn.preprocessing import OneHotEncoder\n",
    "   import pandas as pd\n",
    "\n",
    "   # Sample data\n",
    "   data = {'Color': ['Red', 'Blue', 'Green']}\n",
    "   df = pd.DataFrame(data)\n",
    "\n",
    "   # One-hot encoding\n",
    "   encoder = OneHotEncoder()\n",
    "   encoded = encoder.fit_transform(df[['Color']])\n",
    "   print(encoded)"
   ]
  },
  {
   "cell_type": "markdown",
   "id": "bfb9a17d-1650-4a43-8ab5-08a76e88c5dd",
   "metadata": {},
   "source": [
    "---\n",
    "\n",
    "#### **3. Feature Scaling**\n",
    "   - **Description**: Normalize or standardize features to ensure all are on the same scale.\n",
    "   - **Techniques**:\n",
    "     - **Min-Max Scaling**: Scales values between 0 and 1.\n",
    "     - **Standardization**: Converts data to have a mean of 0 and standard deviation of 1.\n",
    "\n",
    "   **Example (Python)**:\n",
    "   ```python\n",
    "   "
   ]
  },
  {
   "cell_type": "code",
   "execution_count": 26,
   "id": "0abf5d7a-908d-4d12-bbfb-c6343df438de",
   "metadata": {},
   "outputs": [
    {
     "name": "stdout",
     "output_type": "stream",
     "text": [
      "[[0.        ]\n",
      " [0.47368421]\n",
      " [1.        ]]\n"
     ]
    }
   ],
   "source": [
    "   from sklearn.preprocessing import MinMaxScaler\n",
    "   import numpy as np\n",
    "\n",
    "   # Sample data\n",
    "   data = np.array([[1], [10], [20]])\n",
    "\n",
    "   # Min-Max Scaling\n",
    "   scaler = MinMaxScaler()\n",
    "   scaled_data = scaler.fit_transform(data)\n",
    "   print(scaled_data)"
   ]
  },
  {
   "cell_type": "markdown",
   "id": "162bab6b-47cc-4565-bf2d-072f886846ea",
   "metadata": {},
   "source": [
    "---\n",
    "\n",
    "#### **4. Creating Interaction Features**\n",
    "   - **Description**: Combine two or more features to create new ones, often capturing relationships.\n",
    "   - **Example**: For a dataset with `length` and `width`, a new feature `area = length * width` can be created.\n",
    "\n",
    "   **Example (Python)**:\n",
    "   "
   ]
  },
  {
   "cell_type": "code",
   "execution_count": 28,
   "id": "e437e87a-0ad8-4762-b34d-5c5e288a9392",
   "metadata": {},
   "outputs": [
    {
     "name": "stdout",
     "output_type": "stream",
     "text": [
      "   Length  Width  Area\n",
      "0       2      4     8\n",
      "1       3      5    15\n"
     ]
    }
   ],
   "source": [
    "   import pandas as pd\n",
    "\n",
    "   # Sample data\n",
    "   df = pd.DataFrame({'Length': [2, 3], 'Width': [4, 5]})\n",
    "   df['Area'] = df['Length'] * df['Width']\n",
    "   print(df)\n",
    "   "
   ]
  },
  {
   "cell_type": "markdown",
   "id": "743a799d-d240-43ee-a425-9c6cbb41fb96",
   "metadata": {},
   "source": [
    "---\n",
    "\n",
    "#### **5. Polynomial Features**\n",
    "   - **Description**: Create higher-order features to capture non-linear relationships.\n",
    "   - **Example**: For a feature `x`, generate `x^2`, `x^3`, etc.\n",
    "\n",
    "   **Example (Python)**:\n",
    "   ```python\n",
    "   "
   ]
  },
  {
   "cell_type": "code",
   "execution_count": 30,
   "id": "dded3f6c-f157-44d5-b426-31c418205abf",
   "metadata": {},
   "outputs": [
    {
     "name": "stdout",
     "output_type": "stream",
     "text": [
      "[[1. 2. 4.]\n",
      " [1. 3. 9.]]\n"
     ]
    }
   ],
   "source": [
    "   from sklearn.preprocessing import PolynomialFeatures\n",
    "\n",
    "   # Sample data\n",
    "   data = [[2], [3]]\n",
    "   poly = PolynomialFeatures(degree=2)\n",
    "   poly_features = poly.fit_transform(data)\n",
    "   print(poly_features)"
   ]
  },
  {
   "cell_type": "markdown",
   "id": "8548eea3-eea3-47d6-8dab-af44a958b0ea",
   "metadata": {},
   "source": [
    "---\n",
    "\n",
    "#### **6. Feature Binning**\n",
    "   - **Description**: Group continuous variables into discrete bins to reduce variability and enhance interpretability.\n",
    "   - **Example**: Convert ages into groups like `child`, `adult`, `senior`.\n",
    "\n",
    "   **Example (Python)**:\n",
    "   "
   ]
  },
  {
   "cell_type": "code",
   "execution_count": 32,
   "id": "242b1f72-02bf-4778-b7e4-90b4beb9da9d",
   "metadata": {},
   "outputs": [
    {
     "name": "stdout",
     "output_type": "stream",
     "text": [
      "   Age AgeGroup\n",
      "0   12    Child\n",
      "1   25    Adult\n",
      "2   40    Adult\n",
      "3   70   Senior\n"
     ]
    }
   ],
   "source": [
    "   \n",
    "   import pandas as pd\n",
    "\n",
    "   # Sample data\n",
    "   df = pd.DataFrame({'Age': [12, 25, 40, 70]})\n",
    "   df['AgeGroup'] = pd.cut(df['Age'], bins=[0, 18, 60, 100], labels=['Child', 'Adult', 'Senior'])\n",
    "   print(df)"
   ]
  },
  {
   "cell_type": "markdown",
   "id": "e38806fd-b124-4a4f-a0d8-4f142248ab64",
   "metadata": {},
   "source": [
    "---\n",
    "\n",
    "#### **7. Log Transformations**\n",
    "   - **Description**: Apply a logarithmic transformation to reduce skewness in distributions.\n",
    "   - **Use Case**: Helpful for features with exponential growth (e.g., income, population).\n",
    "\n",
    "   **Example (Python)**:\n",
    "   "
   ]
  },
  {
   "cell_type": "code",
   "execution_count": 34,
   "id": "33e7006c-d233-4167-bd9f-d9bb616e812b",
   "metadata": {},
   "outputs": [
    {
     "name": "stdout",
     "output_type": "stream",
     "text": [
      "[0.         2.30258509 4.60517019 6.90775528]\n"
     ]
    }
   ],
   "source": [
    "   import numpy as np\n",
    "\n",
    "   # Sample data\n",
    "   data = [1, 10, 100, 1000]\n",
    "   log_data = np.log(data)\n",
    "   print(log_data)"
   ]
  },
  {
   "cell_type": "markdown",
   "id": "78875cd8-fecd-4624-90a3-ce7d4c73aee3",
   "metadata": {},
   "source": [
    "---\n",
    "\n",
    "#### **8. Feature Selection**\n",
    "   - **Description**: Identify and retain only the most important features for modeling.\n",
    "   - **Techniques**:\n",
    "     - **Filter methods**: Use correlation or statistical tests.\n",
    "     - **Wrapper methods**: Use Recursive Feature Elimination (RFE).\n",
    "     - **Embedded methods**: Use models like Lasso Regression.\n",
    "\n",
    "   **Example**:\n",
    "   Check [Recursive Feature Elimination](https://openai.com) example above.\n",
    "\n",
    "---\n",
    "\n",
    "#### **9. Dimensionality Reduction**\n",
    "   - **Description**: Reduce the number of features while preserving information.\n",
    "   - **Techniques**:\n",
    "     - Principal Component Analysis (PCA).\n",
    "     - t-SNE for visualization.\n",
    "\n",
    "   **Example (Python)**:\n",
    "   "
   ]
  },
  {
   "cell_type": "code",
   "execution_count": 36,
   "id": "cce1a2ec-da99-434b-8d61-6fb6366d1472",
   "metadata": {},
   "outputs": [
    {
     "name": "stdout",
     "output_type": "stream",
     "text": [
      "[[-5.19615242e+00  6.24556048e-17]\n",
      " [ 0.00000000e+00 -0.00000000e+00]\n",
      " [ 5.19615242e+00  6.24556048e-17]]\n"
     ]
    }
   ],
   "source": [
    "   from sklearn.decomposition import PCA\n",
    "   import numpy as np\n",
    "\n",
    "   # Sample data\n",
    "   data = np.array([[1, 2, 3], [4, 5, 6], [7, 8, 9]])\n",
    "\n",
    "   # Apply PCA\n",
    "   pca = PCA(n_components=2)\n",
    "   reduced_data = pca.fit_transform(data)\n",
    "   print(reduced_data)"
   ]
  },
  {
   "cell_type": "markdown",
   "id": "8cf95cdd-d910-4555-ab0f-69ac1832218a",
   "metadata": {},
   "source": [
    "---\n",
    "\n",
    "### **Summary Table**\n",
    "| **Technique**              | **Goal**                                   | **Example**                       |\n",
    "|----------------------------|-------------------------------------------|-----------------------------------|\n",
    "| Handling Missing Values    | Handle incomplete data.                   | Fill NaN with mean/median/mode.  |\n",
    "| Encoding Categorical       | Convert categories into numbers.          | One-Hot Encoding.                |\n",
    "| Feature Scaling            | Normalize feature values.                 | Min-Max Scaling.                 |\n",
    "| Creating Interaction       | Combine features to capture relationships.| Area = Length × Width.           |\n",
    "| Polynomial Features        | Capture non-linear patterns.              | Add `x^2`, `x^3`, etc.           |\n",
    "| Feature Binning            | Convert continuous to discrete groups.    | Age bins (Child, Adult, Senior). |\n",
    "| Log Transformations        | Reduce skewness in distributions.         | Log of income.                   |\n",
    "| Feature Selection          | Choose most relevant features.            | RFE, correlation.                |\n",
    "| Dimensionality Reduction   | Reduce feature space.                     | PCA.                             |\n",
    "\n",
    "Would you like more explanation or code on any of these techniques?"
   ]
  },
  {
   "cell_type": "code",
   "execution_count": null,
   "id": "4c258ee1-be1d-41ab-81b0-9639ab5d265b",
   "metadata": {},
   "outputs": [],
   "source": []
  }
 ],
 "metadata": {
  "kernelspec": {
   "display_name": "Python 3 (ipykernel)",
   "language": "python",
   "name": "python3"
  },
  "language_info": {
   "codemirror_mode": {
    "name": "ipython",
    "version": 3
   },
   "file_extension": ".py",
   "mimetype": "text/x-python",
   "name": "python",
   "nbconvert_exporter": "python",
   "pygments_lexer": "ipython3",
   "version": "3.12.2"
  }
 },
 "nbformat": 4,
 "nbformat_minor": 5
}
