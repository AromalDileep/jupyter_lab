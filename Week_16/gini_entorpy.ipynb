{
 "cells": [
  {
   "cell_type": "markdown",
   "id": "ebd1395f-bfe0-44e0-8b9b-7c4502c989ad",
   "metadata": {},
   "source": [
    "I'll provide the mathematical formulas for Gini Impurity and Entropy, which are commonly used in decision tree algorithms for measuring data impurity and information gain.\n",
    "\n",
    "1. Gini Impurity Formula:\n",
    "\n",
    "$Gini Impurity = 1 - Σ(p_i)²$\n",
    "\n",
    "Where:\n",
    "- $p_i$ is the probability of an item with class i being chosen\n",
    "- Σ represents the sum over all classes\n",
    "- Ranges from 0 (pure node) to 0.5 (maximum impurity for binary classification)\n",
    "\n",
    "Example calculation for a binary classification:\n",
    "- If a node has 60% class A and 40% class B\n",
    "- Gini = 1 - [(0.6)² + (0.4)²]\n",
    "- Gini = 1 - [0.36 + 0.16]\n",
    "- Gini = 1 - 0.52 = 0.48\n",
    "\n",
    "2. Entropy Formula:\n",
    "\n",
    "$Entropy = -Σ(p_i * log₂(p_i))$\n",
    "\n",
    "Where:\n",
    "- $p_i$ is the probability of an item with class i\n",
    "- log₂ is the logarithm base 2\n",
    "- Ranges from 0 (pure node) to 1 (maximum impurity)\n",
    "\n",
    "Example calculation for a binary classification:\n",
    "- If a node has 60% class A and 40% class B\n",
    "- Entropy = -[(0.6 * log₂(0.6)) + (0.4 * log₂(0.4))]\n",
    "- Entropy ≈ 0.971\n",
    "\n",
    "Key Differences:\n",
    "- Gini Impurity is computationally simpler (no logarithm)\n",
    "- Entropy provides a more detailed measure of impurity\n",
    "- Both aim to measure how mixed the classes are in a node\n",
    "\n",
    "In decision trees:\n",
    "- Lower impurity indicates a better split\n",
    "- The goal is to choose splits that minimize impurity"
   ]
  }
 ],
 "metadata": {
  "kernelspec": {
   "display_name": "Python 3 (ipykernel)",
   "language": "python",
   "name": "python3"
  },
  "language_info": {
   "codemirror_mode": {
    "name": "ipython",
    "version": 3
   },
   "file_extension": ".py",
   "mimetype": "text/x-python",
   "name": "python",
   "nbconvert_exporter": "python",
   "pygments_lexer": "ipython3",
   "version": "3.12.2"
  }
 },
 "nbformat": 4,
 "nbformat_minor": 5
}
