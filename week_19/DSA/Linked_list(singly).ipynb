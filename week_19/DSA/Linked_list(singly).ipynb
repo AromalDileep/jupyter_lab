{
 "cells": [
  {
   "cell_type": "code",
   "execution_count": 14,
   "id": "d6f47297-9ec0-4f5a-95af-ae1a4e52e314",
   "metadata": {},
   "outputs": [
    {
     "name": "stdout",
     "output_type": "stream",
     "text": [
      "1-->2-->3-->4-->none\n"
     ]
    }
   ],
   "source": [
    "class Node:\n",
    "    def __init__(self, data):\n",
    "        self.data = data\n",
    "        self.next = None \n",
    "        self.prev = None\n",
    "\n",
    "class SinglyLinkedList: \n",
    "    def __init__(self): \n",
    "        self.head = None \n",
    "\n",
    "    def append(self, data):\n",
    "        new_node = Node(data)\n",
    "        if self.head is None:\n",
    "            self.head = new_node\n",
    "            return\n",
    "        \n",
    "        current = self.head \n",
    "        while current.next: \n",
    "            current = current.next\n",
    "        current.next = new_node\n",
    "\n",
    "    def display(self):\n",
    "        if self.head is None:\n",
    "            return 'list is empty'\n",
    "        current = self.head\n",
    "        while current:\n",
    "            print(current.data, end='-->')\n",
    "            current = current.next \n",
    "        print('none')\n",
    "\n",
    "sl = SinglyLinkedList()\n",
    "sl.append(1)\n",
    "sl.append(2)\n",
    "sl.append(3)\n",
    "sl.append(4)\n",
    "sl.display()"
   ]
  },
  {
   "cell_type": "code",
   "execution_count": 18,
   "id": "02f72b9a-173d-440e-ba0b-5399b0cf848b",
   "metadata": {},
   "outputs": [
    {
     "name": "stdout",
     "output_type": "stream",
     "text": [
      "1-->2-->4-->5-->none\n"
     ]
    }
   ],
   "source": [
    "class Node:\n",
    "    def __init__(self, data):\n",
    "        self.data = data\n",
    "        self.next = None \n",
    "        self.prev = None\n",
    "\n",
    "class DoublyLinkedList: \n",
    "    def __init__(self): \n",
    "        self.head = None \n",
    "\n",
    "    def append(self, data):\n",
    "        new_node = Node(data)\n",
    "        if self.head is None:\n",
    "            self.head = new_node\n",
    "            return\n",
    "        \n",
    "        current = self.head \n",
    "        while current.next: \n",
    "            current = current.next\n",
    "        current.next = new_node\n",
    "        new_node.prev = current\n",
    "        \n",
    "    def prepend(self, data):\n",
    "        new_node = Node(data)\n",
    "        if self.head is None:\n",
    "            self.head = new_node\n",
    "            return\n",
    "        new_node.next = self.head\n",
    "        self.head.prev = new_node\n",
    "        self.head = new_node\n",
    "\n",
    "\n",
    "        \n",
    "    def display(self):\n",
    "        if self.head is None:\n",
    "            return 'list is empty'\n",
    "        current = self.head\n",
    "        while current:\n",
    "            print(current.data, end='-->')\n",
    "            current = current.next \n",
    "        print('none')\n",
    "\n",
    "dl = DoublyLinkedList()\n",
    "dl.append(1)\n",
    "dl.append(2)\n",
    "dl.append(4)\n",
    "dl.append(5)\n",
    "dl.display()"
   ]
  },
  {
   "cell_type": "code",
   "execution_count": null,
   "id": "fdc8f338-d1b2-458a-9fa8-7d2dbd4e6084",
   "metadata": {},
   "outputs": [],
   "source": []
  }
 ],
 "metadata": {
  "kernelspec": {
   "display_name": "Python 3 (ipykernel)",
   "language": "python",
   "name": "python3"
  },
  "language_info": {
   "codemirror_mode": {
    "name": "ipython",
    "version": 3
   },
   "file_extension": ".py",
   "mimetype": "text/x-python",
   "name": "python",
   "nbconvert_exporter": "python",
   "pygments_lexer": "ipython3",
   "version": "3.12.3"
  }
 },
 "nbformat": 4,
 "nbformat_minor": 5
}
