{
 "cells": [
  {
   "cell_type": "markdown",
   "id": "ff938f4a-7401-4c11-90d9-bbf9c66e2aba",
   "metadata": {},
   "source": [
    "### **Bayes' Theorem Explanation**\n",
    "Bayes' Theorem describes the probability of an event based on prior knowledge of related conditions. It is mathematically expressed as:\n",
    "\n",
    "$\n",
    "P(A|B) = \\frac{P(B|A) P(A)}{P(B)}\n",
    "$\n",
    "\n",
    "where:\n",
    "\n",
    "- $ P(A|B) $ is the **posterior probability** (probability of $ A $ given that $ B $ has occurred).\n",
    "- $ P(B|A) $ is the **likelihood** (probability of $ B $ given that $ A $ is true).\n",
    "- $ P(A) $ is the **prior probability** (initial probability of $ A $ before observing $ B $).\n",
    "- $ P(B) $ is the **marginal probability** (overall probability of $ B $, which can be calculated as $ P(B) = P(B|A)P(A) + P(B|\\neg A)P(\\neg A) $).\n",
    "\n",
    "---\n",
    "\n",
    "### **Example of Bayes' Theorem in Machine Learning**\n",
    "One of the most common applications of Bayes' Theorem in machine learning is in **Naïve Bayes Classifier**, which is used for classification tasks such as spam detection, sentiment analysis, and medical diagnosis.\n",
    "\n",
    "#### **Example: Spam Detection**\n",
    "Suppose we want to classify an email as spam ($ S $) or not spam ($ \\neg S $) based on whether it contains the word \"offer\" ($ W $).\n",
    "\n",
    "Using Bayes' Theorem:\n",
    "\n",
    "$\n",
    "P(S|W) = \\frac{P(W|S) P(S)}{P(W)}\n",
    "$\n",
    "\n",
    "where:\n",
    "\n",
    "- $ P(S|W) $ is the probability that an email is spam given that it contains the word \"offer\".\n",
    "- $ P(W|S) $ is the probability that the word \"offer\" appears in a spam email.\n",
    "- $ P(S) $ is the prior probability that an email is spam (before checking the word \"offer\").\n",
    "- $ P(W) $ is the probability that any email contains the word \"offer\".\n",
    "\n",
    "#### **Steps to Use Bayes' Theorem in Spam Classification**\n",
    "1. **Collect Data:** Train the model on a dataset of emails labeled as spam or not spam.\n",
    "2. **Calculate Probabilities:**\n",
    " \n",
    "   - $ P(W|S) $: Fraction of spam emails that contain \"offer\".\n",
    "   - $ P(W|\\neg S) $: Fraction of non-spam emails that contain \"offer\".\n",
    "   - $ P(S) $: Probability of an email being spam in the dataset.\n",
    "   - $ P(W) $: Probability of \"offer\" appearing in any email.\n",
    "    \n",
    "3. **Apply Bayes' Theorem:** Compute $ P(S|W) $ to determine how likely an email is spam given that it contains \"offer\".\n",
    "4. **Make a Decision:** If $ P(S|W) $ exceeds a certain threshold, classify the email as spam; otherwise, classify it as not spam.\n",
    "\n",
    "---\n",
    "\n",
    "### **Why is Bayes' Theorem Useful in Machine Learning?**\n",
    "- **Efficient for Large Datasets:** Naïve Bayes classifiers work well even with limited training data.\n",
    "- **Handles Missing Data:** It can still make predictions even if some features are missing.\n",
    "- **Computationally Efficient:** Requires simple probability calculations, making it fast.\n",
    "\n"
   ]
  }
 ],
 "metadata": {
  "kernelspec": {
   "display_name": "Python [conda env:base] *",
   "language": "python",
   "name": "conda-base-py"
  },
  "language_info": {
   "codemirror_mode": {
    "name": "ipython",
    "version": 3
   },
   "file_extension": ".py",
   "mimetype": "text/x-python",
   "name": "python",
   "nbconvert_exporter": "python",
   "pygments_lexer": "ipython3",
   "version": "3.12.7"
  }
 },
 "nbformat": 4,
 "nbformat_minor": 5
}
