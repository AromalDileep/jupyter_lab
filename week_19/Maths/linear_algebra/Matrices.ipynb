{
 "cells": [
  {
   "cell_type": "markdown",
   "id": "ac06047c-e7a4-4525-86a9-a1b3c07ba561",
   "metadata": {},
   "source": [
    "\n",
    "1. **Square Matrix**: Has equal number of rows and columns (n×n)\n",
    "\n",
    "2. **Rectangular Matrix**: Has unequal number of rows and columns (m×n where m≠n)\n",
    "\n",
    "3. **Diagonal Matrix**: Square matrix where all non-diagonal elements are zero\n",
    "\n",
    "4. **Identity Matrix**: Diagonal matrix with all diagonal elements equal to 1\n",
    "\n",
    "5. **Zero/Null Matrix**: All elements are zero\n",
    "\n",
    "6. **Triangular Matrices**:\n",
    "   - **Upper Triangular**: All elements below diagonal are zero\n",
    "   - **Lower Triangular**: All elements above diagonal are zero\n",
    "\n",
    "7. **Symmetric Matrix**: Equal to its transpose (A = Aᵀ)\n",
    "\n",
    "8. **Skew-Symmetric Matrix**: Negative of its transpose (A = -Aᵀ)\n",
    "\n",
    "9. **Orthogonal Matrix**: Its transpose equals its inverse (AAᵀ = I)\n",
    "\n",
    "10. **Singular Matrix**: Non-invertible matrix with determinant zero\n",
    "\n",
    "11. **Non-Singular Matrix**: Invertible matrix with non-zero determinant\n",
    "\n",
    "12. **Idempotent Matrix**: Remains unchanged when multiplied by itself (A² = A)\n",
    "\n",
    "13. **Nilpotent Matrix**: Becomes zero when raised to some power (Aⁿ = 0)\n",
    "\n",
    "14. **Hermitian Matrix**: Equal to its conjugate transpose (A = A*)\n",
    "\n",
    "15. **Sparse Matrix**: Mostly filled with zeros\n",
    "\n",
    "16. **Dense Matrix**: Mostly filled with non-zero values\n",
    "\n",
    "17. **Toeplitz Matrix**: Elements constant along diagonals\n",
    "\n",
    "18. **Vandermonde Matrix**: Based on geometric progression"
   ]
  }
 ],
 "metadata": {
  "kernelspec": {
   "display_name": "Python [conda env:base] *",
   "language": "python",
   "name": "conda-base-py"
  },
  "language_info": {
   "codemirror_mode": {
    "name": "ipython",
    "version": 3
   },
   "file_extension": ".py",
   "mimetype": "text/x-python",
   "name": "python",
   "nbconvert_exporter": "python",
   "pygments_lexer": "ipython3",
   "version": "3.12.7"
  }
 },
 "nbformat": 4,
 "nbformat_minor": 5
}
