{
 "cells": [
  {
   "cell_type": "markdown",
   "id": "883ddff5-ce3a-4dff-a2d2-fcd778c594f6",
   "metadata": {},
   "source": [
    "# min max normalizaion"
   ]
  },
  {
   "cell_type": "code",
   "execution_count": null,
   "id": "afb6490c-485d-410c-88a0-ee884c671a63",
   "metadata": {},
   "outputs": [
    {
     "name": "stdout",
     "output_type": "stream",
     "text": [
      "Original Data:\n",
      " [[1 2]\n",
      " [2 4]\n",
      " [3 6]\n",
      " [4 8]]\n",
      "Min-Max Normalized Data:\n",
      " [[0.         0.        ]\n",
      " [0.33333333 0.33333333]\n",
      " [0.66666667 0.66666667]\n",
      " [1.         1.        ]]\n"
     ]
    }
   ],
   "source": [
    "import numpy as np\n",
    "\n",
    "# Example data\n",
    "data = np.array([[1, 2], [2, 4], [3, 6], [4, 8]])\n",
    "\n",
    "# Min-Max Normalization\n",
    "data_min = data.min(axis=0)\n",
    "data_max = data.max(axis=0)\n",
    "normalized_data = (data - data_min) / (data_max - data_min)\n",
    "\n",
    "print(\"Original Data:\\n\", data)\n",
    "print(\"Min-Max Normalized Data:\\n\", normalized_data)"
   ]
  },
  {
   "cell_type": "code",
   "execution_count": 3,
   "id": "1b9f4a37-0cd6-420f-a9cd-7a0d8c444170",
   "metadata": {},
   "outputs": [
    {
     "name": "stdout",
     "output_type": "stream",
     "text": [
      "Min-Max Normalized Data:\n",
      " [[0.         0.        ]\n",
      " [0.33333333 0.33333333]\n",
      " [0.66666667 0.66666667]\n",
      " [1.         1.        ]]\n"
     ]
    }
   ],
   "source": [
    "from sklearn.preprocessing import MinMaxScaler\n",
    "\n",
    "# Example data\n",
    "data = [[1, 2], [2, 4], [3, 6], [4, 8]]\n",
    "\n",
    "scaler = MinMaxScaler(feature_range=(0, 1))\n",
    "normalized_data = scaler.fit_transform(data)\n",
    "\n",
    "print(\"Min-Max Normalized Data:\\n\", normalized_data)\n"
   ]
  },
  {
   "cell_type": "markdown",
   "id": "f3573137-8795-4da1-bfb4-2991d70c055b",
   "metadata": {},
   "source": [
    "# Z-score normalization"
   ]
  },
  {
   "cell_type": "code",
   "execution_count": null,
   "id": "a294aba3-a9f4-4d49-b7a8-693e60bf0a9f",
   "metadata": {},
   "outputs": [
    {
     "name": "stdout",
     "output_type": "stream",
     "text": [
      "Original Data:\n",
      " [[1 2]\n",
      " [2 4]\n",
      " [3 6]\n",
      " [4 8]]\n",
      "Z-Score Normalized Data:\n",
      " [[-1.34164079 -1.34164079]\n",
      " [-0.4472136  -0.4472136 ]\n",
      " [ 0.4472136   0.4472136 ]\n",
      " [ 1.34164079  1.34164079]]\n"
     ]
    }
   ],
   "source": [
    "import numpy as np\n",
    "\n",
    "# Example data\n",
    "data = np.array([[1, 2], [2, 4], [3, 6], [4, 8]])\n",
    "\n",
    "# Z-Score Normalization\n",
    "mean = data.mean(axis=0)\n",
    "std = data.std(axis=0)\n",
    "standardized_data = (data - mean) / std\n",
    "\n",
    "print(\"Original Data:\\n\", data)\n",
    "print(\"Z-Score Normalized Data:\\n\", standardized_data)"
   ]
  },
  {
   "cell_type": "code",
   "execution_count": 21,
   "id": "0c29234d-75a1-4be8-9b64-aa953f976df5",
   "metadata": {},
   "outputs": [
    {
     "name": "stdout",
     "output_type": "stream",
     "text": [
      "Original DataFrame:\n",
      "    Feature1  Feature2\n",
      "0         1         2\n",
      "1         2         4\n",
      "2         3         6\n",
      "3         4         8\n",
      "\n",
      "Z-Score Normalized DataFrame:\n",
      "    Feature1  Feature2\n",
      "0 -1.341641 -1.341641\n",
      "1 -0.447214 -0.447214\n",
      "2  0.447214  0.447214\n",
      "3  1.341641  1.341641\n"
     ]
    }
   ],
   "source": [
    "import pandas as pd\n",
    "from sklearn.preprocessing import StandardScaler\n",
    "\n",
    "# Example DataFrame\n",
    "data = {\n",
    "    \"Feature1\": [1, 2, 3, 4],\n",
    "    \"Feature2\": [2, 4, 6, 8]\n",
    "}\n",
    "df = pd.DataFrame(data)\n",
    "\n",
    "# Initialize the StandardScaler\n",
    "scaler = StandardScaler()\n",
    "\n",
    "# Perform standardization\n",
    "standardized_data = scaler.fit_transform(df)\n",
    "\n",
    "# Convert back to a DataFrame\n",
    "standardized_df = pd.DataFrame(standardized_data, columns=df.columns)\n",
    "\n",
    "print(\"Original DataFrame:\\n\", df)\n",
    "print(\"\\nZ-Score Normalized DataFrame:\\n\", standardized_df)\n",
    "\n"
   ]
  },
  {
   "cell_type": "markdown",
   "id": "b57efef3-dab9-4f5b-ad02-f784f9b76358",
   "metadata": {},
   "source": [
    "# L2 form "
   ]
  },
  {
   "cell_type": "code",
   "execution_count": null,
   "id": "4d1e341c-93c4-4544-93f1-13dfc0dd567e",
   "metadata": {},
   "outputs": [
    {
     "name": "stdout",
     "output_type": "stream",
     "text": [
      "Original Data:\n",
      " [[1 2]\n",
      " [3 4]\n",
      " [5 6]]\n",
      "L2 Normalized Data:\n",
      " [[0.4472136  0.89442719]\n",
      " [0.6        0.8       ]\n",
      " [0.6401844  0.76822128]]\n"
     ]
    }
   ],
   "source": [
    "import numpy as np\n",
    "\n",
    "# Example data\n",
    "data = np.array([[1, 2], [3, 4], [5, 6]])\n",
    "\n",
    "# L2 Normalization\n",
    "l2_norm = np.linalg.norm(data, axis=1, keepdims=True)\n",
    "normalized_data = data / l2_norm\n",
    "\n",
    "print(\"Original Data:\\n\", data)\n",
    "print(\"L2 Normalized Data:\\n\", normalized_data)"
   ]
  },
  {
   "cell_type": "code",
   "execution_count": 13,
   "id": "6817f167-1b54-4641-8a0c-fcbd73cb3537",
   "metadata": {},
   "outputs": [
    {
     "name": "stdout",
     "output_type": "stream",
     "text": [
      "L2 Normalized Data:\n",
      " [[0.4472136  0.89442719]\n",
      " [0.6        0.8       ]\n",
      " [0.6401844  0.76822128]]\n"
     ]
    }
   ],
   "source": [
    "from sklearn.preprocessing import Normalizer\n",
    "\n",
    "# Example data\n",
    "data = [[1, 2], [3, 4], [5, 6]]\n",
    "\n",
    "normalizer = Normalizer(norm='l2')\n",
    "normalized_data = normalizer.fit_transform(data)\n",
    "\n",
    "print(\"L2 Normalized Data:\\n\", normalized_data)\n"
   ]
  },
  {
   "cell_type": "code",
   "execution_count": null,
   "id": "6c546052-1f3d-40e5-b4f9-d0a42ec7c4f3",
   "metadata": {},
   "outputs": [],
   "source": []
  }
 ],
 "metadata": {
  "kernelspec": {
   "display_name": "Python 3 (ipykernel)",
   "language": "python",
   "name": "python3"
  },
  "language_info": {
   "codemirror_mode": {
    "name": "ipython",
    "version": 3
   },
   "file_extension": ".py",
   "mimetype": "text/x-python",
   "name": "python",
   "nbconvert_exporter": "python",
   "pygments_lexer": "ipython3",
   "version": "3.12.2"
  }
 },
 "nbformat": 4,
 "nbformat_minor": 5
}
