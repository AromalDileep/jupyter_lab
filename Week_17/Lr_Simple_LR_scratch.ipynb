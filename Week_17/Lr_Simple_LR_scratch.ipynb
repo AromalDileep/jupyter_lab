{
 "cells": [
  {
   "cell_type": "markdown",
   "id": "388b1b9f-9777-495e-8bc6-43b3a551fc9d",
   "metadata": {},
   "source": [
    "\n",
    "   $\\text{Numerator} = \\sum_{i=1}^n \\left( (X_i - \\bar{X}) \\cdot (Y_i - \\bar{Y}) \\right)$\n",
    "\n",
    "   Where:\n",
    "   - $(X_i)$is the $(i)$-th value of $(X)$.\n",
    "   - $(Y_i)$ is the $(i)$-th value of $(Y)$.\n",
    "   - $(\\bar{X})$ is the mean of $(X)$.\n",
    "   - $(\\bar{Y})$ is the mean of $(Y)$.\n",
    "\n",
    "\n",
    "   $\\text{Denominator} = \\sum_{i=1}^n \\left( X_i - \\bar{X} \\right)^2$\n",
    "\n",
    "   This represents the total squared deviation of $(X)$ values from their mean.\n",
    "\n",
    "---\n",
    "\n",
    "### Combined Usage:\n",
    "The slope $(m)$abs of the regression line is calculated as:\n",
    "\n",
    "$\n",
    "m = \\frac{\\text{Numerator}}{\\text{Denominator}} = \\frac{\\sum_{i=1}^n \\left( (X_i - \\bar{X}) \\cdot (Y_i - \\bar{Y}) \\right)}{\\sum_{i=1}^n \\left( X_i - \\bar{X} \\right)^2}\n",
    "$\n",
    "\n",
    "This formula ensures that the regression line minimizes the sum of squared errors between the predicted and actual \\(Y\\)-values.\n",
    "\n",
    "---\n",
    "\n",
    "### Explanation in Context:\n",
    "The numerator measures how $(X)$ and $(Y)$ vary together (covariance), while the denominator measures how $(X)$ varies by itself (variance). By dividing the two, you get the slope of the best-fit line.\n",
    "\n",
    "---\n",
    "\n",
    "***Formula for line***\n",
    "\n",
    "$y=mx+b$\n",
    "\n",
    "$\\bar{y} = m \\cdot \\bar{x} + b$\n",
    "\n",
    "Solving for $(b)$:\n",
    "\n",
    "$b = \\bar{y} - m \\cdot \\bar{x}$\n",
    "\n",
    "\n"
   ]
  },
  {
   "cell_type": "code",
   "execution_count": 39,
   "id": "c7ac22b3-c1d1-4426-a9e7-b6cc66de0758",
   "metadata": {},
   "outputs": [],
   "source": [
    "class My_lr:\n",
    "    def __init__(self):\n",
    "        self.m = None \n",
    "        self.b = None \n",
    "\n",
    "    def fit(self, X_train, y_train): \n",
    "\n",
    "        num = 0\n",
    "        den = 0\n",
    "\n",
    "        for i in range(X_train.shape[0]): \n",
    "            num = num + ((X_train[i] - X_train.mean()) * (y_train[i] - y_train.mean())) #numerator\n",
    "            den = den +  ((X_train[i] - X_train.mean()) ** 2) # denominator\n",
    "            \n",
    "        self.m = num/den \n",
    "        self.b = y_train.mean() - (self.m * X_train.mean())\n",
    "        \n",
    "        print(self.m)\n",
    "        print(self.b)\n",
    "                                                                \n",
    "    def predict(self, X_test):\n",
    "        print('X_test: ',X_test)\n",
    "        print('predict : ', end=\"\")\n",
    "        return self.m * X_test + self.b  # y =mx+b\n",
    "        "
   ]
  },
  {
   "cell_type": "code",
   "execution_count": 40,
   "id": "5e7bc285-e837-41d6-8ad7-8f2409c44501",
   "metadata": {},
   "outputs": [],
   "source": [
    "import numpy as np \n",
    "import pandas as pd "
   ]
  },
  {
   "cell_type": "code",
   "execution_count": 41,
   "id": "2bb10b3a-51d6-4f53-86d7-f6ff70267462",
   "metadata": {},
   "outputs": [
    {
     "data": {
      "text/html": [
       "<div>\n",
       "<style scoped>\n",
       "    .dataframe tbody tr th:only-of-type {\n",
       "        vertical-align: middle;\n",
       "    }\n",
       "\n",
       "    .dataframe tbody tr th {\n",
       "        vertical-align: top;\n",
       "    }\n",
       "\n",
       "    .dataframe thead th {\n",
       "        text-align: right;\n",
       "    }\n",
       "</style>\n",
       "<table border=\"1\" class=\"dataframe\">\n",
       "  <thead>\n",
       "    <tr style=\"text-align: right;\">\n",
       "      <th></th>\n",
       "      <th>cgpa</th>\n",
       "      <th>package</th>\n",
       "    </tr>\n",
       "  </thead>\n",
       "  <tbody>\n",
       "    <tr>\n",
       "      <th>0</th>\n",
       "      <td>6.89</td>\n",
       "      <td>3.26</td>\n",
       "    </tr>\n",
       "    <tr>\n",
       "      <th>1</th>\n",
       "      <td>5.12</td>\n",
       "      <td>1.98</td>\n",
       "    </tr>\n",
       "  </tbody>\n",
       "</table>\n",
       "</div>"
      ],
      "text/plain": [
       "   cgpa  package\n",
       "0  6.89     3.26\n",
       "1  5.12     1.98"
      ]
     },
     "execution_count": 41,
     "metadata": {},
     "output_type": "execute_result"
    }
   ],
   "source": [
    "df = pd.read_csv('/home/aromal/Documents/jupyter_Lab/Datasets_Main/Linear_regression/placement.csv')\n",
    "df.head(2)"
   ]
  },
  {
   "cell_type": "code",
   "execution_count": 42,
   "id": "79c21506-6c10-4d80-92ff-25fba295544c",
   "metadata": {},
   "outputs": [],
   "source": [
    "X = df.iloc[:, 0:1].values\n",
    "y = df.iloc[:,-1].values"
   ]
  },
  {
   "cell_type": "code",
   "execution_count": 43,
   "id": "3e36bf3e-213f-46f7-bbab-91910c1c67ef",
   "metadata": {},
   "outputs": [],
   "source": [
    "from sklearn.model_selection import train_test_split"
   ]
  },
  {
   "cell_type": "code",
   "execution_count": 44,
   "id": "114d8038-d46d-4b49-a149-64a652ec4f83",
   "metadata": {},
   "outputs": [],
   "source": [
    "X_train, X_test, y_train, y_test = train_test_split(X, y, test_size=0.2, random_state=2)"
   ]
  },
  {
   "cell_type": "code",
   "execution_count": 45,
   "id": "b3bcefc3-af4a-4684-94ca-86a0a08fca70",
   "metadata": {},
   "outputs": [
    {
     "data": {
      "text/plain": [
       "(160, 1)"
      ]
     },
     "execution_count": 45,
     "metadata": {},
     "output_type": "execute_result"
    }
   ],
   "source": [
    "X_train.shape"
   ]
  },
  {
   "cell_type": "code",
   "execution_count": 46,
   "id": "484e6501-965b-400c-92e7-d6536509cbd3",
   "metadata": {},
   "outputs": [
    {
     "name": "stdout",
     "output_type": "stream",
     "text": [
      "[0.55795197]\n",
      "[-0.89611192]\n"
     ]
    }
   ],
   "source": [
    "lr = My_lr()\n",
    "lr.fit(X_train, y_train)"
   ]
  },
  {
   "cell_type": "code",
   "execution_count": 47,
   "id": "9cc9954c-2db7-4f47-97e5-0476f46b4f0e",
   "metadata": {},
   "outputs": [
    {
     "name": "stdout",
     "output_type": "stream",
     "text": [
      "X_test:  [8.58]\n",
      "predict : [3.89111601]\n"
     ]
    }
   ],
   "source": [
    "print(lr.predict(X_test[0]))"
   ]
  }
 ],
 "metadata": {
  "kernelspec": {
   "display_name": "Python [conda env:base] *",
   "language": "python",
   "name": "conda-base-py"
  },
  "language_info": {
   "codemirror_mode": {
    "name": "ipython",
    "version": 3
   },
   "file_extension": ".py",
   "mimetype": "text/x-python",
   "name": "python",
   "nbconvert_exporter": "python",
   "pygments_lexer": "ipython3",
   "version": "3.12.7"
  }
 },
 "nbformat": 4,
 "nbformat_minor": 5
}
