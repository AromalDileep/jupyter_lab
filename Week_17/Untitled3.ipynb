{
 "cells": [
  {
   "cell_type": "code",
   "execution_count": 5,
   "id": "135f79a1-1baa-4bc6-a2d6-e20ddbe47802",
   "metadata": {},
   "outputs": [
    {
     "data": {
      "text/plain": [
       "1"
      ]
     },
     "execution_count": 5,
     "metadata": {},
     "output_type": "execute_result"
    }
   ],
   "source": [
    "tuple = (1, 2, 34, 5)"
   ]
  },
  {
   "cell_type": "code",
   "execution_count": 29,
   "id": "c7567a6d-f7a2-4c41-a4d3-0909dfda6cb5",
   "metadata": {},
   "outputs": [
    {
     "name": "stdout",
     "output_type": "stream",
     "text": [
      "<generator object number_generator at 0x707ad9638660>\n",
      "1\n",
      "2\n",
      "3\n",
      "4\n",
      "5\n"
     ]
    }
   ],
   "source": [
    "def number_generator(limit):\n",
    "    for i in range(1, limit + 1):\n",
    "        yield i  \n",
    "\n",
    "# Create the generator\n",
    "gen = number_generator(5)\n",
    "\n",
    "print(gen)  \n",
    "\n",
    "# Iterate through the generator\n",
    "for number in gen:\n",
    "    print(number) "
   ]
  },
  {
   "cell_type": "code",
   "execution_count": null,
   "id": "ecc36ba8-aef3-453e-b5b4-7b7bebba5c90",
   "metadata": {},
   "outputs": [],
   "source": []
  },
  {
   "cell_type": "code",
   "execution_count": null,
   "id": "e764e9f4-8d2f-410f-862d-1c6d9a792525",
   "metadata": {},
   "outputs": [],
   "source": []
  }
 ],
 "metadata": {
  "kernelspec": {
   "display_name": "Python 3 (ipykernel)",
   "language": "python",
   "name": "python3"
  },
  "language_info": {
   "codemirror_mode": {
    "name": "ipython",
    "version": 3
   },
   "file_extension": ".py",
   "mimetype": "text/x-python",
   "name": "python",
   "nbconvert_exporter": "python",
   "pygments_lexer": "ipython3",
   "version": "3.12.2"
  }
 },
 "nbformat": 4,
 "nbformat_minor": 5
}
