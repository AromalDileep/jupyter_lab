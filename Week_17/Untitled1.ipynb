{
 "cells": [
  {
   "cell_type": "code",
   "execution_count": null,
   "id": "250c60f5-3522-4a78-8ed5-a3c84043243c",
   "metadata": {},
   "outputs": [],
   "source": [
    "import numpy as np\n",
    "import pandas as pd\n",
    "from sklearn.model_selection import train_test_split\n",
    "from sklearn.metrics import r2_score\n",
    "\n",
    "class Mylr: \n",
    "    def __init__(self): \n",
    "        self.coef_ = None \n",
    "        self.intercept_ = None \n",
    "\n",
    "    def fit(self, X_train, y_train):\n",
    "        # Add intercept term to X_train\n",
    "        X_train = np.insert(X_train, 0 , 1, axis=1)\n",
    "\n",
    "        # Calculate coefficients using the normal equation\n",
    "        betas = np.linalg.inv(X_train.T @ X_train) @ (X_train.T @ y_train)\n",
    "\n",
    "        self.intercept_ = betas[0]\n",
    "        self.coef_ = betas[1:]\n",
    "\n",
    "    def predict(self, X_test):\n",
    "        # Add intercept term to X_test\n",
    "        X_test = np.insert(X_test, 0, 1, axis=1)\n",
    "        \n",
    "        # Make predictions\n",
    "        y_pred = np.dot(X_test, np.insert(self.coef_, 0, self.intercept_))\n",
    "        return y_pred"
   ]
  },
  {
   "cell_type": "code",
   "execution_count": null,
   "id": "72e6c357-e90b-4bf7-8ac9-a87cbca35760",
   "metadata": {},
   "outputs": [
    {
     "name": "stdout",
     "output_type": "stream",
     "text": [
      "R2 Score: 0.9889832909573146\n"
     ]
    }
   ],
   "source": [
    "# Load the dataset\n",
    "df = pd.read_csv('/home/aromal/Documents/jupyter_Lab/Datasets_Main/Linear_regression/Student_Performance.csv')\n",
    "\n",
    "# Convert categorical column to numeric\n",
    "df[\"Extracurricular Activities\"] = df[\"Extracurricular Activities\"].map({\"Yes\": 1, \"No\": 0})\n",
    "\n",
    "# Define features and target\n",
    "X = df.drop('Performance Index', axis=1).values\n",
    "y = df['Performance Index'].values\n",
    "\n",
    "# Split the data into training and testing sets\n",
    "X_train, X_test, y_train, y_test = train_test_split(X, y, test_size=0.2, random_state=42)\n",
    "\n",
    "# Create and train the model\n",
    "lr = Mylr()\n",
    "lr.fit(X_train, y_train)\n",
    "\n",
    "# Make predictions on the test set\n",
    "y_pred = lr.predict(X_test)\n",
    "\n",
    "# Calculate R2 score\n",
    "r2 = r2_score(y_test, y_pred)\n",
    "print(f\"R2 Score: {r2}\")"
   ]
  },
  {
   "cell_type": "code",
   "execution_count": null,
   "id": "6df27726-69e5-434e-9207-3c1f289543a7",
   "metadata": {},
   "outputs": [],
   "source": []
  }
 ],
 "metadata": {
  "kernelspec": {
   "display_name": "Python 3 (ipykernel)",
   "language": "python",
   "name": "python3"
  },
  "language_info": {
   "codemirror_mode": {
    "name": "ipython",
    "version": 3
   },
   "file_extension": ".py",
   "mimetype": "text/x-python",
   "name": "python",
   "nbconvert_exporter": "python",
   "pygments_lexer": "ipython3",
   "version": "3.12.2"
  }
 },
 "nbformat": 4,
 "nbformat_minor": 5
}
