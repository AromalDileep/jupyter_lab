{
 "cells": [
  {
   "cell_type": "code",
   "execution_count": 50,
   "id": "1a9d3733-a21a-441d-a1d8-ae0ac068e1a4",
   "metadata": {},
   "outputs": [
    {
     "data": {
      "text/plain": [
       "0.9889832909573145"
      ]
     },
     "execution_count": 50,
     "metadata": {},
     "output_type": "execute_result"
    }
   ],
   "source": [
    "import pandas as pd \n",
    "\n",
    "data = pd.read_csv('/home/aromal/Documents/jupyter_Lab/Datasets_Main/Linear_regression/Student_Performance.csv')\n",
    "# data.head()\n",
    "\n",
    "data['Extracurricular Activities'] = data['Extracurricular Activities'].map({'Yes': 1, 'No': 0})\n",
    "# data.head()\n",
    "\n",
    "X = data.drop(columns=['Performance Index'])\n",
    "y = data['Performance Index']\n",
    "\n",
    "from sklearn.preprocessing import StandardScaler\n",
    "from sklearn.model_selection import train_test_split\n",
    "X_train, X_test, y_train, y_test = train_test_split(X, y, test_size=0.2, random_state=42)\n",
    "\n",
    "standard_scaler = StandardScaler()\n",
    "X_train = standard_scaler.fit_transform(X_train) \n",
    "X_test = standard_scaler.transform(X_test)\n",
    "\n",
    "from sklearn.linear_model import LinearRegression\n",
    "lr = LinearRegression()\n",
    "lr.fit(X_train, y_train)\n",
    "\n",
    "y_pred  = lr.predict(X_test)\n",
    "\n",
    "from sklearn.metrics import r2_score\n",
    "r2_score(y_test, y_pred)"
   ]
  },
  {
   "cell_type": "code",
   "execution_count": null,
   "id": "9c4d1354-1977-4dfb-a90b-0f25cf7f7574",
   "metadata": {},
   "outputs": [],
   "source": []
  }
 ],
 "metadata": {
  "kernelspec": {
   "display_name": "Python [conda env:base] *",
   "language": "python",
   "name": "conda-base-py"
  },
  "language_info": {
   "codemirror_mode": {
    "name": "ipython",
    "version": 3
   },
   "file_extension": ".py",
   "mimetype": "text/x-python",
   "name": "python",
   "nbconvert_exporter": "python",
   "pygments_lexer": "ipython3",
   "version": "3.12.7"
  }
 },
 "nbformat": 4,
 "nbformat_minor": 5
}
