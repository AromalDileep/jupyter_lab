{
 "cells": [
  {
   "cell_type": "code",
   "execution_count": 77,
   "id": "fe5eb146-0fcc-4220-985d-9b53dafd4e42",
   "metadata": {},
   "outputs": [],
   "source": [
    "from sklearn.datasets import make_regression\n",
    "import pandas as pd \n",
    "import numpy as np \n",
    "\n",
    "import plotly.express as px \n",
    "import plotly.graph_objects as go \n",
    "\n",
    "from sklearn.metrics import mean_absolute_error, mean_squared_error, r2_score"
   ]
  },
  {
   "cell_type": "code",
   "execution_count": 51,
   "id": "a6a21f90-ca15-41e6-ad61-d30532414e7d",
   "metadata": {},
   "outputs": [],
   "source": [
    "X, y = make_regression(n_samples=100, n_features=2, n_targets=1, noise=50)"
   ]
  },
  {
   "cell_type": "code",
   "execution_count": 52,
   "id": "9ecfcaaf-1572-4042-b2cc-95077517766b",
   "metadata": {},
   "outputs": [
    {
     "data": {
      "text/html": [
       "<div>\n",
       "<style scoped>\n",
       "    .dataframe tbody tr th:only-of-type {\n",
       "        vertical-align: middle;\n",
       "    }\n",
       "\n",
       "    .dataframe tbody tr th {\n",
       "        vertical-align: top;\n",
       "    }\n",
       "\n",
       "    .dataframe thead th {\n",
       "        text-align: right;\n",
       "    }\n",
       "</style>\n",
       "<table border=\"1\" class=\"dataframe\">\n",
       "  <thead>\n",
       "    <tr style=\"text-align: right;\">\n",
       "      <th></th>\n",
       "      <th>feature1</th>\n",
       "      <th>feature2</th>\n",
       "      <th>target</th>\n",
       "    </tr>\n",
       "  </thead>\n",
       "  <tbody>\n",
       "    <tr>\n",
       "      <th>0</th>\n",
       "      <td>-0.422637</td>\n",
       "      <td>0.388829</td>\n",
       "      <td>109.027116</td>\n",
       "    </tr>\n",
       "    <tr>\n",
       "      <th>1</th>\n",
       "      <td>0.450178</td>\n",
       "      <td>0.716134</td>\n",
       "      <td>71.854703</td>\n",
       "    </tr>\n",
       "  </tbody>\n",
       "</table>\n",
       "</div>"
      ],
      "text/plain": [
       "   feature1  feature2      target\n",
       "0 -0.422637  0.388829  109.027116\n",
       "1  0.450178  0.716134   71.854703"
      ]
     },
     "execution_count": 52,
     "metadata": {},
     "output_type": "execute_result"
    }
   ],
   "source": [
    "df = pd.DataFrame({'feature1':X[:,0], 'feature2':X[:,1], 'target':y})\n",
    "df.head(2)"
   ]
  },
  {
   "cell_type": "code",
   "execution_count": 53,
   "id": "fe9a931f-78c6-4e46-b287-eb79790c48d7",
   "metadata": {},
   "outputs": [
    {
     "data": {
      "application/vnd.plotly.v1+json": {
       "config": {
        "plotlyServerURL": "https://plot.ly"
       },
       "data": [
        {
         "hovertemplate": "feature1=%{x}<br>feature2=%{y}<br>target=%{z}<extra></extra>",
         "legendgroup": "",
         "marker": {
          "color": "#636efa",
          "symbol": "circle"
         },
         "mode": "markers",
         "name": "",
         "scene": "scene",
         "showlegend": false,
         "type": "scatter3d",
         "x": [
          -0.4226374539450889,
          0.45017795782497005,
          -1.4514036727027626,
          -0.296025981257789,
          0.2775030525571902,
          1.4574312922501076,
          2.3984503205675702,
          1.7354455020958752,
          0.09520855569625192,
          -2.220441937794191,
          0.9947090002286622,
          0.8772424751435554,
          0.22794305718663363,
          -0.7461466525885999,
          -1.9968019244622246,
          -0.7032897901662434,
          -1.1161093192965157,
          -0.21748894085714066,
          0.6081632579828009,
          -0.1524657747118578,
          -0.9510517641640307,
          -1.2463977823597057,
          -0.3611895736169055,
          -0.39281065602236503,
          0.60230614527025,
          0.26443201740235855,
          0.0669067362695008,
          0.9447932506648186,
          -1.4039281618350616,
          -1.1989436420106927,
          -1.2075963643428904,
          -0.1678481785305719,
          0.9357621546329209,
          2.2469554813511188,
          -1.8877528531916705,
          0.9682502316134891,
          -1.6904535689332745,
          -0.48034052736548355,
          -0.2962233675773397,
          -1.211488171593976,
          0.20011249572159379,
          0.9751126923072709,
          -1.1258998784235015,
          -0.09644758560901587,
          -1.0161311004123426,
          2.4576350207301387,
          1.6700592409617134,
          0.1773193403642633,
          0.9297857324329634,
          1.105653361918748,
          2.599247028858939,
          0.7685062958470003,
          -0.739925603707755,
          -1.0874824953160094,
          0.8986815299136048,
          -0.41778630154860774,
          -1.4308200080018048,
          0.4808686710672256,
          -1.597505755515409,
          -0.7402619341860335,
          -0.3925343373262212,
          -1.5472881517484156,
          1.4238198388224228,
          -1.9947888925984003,
          1.7743288421404455,
          0.7307012344475416,
          -2.076410100251517,
          -0.10561812170653809,
          -1.0604845857563727,
          -0.015286445603124416,
          0.4444692278712425,
          0.19165452978974834,
          0.12247302933552184,
          -1.885636209142586,
          0.24431485784636733,
          -0.2727712721590783,
          -0.2686496294457745,
          -0.9151498771913898,
          -0.3521633395555772,
          1.343429518380229,
          -1.3979802521233369,
          -0.49757834480722213,
          1.4405442674959497,
          -1.605719680531445,
          -1.601123158171218,
          -0.21166214919929668,
          0.014589635586500118,
          -0.423650387369098,
          -0.17558689551836823,
          0.00703883038176706,
          -0.4085227786317456,
          -2.432321936661961,
          -1.071714832319957,
          -1.4409866720055635,
          1.2232863073810887,
          -0.9436791718915345,
          -0.7375409344923004,
          -0.780420081590724,
          0.5508442392690283,
          -0.8850772109948407
         ],
         "y": [
          0.38882900501775586,
          0.716134301007377,
          1.3099660383878629,
          -0.8411550219162451,
          0.12020548568830623,
          0.19904835692933653,
          0.23626928701914693,
          -1.1165015457526,
          -0.5523827345706818,
          0.4621387586272223,
          -0.638068381056829,
          2.3224966911502034,
          -0.12468521002847102,
          -0.677719584032931,
          -0.12732789016368437,
          -0.3753748726645556,
          0.36895115282660346,
          -0.11789559388615402,
          0.4219363894548789,
          -1.4280187234065203,
          -0.24793292454432098,
          -0.2920847125490459,
          -0.23623636678267657,
          1.269785238645416,
          0.3799333720241954,
          -2.7930709986545135,
          -0.5087197269148683,
          -1.3038344762808547,
          -0.03709183684155292,
          -0.02437959505484719,
          1.4839233401301533,
          -0.7138846521870014,
          1.2367950136693255,
          -1.842954762175139,
          1.757369105081822,
          0.7886297673597182,
          0.45519473608861544,
          1.6891148135698266,
          0.7666281667983258,
          -1.5009122535688901,
          1.8699738802484678,
          -1.3997692304163123,
          -0.2977419978532813,
          0.15180367906103498,
          -0.9475972880007111,
          -0.20625680209300393,
          -0.42273106700904395,
          -1.2019923937176415,
          2.397487015604709,
          -0.7273606866482659,
          -0.0030504496580610577,
          0.010861362938475963,
          -0.360374166194737,
          0.1661046463765669,
          1.2765645268813817,
          0.23296178326752764,
          0.8063387156467798,
          0.08857003807495147,
          -0.8555165100960389,
          -0.7180395472422887,
          -0.07920387076001982,
          1.5121879446637723,
          1.0382231367837615,
          0.26652809066016,
          -0.7802120200777587,
          0.0034239609378745334,
          0.3490091323755663,
          -0.1820500657994196,
          1.6382645853049156,
          -1.2811639434550481,
          0.3860675136877566,
          0.7361896263784927,
          0.5342162064530603,
          0.0992459651440279,
          -0.2922522795097431,
          -1.897116845626623,
          1.0102411667845572,
          0.40959200710480975,
          -0.29611902771210485,
          1.4895463492889176,
          1.0401924147357962,
          -1.2331305008780011,
          -1.477280379072712,
          0.9421502123581263,
          -1.9317411016798827,
          0.7471892791536915,
          0.052190074932587587,
          -0.40251545733326893,
          1.83006010413769,
          1.3481807018416567,
          0.5726923426661088,
          -1.5478398412267582,
          -0.1897941680209443,
          1.238554421918771,
          0.9363646902951122,
          0.09710770142490247,
          -0.3042957495352271,
          -0.15176411520752844,
          -0.5997240698005856,
          -1.1414355080520773
         ],
         "z": [
          109.02711565771098,
          71.85470328971303,
          -121.55521332540684,
          -43.179349697758504,
          -0.6128820628603187,
          183.34218442259277,
          96.06574831208718,
          156.29884591308297,
          51.5217935663053,
          -49.0373812445967,
          33.90273743161091,
          211.11756699354,
          -8.84891475537546,
          -40.19519186851008,
          38.19791770317296,
          -50.548557938042094,
          -32.10639915630707,
          -81.77135441479994,
          28.293892208096715,
          -42.1917740258009,
          -139.24810184405683,
          -89.00892857326485,
          -53.070557550378695,
          -17.895986790188786,
          20.44421615142567,
          -6.310511034863374,
          -30.338268830037418,
          -5.821211785277249,
          -40.804733466510406,
          -51.731947230740765,
          12.53311242712616,
          0.6865833253886429,
          98.19897902602433,
          56.50483337709589,
          -13.711806247847694,
          161.13442214454219,
          11.429723484177629,
          83.9092749977234,
          54.90247877395328,
          -68.82338793390066,
          42.01947390492697,
          -72.19517788671007,
          -18.054618524872637,
          -15.555727895358187,
          -122.80443308561777,
          37.206099173842674,
          122.48191149756249,
          24.249502588145063,
          40.59241580055425,
          8.12394298636152,
          139.14794098448704,
          96.66647719888806,
          4.558389623563819,
          -70.74784580688988,
          94.0184338332723,
          43.60858505750202,
          -115.5469307602233,
          -23.634702063553288,
          -98.40753183451984,
          -101.72143971081044,
          -23.43581319110306,
          -54.72756373589931,
          109.39646060114956,
          -183.98980870925772,
          71.2273958586915,
          95.57859137010516,
          -160.89805335029519,
          -14.944541219510665,
          -31.077728775009128,
          -66.40416025689649,
          86.92293399456196,
          -26.06891267816535,
          20.957729078100577,
          -144.59831577203403,
          -44.833900553831825,
          -92.48344305631993,
          78.70648902804463,
          -13.307759453391576,
          -44.2232456591283,
          134.17624309047585,
          -68.34782890349283,
          0.11297969632549609,
          36.281095857466006,
          21.369569903509067,
          -172.06912681118888,
          23.69141865828606,
          57.62032551660815,
          21.90217192254299,
          21.531642861834197,
          52.272833813008944,
          1.832222271427371,
          -113.65577177013616,
          10.880361751783425,
          -69.44221018304322,
          20.955407319316876,
          -93.47731493736225,
          -74.78382983060385,
          -92.22666418973515,
          49.227106440960206,
          -111.1416689973048
         ]
        }
       ],
       "layout": {
        "autosize": true,
        "legend": {
         "tracegroupgap": 0
        },
        "margin": {
         "t": 60
        },
        "scene": {
         "aspectmode": "auto",
         "aspectratio": {
          "x": 1,
          "y": 1,
          "z": 1
         },
         "domain": {
          "x": [
           0,
           1
          ],
          "y": [
           0,
           1
          ]
         },
         "xaxis": {
          "title": {
           "text": "feature1"
          },
          "type": "linear"
         },
         "yaxis": {
          "title": {
           "text": "feature2"
          },
          "type": "linear"
         },
         "zaxis": {
          "title": {
           "text": "target"
          },
          "type": "linear"
         }
        },
        "template": {
         "data": {
          "bar": [
           {
            "error_x": {
             "color": "#2a3f5f"
            },
            "error_y": {
             "color": "#2a3f5f"
            },
            "marker": {
             "line": {
              "color": "#E5ECF6",
              "width": 0.5
             },
             "pattern": {
              "fillmode": "overlay",
              "size": 10,
              "solidity": 0.2
             }
            },
            "type": "bar"
           }
          ],
          "barpolar": [
           {
            "marker": {
             "line": {
              "color": "#E5ECF6",
              "width": 0.5
             },
             "pattern": {
              "fillmode": "overlay",
              "size": 10,
              "solidity": 0.2
             }
            },
            "type": "barpolar"
           }
          ],
          "carpet": [
           {
            "aaxis": {
             "endlinecolor": "#2a3f5f",
             "gridcolor": "white",
             "linecolor": "white",
             "minorgridcolor": "white",
             "startlinecolor": "#2a3f5f"
            },
            "baxis": {
             "endlinecolor": "#2a3f5f",
             "gridcolor": "white",
             "linecolor": "white",
             "minorgridcolor": "white",
             "startlinecolor": "#2a3f5f"
            },
            "type": "carpet"
           }
          ],
          "choropleth": [
           {
            "colorbar": {
             "outlinewidth": 0,
             "ticks": ""
            },
            "type": "choropleth"
           }
          ],
          "contour": [
           {
            "colorbar": {
             "outlinewidth": 0,
             "ticks": ""
            },
            "colorscale": [
             [
              0,
              "#0d0887"
             ],
             [
              0.1111111111111111,
              "#46039f"
             ],
             [
              0.2222222222222222,
              "#7201a8"
             ],
             [
              0.3333333333333333,
              "#9c179e"
             ],
             [
              0.4444444444444444,
              "#bd3786"
             ],
             [
              0.5555555555555556,
              "#d8576b"
             ],
             [
              0.6666666666666666,
              "#ed7953"
             ],
             [
              0.7777777777777778,
              "#fb9f3a"
             ],
             [
              0.8888888888888888,
              "#fdca26"
             ],
             [
              1,
              "#f0f921"
             ]
            ],
            "type": "contour"
           }
          ],
          "contourcarpet": [
           {
            "colorbar": {
             "outlinewidth": 0,
             "ticks": ""
            },
            "type": "contourcarpet"
           }
          ],
          "heatmap": [
           {
            "colorbar": {
             "outlinewidth": 0,
             "ticks": ""
            },
            "colorscale": [
             [
              0,
              "#0d0887"
             ],
             [
              0.1111111111111111,
              "#46039f"
             ],
             [
              0.2222222222222222,
              "#7201a8"
             ],
             [
              0.3333333333333333,
              "#9c179e"
             ],
             [
              0.4444444444444444,
              "#bd3786"
             ],
             [
              0.5555555555555556,
              "#d8576b"
             ],
             [
              0.6666666666666666,
              "#ed7953"
             ],
             [
              0.7777777777777778,
              "#fb9f3a"
             ],
             [
              0.8888888888888888,
              "#fdca26"
             ],
             [
              1,
              "#f0f921"
             ]
            ],
            "type": "heatmap"
           }
          ],
          "heatmapgl": [
           {
            "colorbar": {
             "outlinewidth": 0,
             "ticks": ""
            },
            "colorscale": [
             [
              0,
              "#0d0887"
             ],
             [
              0.1111111111111111,
              "#46039f"
             ],
             [
              0.2222222222222222,
              "#7201a8"
             ],
             [
              0.3333333333333333,
              "#9c179e"
             ],
             [
              0.4444444444444444,
              "#bd3786"
             ],
             [
              0.5555555555555556,
              "#d8576b"
             ],
             [
              0.6666666666666666,
              "#ed7953"
             ],
             [
              0.7777777777777778,
              "#fb9f3a"
             ],
             [
              0.8888888888888888,
              "#fdca26"
             ],
             [
              1,
              "#f0f921"
             ]
            ],
            "type": "heatmapgl"
           }
          ],
          "histogram": [
           {
            "marker": {
             "pattern": {
              "fillmode": "overlay",
              "size": 10,
              "solidity": 0.2
             }
            },
            "type": "histogram"
           }
          ],
          "histogram2d": [
           {
            "colorbar": {
             "outlinewidth": 0,
             "ticks": ""
            },
            "colorscale": [
             [
              0,
              "#0d0887"
             ],
             [
              0.1111111111111111,
              "#46039f"
             ],
             [
              0.2222222222222222,
              "#7201a8"
             ],
             [
              0.3333333333333333,
              "#9c179e"
             ],
             [
              0.4444444444444444,
              "#bd3786"
             ],
             [
              0.5555555555555556,
              "#d8576b"
             ],
             [
              0.6666666666666666,
              "#ed7953"
             ],
             [
              0.7777777777777778,
              "#fb9f3a"
             ],
             [
              0.8888888888888888,
              "#fdca26"
             ],
             [
              1,
              "#f0f921"
             ]
            ],
            "type": "histogram2d"
           }
          ],
          "histogram2dcontour": [
           {
            "colorbar": {
             "outlinewidth": 0,
             "ticks": ""
            },
            "colorscale": [
             [
              0,
              "#0d0887"
             ],
             [
              0.1111111111111111,
              "#46039f"
             ],
             [
              0.2222222222222222,
              "#7201a8"
             ],
             [
              0.3333333333333333,
              "#9c179e"
             ],
             [
              0.4444444444444444,
              "#bd3786"
             ],
             [
              0.5555555555555556,
              "#d8576b"
             ],
             [
              0.6666666666666666,
              "#ed7953"
             ],
             [
              0.7777777777777778,
              "#fb9f3a"
             ],
             [
              0.8888888888888888,
              "#fdca26"
             ],
             [
              1,
              "#f0f921"
             ]
            ],
            "type": "histogram2dcontour"
           }
          ],
          "mesh3d": [
           {
            "colorbar": {
             "outlinewidth": 0,
             "ticks": ""
            },
            "type": "mesh3d"
           }
          ],
          "parcoords": [
           {
            "line": {
             "colorbar": {
              "outlinewidth": 0,
              "ticks": ""
             }
            },
            "type": "parcoords"
           }
          ],
          "pie": [
           {
            "automargin": true,
            "type": "pie"
           }
          ],
          "scatter": [
           {
            "fillpattern": {
             "fillmode": "overlay",
             "size": 10,
             "solidity": 0.2
            },
            "type": "scatter"
           }
          ],
          "scatter3d": [
           {
            "line": {
             "colorbar": {
              "outlinewidth": 0,
              "ticks": ""
             }
            },
            "marker": {
             "colorbar": {
              "outlinewidth": 0,
              "ticks": ""
             }
            },
            "type": "scatter3d"
           }
          ],
          "scattercarpet": [
           {
            "marker": {
             "colorbar": {
              "outlinewidth": 0,
              "ticks": ""
             }
            },
            "type": "scattercarpet"
           }
          ],
          "scattergeo": [
           {
            "marker": {
             "colorbar": {
              "outlinewidth": 0,
              "ticks": ""
             }
            },
            "type": "scattergeo"
           }
          ],
          "scattergl": [
           {
            "marker": {
             "colorbar": {
              "outlinewidth": 0,
              "ticks": ""
             }
            },
            "type": "scattergl"
           }
          ],
          "scattermapbox": [
           {
            "marker": {
             "colorbar": {
              "outlinewidth": 0,
              "ticks": ""
             }
            },
            "type": "scattermapbox"
           }
          ],
          "scatterpolar": [
           {
            "marker": {
             "colorbar": {
              "outlinewidth": 0,
              "ticks": ""
             }
            },
            "type": "scatterpolar"
           }
          ],
          "scatterpolargl": [
           {
            "marker": {
             "colorbar": {
              "outlinewidth": 0,
              "ticks": ""
             }
            },
            "type": "scatterpolargl"
           }
          ],
          "scatterternary": [
           {
            "marker": {
             "colorbar": {
              "outlinewidth": 0,
              "ticks": ""
             }
            },
            "type": "scatterternary"
           }
          ],
          "surface": [
           {
            "colorbar": {
             "outlinewidth": 0,
             "ticks": ""
            },
            "colorscale": [
             [
              0,
              "#0d0887"
             ],
             [
              0.1111111111111111,
              "#46039f"
             ],
             [
              0.2222222222222222,
              "#7201a8"
             ],
             [
              0.3333333333333333,
              "#9c179e"
             ],
             [
              0.4444444444444444,
              "#bd3786"
             ],
             [
              0.5555555555555556,
              "#d8576b"
             ],
             [
              0.6666666666666666,
              "#ed7953"
             ],
             [
              0.7777777777777778,
              "#fb9f3a"
             ],
             [
              0.8888888888888888,
              "#fdca26"
             ],
             [
              1,
              "#f0f921"
             ]
            ],
            "type": "surface"
           }
          ],
          "table": [
           {
            "cells": {
             "fill": {
              "color": "#EBF0F8"
             },
             "line": {
              "color": "white"
             }
            },
            "header": {
             "fill": {
              "color": "#C8D4E3"
             },
             "line": {
              "color": "white"
             }
            },
            "type": "table"
           }
          ]
         },
         "layout": {
          "annotationdefaults": {
           "arrowcolor": "#2a3f5f",
           "arrowhead": 0,
           "arrowwidth": 1
          },
          "autotypenumbers": "strict",
          "coloraxis": {
           "colorbar": {
            "outlinewidth": 0,
            "ticks": ""
           }
          },
          "colorscale": {
           "diverging": [
            [
             0,
             "#8e0152"
            ],
            [
             0.1,
             "#c51b7d"
            ],
            [
             0.2,
             "#de77ae"
            ],
            [
             0.3,
             "#f1b6da"
            ],
            [
             0.4,
             "#fde0ef"
            ],
            [
             0.5,
             "#f7f7f7"
            ],
            [
             0.6,
             "#e6f5d0"
            ],
            [
             0.7,
             "#b8e186"
            ],
            [
             0.8,
             "#7fbc41"
            ],
            [
             0.9,
             "#4d9221"
            ],
            [
             1,
             "#276419"
            ]
           ],
           "sequential": [
            [
             0,
             "#0d0887"
            ],
            [
             0.1111111111111111,
             "#46039f"
            ],
            [
             0.2222222222222222,
             "#7201a8"
            ],
            [
             0.3333333333333333,
             "#9c179e"
            ],
            [
             0.4444444444444444,
             "#bd3786"
            ],
            [
             0.5555555555555556,
             "#d8576b"
            ],
            [
             0.6666666666666666,
             "#ed7953"
            ],
            [
             0.7777777777777778,
             "#fb9f3a"
            ],
            [
             0.8888888888888888,
             "#fdca26"
            ],
            [
             1,
             "#f0f921"
            ]
           ],
           "sequentialminus": [
            [
             0,
             "#0d0887"
            ],
            [
             0.1111111111111111,
             "#46039f"
            ],
            [
             0.2222222222222222,
             "#7201a8"
            ],
            [
             0.3333333333333333,
             "#9c179e"
            ],
            [
             0.4444444444444444,
             "#bd3786"
            ],
            [
             0.5555555555555556,
             "#d8576b"
            ],
            [
             0.6666666666666666,
             "#ed7953"
            ],
            [
             0.7777777777777778,
             "#fb9f3a"
            ],
            [
             0.8888888888888888,
             "#fdca26"
            ],
            [
             1,
             "#f0f921"
            ]
           ]
          },
          "colorway": [
           "#636efa",
           "#EF553B",
           "#00cc96",
           "#ab63fa",
           "#FFA15A",
           "#19d3f3",
           "#FF6692",
           "#B6E880",
           "#FF97FF",
           "#FECB52"
          ],
          "font": {
           "color": "#2a3f5f"
          },
          "geo": {
           "bgcolor": "white",
           "lakecolor": "white",
           "landcolor": "#E5ECF6",
           "showlakes": true,
           "showland": true,
           "subunitcolor": "white"
          },
          "hoverlabel": {
           "align": "left"
          },
          "hovermode": "closest",
          "mapbox": {
           "style": "light"
          },
          "paper_bgcolor": "white",
          "plot_bgcolor": "#E5ECF6",
          "polar": {
           "angularaxis": {
            "gridcolor": "white",
            "linecolor": "white",
            "ticks": ""
           },
           "bgcolor": "#E5ECF6",
           "radialaxis": {
            "gridcolor": "white",
            "linecolor": "white",
            "ticks": ""
           }
          },
          "scene": {
           "xaxis": {
            "backgroundcolor": "#E5ECF6",
            "gridcolor": "white",
            "gridwidth": 2,
            "linecolor": "white",
            "showbackground": true,
            "ticks": "",
            "zerolinecolor": "white"
           },
           "yaxis": {
            "backgroundcolor": "#E5ECF6",
            "gridcolor": "white",
            "gridwidth": 2,
            "linecolor": "white",
            "showbackground": true,
            "ticks": "",
            "zerolinecolor": "white"
           },
           "zaxis": {
            "backgroundcolor": "#E5ECF6",
            "gridcolor": "white",
            "gridwidth": 2,
            "linecolor": "white",
            "showbackground": true,
            "ticks": "",
            "zerolinecolor": "white"
           }
          },
          "shapedefaults": {
           "line": {
            "color": "#2a3f5f"
           }
          },
          "ternary": {
           "aaxis": {
            "gridcolor": "white",
            "linecolor": "white",
            "ticks": ""
           },
           "baxis": {
            "gridcolor": "white",
            "linecolor": "white",
            "ticks": ""
           },
           "bgcolor": "#E5ECF6",
           "caxis": {
            "gridcolor": "white",
            "linecolor": "white",
            "ticks": ""
           }
          },
          "title": {
           "x": 0.05
          },
          "xaxis": {
           "automargin": true,
           "gridcolor": "white",
           "linecolor": "white",
           "ticks": "",
           "title": {
            "standoff": 15
           },
           "zerolinecolor": "white",
           "zerolinewidth": 2
          },
          "yaxis": {
           "automargin": true,
           "gridcolor": "white",
           "linecolor": "white",
           "ticks": "",
           "title": {
            "standoff": 15
           },
           "zerolinecolor": "white",
           "zerolinewidth": 2
          }
         }
        }
       }
      },
      "image/png": "[encoded data removed]",
      "text/html": [
       "<div>                            <div id=\"d20d191d-cc49-4234-bcf3-bd278965e4cd\" class=\"plotly-graph-div\" style=\"height:525px; width:100%;\"></div>            <script type=\"text/javascript\">                require([\"plotly\"], function(Plotly) {                    window.PLOTLYENV=window.PLOTLYENV || {};                                    if (document.getElementById(\"d20d191d-cc49-4234-bcf3-bd278965e4cd\")) {                    Plotly.newPlot(                        \"d20d191d-cc49-4234-bcf3-bd278965e4cd\",                        [{\"hovertemplate\":\"feature1=%{x}\\u003cbr\\u003efeature2=%{y}\\u003cbr\\u003etarget=%{z}\\u003cextra\\u003e\\u003c\\u002fextra\\u003e\",\"legendgroup\":\"\",\"marker\":{\"color\":\"#636efa\",\"symbol\":\"circle\"},\"mode\":\"markers\",\"name\":\"\",\"scene\":\"scene\",\"showlegend\":false,\"x\":[-0.4226374539450889,0.45017795782497005,-1.4514036727027626,-0.296025981257789,0.2775030525571902,1.4574312922501076,2.3984503205675702,1.7354455020958752,0.09520855569625192,-2.220441937794191,0.9947090002286622,0.8772424751435554,0.22794305718663363,-0.7461466525885999,-1.9968019244622246,-0.7032897901662434,-1.1161093192965157,-0.21748894085714066,0.6081632579828009,-0.1524657747118578,-0.9510517641640307,-1.2463977823597057,-0.3611895736169055,-0.39281065602236503,0.60230614527025,0.26443201740235855,0.0669067362695008,0.9447932506648186,-1.4039281618350616,-1.1989436420106927,-1.2075963643428904,-0.1678481785305719,0.9357621546329209,2.2469554813511188,-1.8877528531916705,0.9682502316134891,-1.6904535689332745,-0.48034052736548355,-0.2962233675773397,-1.211488171593976,0.20011249572159379,0.9751126923072709,-1.1258998784235015,-0.09644758560901587,-1.0161311004123426,2.4576350207301387,1.6700592409617134,0.1773193403642633,0.9297857324329634,1.105653361918748,2.599247028858939,0.7685062958470003,-0.739925603707755,-1.0874824953160094,0.8986815299136048,-0.41778630154860774,-1.4308200080018048,0.4808686710672256,-1.597505755515409,-0.7402619341860335,-0.3925343373262212,-1.5472881517484156,1.4238198388224228,-1.9947888925984003,1.7743288421404455,0.7307012344475416,-2.076410100251517,-0.10561812170653809,-1.0604845857563727,-0.015286445603124416,0.4444692278712425,0.19165452978974834,0.12247302933552184,-1.885636209142586,0.24431485784636733,-0.2727712721590783,-0.2686496294457745,-0.9151498771913898,-0.3521633395555772,1.343429518380229,-1.3979802521233369,-0.49757834480722213,1.4405442674959497,-1.605719680531445,-1.601123158171218,-0.21166214919929668,0.014589635586500118,-0.423650387369098,-0.17558689551836823,0.00703883038176706,-0.4085227786317456,-2.432321936661961,-1.071714832319957,-1.4409866720055635,1.2232863073810887,-0.9436791718915345,-0.7375409344923004,-0.780420081590724,0.5508442392690283,-0.8850772109948407],\"y\":[0.38882900501775586,0.716134301007377,1.3099660383878629,-0.8411550219162451,0.12020548568830623,0.19904835692933653,0.23626928701914693,-1.1165015457526,-0.5523827345706818,0.4621387586272223,-0.638068381056829,2.3224966911502034,-0.12468521002847102,-0.677719584032931,-0.12732789016368437,-0.3753748726645556,0.36895115282660346,-0.11789559388615402,0.4219363894548789,-1.4280187234065203,-0.24793292454432098,-0.2920847125490459,-0.23623636678267657,1.269785238645416,0.3799333720241954,-2.7930709986545135,-0.5087197269148683,-1.3038344762808547,-0.03709183684155292,-0.02437959505484719,1.4839233401301533,-0.7138846521870014,1.2367950136693255,-1.842954762175139,1.757369105081822,0.7886297673597182,0.45519473608861544,1.6891148135698266,0.7666281667983258,-1.5009122535688901,1.8699738802484678,-1.3997692304163123,-0.2977419978532813,0.15180367906103498,-0.9475972880007111,-0.20625680209300393,-0.42273106700904395,-1.2019923937176415,2.397487015604709,-0.7273606866482659,-0.0030504496580610577,0.010861362938475963,-0.360374166194737,0.1661046463765669,1.2765645268813817,0.23296178326752764,0.8063387156467798,0.08857003807495147,-0.8555165100960389,-0.7180395472422887,-0.07920387076001982,1.5121879446637723,1.0382231367837615,0.26652809066016,-0.7802120200777587,0.0034239609378745334,0.3490091323755663,-0.1820500657994196,1.6382645853049156,-1.2811639434550481,0.3860675136877566,0.7361896263784927,0.5342162064530603,0.0992459651440279,-0.2922522795097431,-1.897116845626623,1.0102411667845572,0.40959200710480975,-0.29611902771210485,1.4895463492889176,1.0401924147357962,-1.2331305008780011,-1.477280379072712,0.9421502123581263,-1.9317411016798827,0.7471892791536915,0.052190074932587587,-0.40251545733326893,1.83006010413769,1.3481807018416567,0.5726923426661088,-1.5478398412267582,-0.1897941680209443,1.238554421918771,0.9363646902951122,0.09710770142490247,-0.3042957495352271,-0.15176411520752844,-0.5997240698005856,-1.1414355080520773],\"z\":[109.02711565771098,71.85470328971303,-121.55521332540684,-43.179349697758504,-0.6128820628603187,183.34218442259277,96.06574831208718,156.29884591308297,51.5217935663053,-49.0373812445967,33.90273743161091,211.11756699354,-8.84891475537546,-40.19519186851008,38.19791770317296,-50.548557938042094,-32.10639915630707,-81.77135441479994,28.293892208096715,-42.1917740258009,-139.24810184405683,-89.00892857326485,-53.070557550378695,-17.895986790188786,20.44421615142567,-6.310511034863374,-30.338268830037418,-5.821211785277249,-40.804733466510406,-51.731947230740765,12.53311242712616,0.6865833253886429,98.19897902602433,56.50483337709589,-13.711806247847694,161.13442214454219,11.429723484177629,83.9092749977234,54.90247877395328,-68.82338793390066,42.01947390492697,-72.19517788671007,-18.054618524872637,-15.555727895358187,-122.80443308561777,37.206099173842674,122.48191149756249,24.249502588145063,40.59241580055425,8.12394298636152,139.14794098448704,96.66647719888806,4.558389623563819,-70.74784580688988,94.0184338332723,43.60858505750202,-115.5469307602233,-23.634702063553288,-98.40753183451984,-101.72143971081044,-23.43581319110306,-54.72756373589931,109.39646060114956,-183.98980870925772,71.2273958586915,95.57859137010516,-160.89805335029519,-14.944541219510665,-31.077728775009128,-66.40416025689649,86.92293399456196,-26.06891267816535,20.957729078100577,-144.59831577203403,-44.833900553831825,-92.48344305631993,78.70648902804463,-13.307759453391576,-44.2232456591283,134.17624309047585,-68.34782890349283,0.11297969632549609,36.281095857466006,21.369569903509067,-172.06912681118888,23.69141865828606,57.62032551660815,21.90217192254299,21.531642861834197,52.272833813008944,1.832222271427371,-113.65577177013616,10.880361751783425,-69.44221018304322,20.955407319316876,-93.47731493736225,-74.78382983060385,-92.22666418973515,49.227106440960206,-111.1416689973048],\"type\":\"scatter3d\"}],                        {\"template\":{\"data\":{\"histogram2dcontour\":[{\"type\":\"histogram2dcontour\",\"colorbar\":{\"outlinewidth\":0,\"ticks\":\"\"},\"colorscale\":[[0.0,\"#0d0887\"],[0.1111111111111111,\"#46039f\"],[0.2222222222222222,\"#7201a8\"],[0.3333333333333333,\"#9c179e\"],[0.4444444444444444,\"#bd3786\"],[0.5555555555555556,\"#d8576b\"],[0.6666666666666666,\"#ed7953\"],[0.7777777777777778,\"#fb9f3a\"],[0.8888888888888888,\"#fdca26\"],[1.0,\"#f0f921\"]]}],\"choropleth\":[{\"type\":\"choropleth\",\"colorbar\":{\"outlinewidth\":0,\"ticks\":\"\"}}],\"histogram2d\":[{\"type\":\"histogram2d\",\"colorbar\":{\"outlinewidth\":0,\"ticks\":\"\"},\"colorscale\":[[0.0,\"#0d0887\"],[0.1111111111111111,\"#46039f\"],[0.2222222222222222,\"#7201a8\"],[0.3333333333333333,\"#9c179e\"],[0.4444444444444444,\"#bd3786\"],[0.5555555555555556,\"#d8576b\"],[0.6666666666666666,\"#ed7953\"],[0.7777777777777778,\"#fb9f3a\"],[0.8888888888888888,\"#fdca26\"],[1.0,\"#f0f921\"]]}],\"heatmap\":[{\"type\":\"heatmap\",\"colorbar\":{\"outlinewidth\":0,\"ticks\":\"\"},\"colorscale\":[[0.0,\"#0d0887\"],[0.1111111111111111,\"#46039f\"],[0.2222222222222222,\"#7201a8\"],[0.3333333333333333,\"#9c179e\"],[0.4444444444444444,\"#bd3786\"],[0.5555555555555556,\"#d8576b\"],[0.6666666666666666,\"#ed7953\"],[0.7777777777777778,\"#fb9f3a\"],[0.8888888888888888,\"#fdca26\"],[1.0,\"#f0f921\"]]}],\"heatmapgl\":[{\"type\":\"heatmapgl\",\"colorbar\":{\"outlinewidth\":0,\"ticks\":\"\"},\"colorscale\":[[0.0,\"#0d0887\"],[0.1111111111111111,\"#46039f\"],[0.2222222222222222,\"#7201a8\"],[0.3333333333333333,\"#9c179e\"],[0.4444444444444444,\"#bd3786\"],[0.5555555555555556,\"#d8576b\"],[0.6666666666666666,\"#ed7953\"],[0.7777777777777778,\"#fb9f3a\"],[0.8888888888888888,\"#fdca26\"],[1.0,\"#f0f921\"]]}],\"contourcarpet\":[{\"type\":\"contourcarpet\",\"colorbar\":{\"outlinewidth\":0,\"ticks\":\"\"}}],\"contour\":[{\"type\":\"contour\",\"colorbar\":{\"outlinewidth\":0,\"ticks\":\"\"},\"colorscale\":[[0.0,\"#0d0887\"],[0.1111111111111111,\"#46039f\"],[0.2222222222222222,\"#7201a8\"],[0.3333333333333333,\"#9c179e\"],[0.4444444444444444,\"#bd3786\"],[0.5555555555555556,\"#d8576b\"],[0.6666666666666666,\"#ed7953\"],[0.7777777777777778,\"#fb9f3a\"],[0.8888888888888888,\"#fdca26\"],[1.0,\"#f0f921\"]]}],\"surface\":[{\"type\":\"surface\",\"colorbar\":{\"outlinewidth\":0,\"ticks\":\"\"},\"colorscale\":[[0.0,\"#0d0887\"],[0.1111111111111111,\"#46039f\"],[0.2222222222222222,\"#7201a8\"],[0.3333333333333333,\"#9c179e\"],[0.4444444444444444,\"#bd3786\"],[0.5555555555555556,\"#d8576b\"],[0.6666666666666666,\"#ed7953\"],[0.7777777777777778,\"#fb9f3a\"],[0.8888888888888888,\"#fdca26\"],[1.0,\"#f0f921\"]]}],\"mesh3d\":[{\"type\":\"mesh3d\",\"colorbar\":{\"outlinewidth\":0,\"ticks\":\"\"}}],\"scatter\":[{\"fillpattern\":{\"fillmode\":\"overlay\",\"size\":10,\"solidity\":0.2},\"type\":\"scatter\"}],\"parcoords\":[{\"type\":\"parcoords\",\"line\":{\"colorbar\":{\"outlinewidth\":0,\"ticks\":\"\"}}}],\"scatterpolargl\":[{\"type\":\"scatterpolargl\",\"marker\":{\"colorbar\":{\"outlinewidth\":0,\"ticks\":\"\"}}}],\"bar\":[{\"error_x\":{\"color\":\"#2a3f5f\"},\"error_y\":{\"color\":\"#2a3f5f\"},\"marker\":{\"line\":{\"color\":\"#E5ECF6\",\"width\":0.5},\"pattern\":{\"fillmode\":\"overlay\",\"size\":10,\"solidity\":0.2}},\"type\":\"bar\"}],\"scattergeo\":[{\"type\":\"scattergeo\",\"marker\":{\"colorbar\":{\"outlinewidth\":0,\"ticks\":\"\"}}}],\"scatterpolar\":[{\"type\":\"scatterpolar\",\"marker\":{\"colorbar\":{\"outlinewidth\":0,\"ticks\":\"\"}}}],\"histogram\":[{\"marker\":{\"pattern\":{\"fillmode\":\"overlay\",\"size\":10,\"solidity\":0.2}},\"type\":\"histogram\"}],\"scattergl\":[{\"type\":\"scattergl\",\"marker\":{\"colorbar\":{\"outlinewidth\":0,\"ticks\":\"\"}}}],\"scatter3d\":[{\"type\":\"scatter3d\",\"line\":{\"colorbar\":{\"outlinewidth\":0,\"ticks\":\"\"}},\"marker\":{\"colorbar\":{\"outlinewidth\":0,\"ticks\":\"\"}}}],\"scattermapbox\":[{\"type\":\"scattermapbox\",\"marker\":{\"colorbar\":{\"outlinewidth\":0,\"ticks\":\"\"}}}],\"scatterternary\":[{\"type\":\"scatterternary\",\"marker\":{\"colorbar\":{\"outlinewidth\":0,\"ticks\":\"\"}}}],\"scattercarpet\":[{\"type\":\"scattercarpet\",\"marker\":{\"colorbar\":{\"outlinewidth\":0,\"ticks\":\"\"}}}],\"carpet\":[{\"aaxis\":{\"endlinecolor\":\"#2a3f5f\",\"gridcolor\":\"white\",\"linecolor\":\"white\",\"minorgridcolor\":\"white\",\"startlinecolor\":\"#2a3f5f\"},\"baxis\":{\"endlinecolor\":\"#2a3f5f\",\"gridcolor\":\"white\",\"linecolor\":\"white\",\"minorgridcolor\":\"white\",\"startlinecolor\":\"#2a3f5f\"},\"type\":\"carpet\"}],\"table\":[{\"cells\":{\"fill\":{\"color\":\"#EBF0F8\"},\"line\":{\"color\":\"white\"}},\"header\":{\"fill\":{\"color\":\"#C8D4E3\"},\"line\":{\"color\":\"white\"}},\"type\":\"table\"}],\"barpolar\":[{\"marker\":{\"line\":{\"color\":\"#E5ECF6\",\"width\":0.5},\"pattern\":{\"fillmode\":\"overlay\",\"size\":10,\"solidity\":0.2}},\"type\":\"barpolar\"}],\"pie\":[{\"automargin\":true,\"type\":\"pie\"}]},\"layout\":{\"autotypenumbers\":\"strict\",\"colorway\":[\"#636efa\",\"#EF553B\",\"#00cc96\",\"#ab63fa\",\"#FFA15A\",\"#19d3f3\",\"#FF6692\",\"#B6E880\",\"#FF97FF\",\"#FECB52\"],\"font\":{\"color\":\"#2a3f5f\"},\"hovermode\":\"closest\",\"hoverlabel\":{\"align\":\"left\"},\"paper_bgcolor\":\"white\",\"plot_bgcolor\":\"#E5ECF6\",\"polar\":{\"bgcolor\":\"#E5ECF6\",\"angularaxis\":{\"gridcolor\":\"white\",\"linecolor\":\"white\",\"ticks\":\"\"},\"radialaxis\":{\"gridcolor\":\"white\",\"linecolor\":\"white\",\"ticks\":\"\"}},\"ternary\":{\"bgcolor\":\"#E5ECF6\",\"aaxis\":{\"gridcolor\":\"white\",\"linecolor\":\"white\",\"ticks\":\"\"},\"baxis\":{\"gridcolor\":\"white\",\"linecolor\":\"white\",\"ticks\":\"\"},\"caxis\":{\"gridcolor\":\"white\",\"linecolor\":\"white\",\"ticks\":\"\"}},\"coloraxis\":{\"colorbar\":{\"outlinewidth\":0,\"ticks\":\"\"}},\"colorscale\":{\"sequential\":[[0.0,\"#0d0887\"],[0.1111111111111111,\"#46039f\"],[0.2222222222222222,\"#7201a8\"],[0.3333333333333333,\"#9c179e\"],[0.4444444444444444,\"#bd3786\"],[0.5555555555555556,\"#d8576b\"],[0.6666666666666666,\"#ed7953\"],[0.7777777777777778,\"#fb9f3a\"],[0.8888888888888888,\"#fdca26\"],[1.0,\"#f0f921\"]],\"sequentialminus\":[[0.0,\"#0d0887\"],[0.1111111111111111,\"#46039f\"],[0.2222222222222222,\"#7201a8\"],[0.3333333333333333,\"#9c179e\"],[0.4444444444444444,\"#bd3786\"],[0.5555555555555556,\"#d8576b\"],[0.6666666666666666,\"#ed7953\"],[0.7777777777777778,\"#fb9f3a\"],[0.8888888888888888,\"#fdca26\"],[1.0,\"#f0f921\"]],\"diverging\":[[0,\"#8e0152\"],[0.1,\"#c51b7d\"],[0.2,\"#de77ae\"],[0.3,\"#f1b6da\"],[0.4,\"#fde0ef\"],[0.5,\"#f7f7f7\"],[0.6,\"#e6f5d0\"],[0.7,\"#b8e186\"],[0.8,\"#7fbc41\"],[0.9,\"#4d9221\"],[1,\"#276419\"]]},\"xaxis\":{\"gridcolor\":\"white\",\"linecolor\":\"white\",\"ticks\":\"\",\"title\":{\"standoff\":15},\"zerolinecolor\":\"white\",\"automargin\":true,\"zerolinewidth\":2},\"yaxis\":{\"gridcolor\":\"white\",\"linecolor\":\"white\",\"ticks\":\"\",\"title\":{\"standoff\":15},\"zerolinecolor\":\"white\",\"automargin\":true,\"zerolinewidth\":2},\"scene\":{\"xaxis\":{\"backgroundcolor\":\"#E5ECF6\",\"gridcolor\":\"white\",\"linecolor\":\"white\",\"showbackground\":true,\"ticks\":\"\",\"zerolinecolor\":\"white\",\"gridwidth\":2},\"yaxis\":{\"backgroundcolor\":\"#E5ECF6\",\"gridcolor\":\"white\",\"linecolor\":\"white\",\"showbackground\":true,\"ticks\":\"\",\"zerolinecolor\":\"white\",\"gridwidth\":2},\"zaxis\":{\"backgroundcolor\":\"#E5ECF6\",\"gridcolor\":\"white\",\"linecolor\":\"white\",\"showbackground\":true,\"ticks\":\"\",\"zerolinecolor\":\"white\",\"gridwidth\":2}},\"shapedefaults\":{\"line\":{\"color\":\"#2a3f5f\"}},\"annotationdefaults\":{\"arrowcolor\":\"#2a3f5f\",\"arrowhead\":0,\"arrowwidth\":1},\"geo\":{\"bgcolor\":\"white\",\"landcolor\":\"#E5ECF6\",\"subunitcolor\":\"white\",\"showland\":true,\"showlakes\":true,\"lakecolor\":\"white\"},\"title\":{\"x\":0.05},\"mapbox\":{\"style\":\"light\"}}},\"scene\":{\"domain\":{\"x\":[0.0,1.0],\"y\":[0.0,1.0]},\"xaxis\":{\"title\":{\"text\":\"feature1\"}},\"yaxis\":{\"title\":{\"text\":\"feature2\"}},\"zaxis\":{\"title\":{\"text\":\"target\"}}},\"legend\":{\"tracegroupgap\":0},\"margin\":{\"t\":60}},                        {\"responsive\": true}                    ).then(function(){\n",
       "                            \n",
       "var gd = document.getElementById('d20d191d-cc49-4234-bcf3-bd278965e4cd');\n",
       "var x = new MutationObserver(function (mutations, observer) {{\n",
       "        var display = window.getComputedStyle(gd).display;\n",
       "        if (!display || display === 'none') {{\n",
       "            console.log([gd, 'removed!']);\n",
       "            Plotly.purge(gd);\n",
       "            observer.disconnect();\n",
       "        }}\n",
       "}});\n",
       "\n",
       "// Listen for the removal of the full notebook cells\n",
       "var notebookContainer = gd.closest('#notebook-container');\n",
       "if (notebookContainer) {{\n",
       "    x.observe(notebookContainer, {childList: true});\n",
       "}}\n",
       "\n",
       "// Listen for the clearing of the current output cell\n",
       "var outputEl = gd.closest('.output');\n",
       "if (outputEl) {{\n",
       "    x.observe(outputEl, {childList: true});\n",
       "}}\n",
       "\n",
       "                        })                };                });            </script>        </div>"
      ]
     },
     "metadata": {},
     "output_type": "display_data"
    }
   ],
   "source": [
    "fig = px.scatter_3d(df, x='feature1', y='feature2', z='target')\n",
    "fig.show()"
   ]
  },
  {
   "cell_type": "code",
   "execution_count": 54,
   "id": "cf75b36a-237c-48e1-a4ce-8c55b67c761e",
   "metadata": {},
   "outputs": [],
   "source": [
    "from sklearn.model_selection import train_test_split\n",
    "X_train, X_test, y_train, y_test = train_test_split(X, y, test_size=0.2, random_state=3)"
   ]
  },
  {
   "cell_type": "code",
   "execution_count": 55,
   "id": "5e128d11-bbcd-4f5c-adad-5e235ac91191",
   "metadata": {},
   "outputs": [],
   "source": [
    "from sklearn.linear_model import LinearRegression"
   ]
  },
  {
   "cell_type": "code",
   "execution_count": 56,
   "id": "59b71b6d-73fa-424e-bfa4-f269cd0c2d85",
   "metadata": {},
   "outputs": [
    {
     "data": {
      "text/html": [
       "<style>#sk-container-id-3 {\n",
       "  /* Definition of color scheme common for light and dark mode */\n",
       "  --sklearn-color-text: black;\n",
       "  --sklearn-color-line: gray;\n",
       "  /* Definition of color scheme for unfitted estimators */\n",
       "  --sklearn-color-unfitted-level-0: #fff5e6;\n",
       "  --sklearn-color-unfitted-level-1: #f6e4d2;\n",
       "  --sklearn-color-unfitted-level-2: #ffe0b3;\n",
       "  --sklearn-color-unfitted-level-3: chocolate;\n",
       "  /* Definition of color scheme for fitted estimators */\n",
       "  --sklearn-color-fitted-level-0: #f0f8ff;\n",
       "  --sklearn-color-fitted-level-1: #d4ebff;\n",
       "  --sklearn-color-fitted-level-2: #b3dbfd;\n",
       "  --sklearn-color-fitted-level-3: cornflowerblue;\n",
       "\n",
       "  /* Specific color for light theme */\n",
       "  --sklearn-color-text-on-default-background: var(--sg-text-color, var(--theme-code-foreground, var(--jp-content-font-color1, black)));\n",
       "  --sklearn-color-background: var(--sg-background-color, var(--theme-background, var(--jp-layout-color0, white)));\n",
       "  --sklearn-color-border-box: var(--sg-text-color, var(--theme-code-foreground, var(--jp-content-font-color1, black)));\n",
       "  --sklearn-color-icon: #696969;\n",
       "\n",
       "  @media (prefers-color-scheme: dark) {\n",
       "    /* Redefinition of color scheme for dark theme */\n",
       "    --sklearn-color-text-on-default-background: var(--sg-text-color, var(--theme-code-foreground, var(--jp-content-font-color1, white)));\n",
       "    --sklearn-color-background: var(--sg-background-color, var(--theme-background, var(--jp-layout-color0, #111)));\n",
       "    --sklearn-color-border-box: var(--sg-text-color, var(--theme-code-foreground, var(--jp-content-font-color1, white)));\n",
       "    --sklearn-color-icon: #878787;\n",
       "  }\n",
       "}\n",
       "\n",
       "#sk-container-id-3 {\n",
       "  color: var(--sklearn-color-text);\n",
       "}\n",
       "\n",
       "#sk-container-id-3 pre {\n",
       "  padding: 0;\n",
       "}\n",
       "\n",
       "#sk-container-id-3 input.sk-hidden--visually {\n",
       "  border: 0;\n",
       "  clip: rect(1px 1px 1px 1px);\n",
       "  clip: rect(1px, 1px, 1px, 1px);\n",
       "  height: 1px;\n",
       "  margin: -1px;\n",
       "  overflow: hidden;\n",
       "  padding: 0;\n",
       "  position: absolute;\n",
       "  width: 1px;\n",
       "}\n",
       "\n",
       "#sk-container-id-3 div.sk-dashed-wrapped {\n",
       "  border: 1px dashed var(--sklearn-color-line);\n",
       "  margin: 0 0.4em 0.5em 0.4em;\n",
       "  box-sizing: border-box;\n",
       "  padding-bottom: 0.4em;\n",
       "  background-color: var(--sklearn-color-background);\n",
       "}\n",
       "\n",
       "#sk-container-id-3 div.sk-container {\n",
       "  /* jupyter's `normalize.less` sets `[hidden] { display: none; }`\n",
       "     but bootstrap.min.css set `[hidden] { display: none !important; }`\n",
       "     so we also need the `!important` here to be able to override the\n",
       "     default hidden behavior on the sphinx rendered scikit-learn.org.\n",
       "     See: https://github.com/scikit-learn/scikit-learn/issues/21755 */\n",
       "  display: inline-block !important;\n",
       "  position: relative;\n",
       "}\n",
       "\n",
       "#sk-container-id-3 div.sk-text-repr-fallback {\n",
       "  display: none;\n",
       "}\n",
       "\n",
       "div.sk-parallel-item,\n",
       "div.sk-serial,\n",
       "div.sk-item {\n",
       "  /* draw centered vertical line to link estimators */\n",
       "  background-image: linear-gradient(var(--sklearn-color-text-on-default-background), var(--sklearn-color-text-on-default-background));\n",
       "  background-size: 2px 100%;\n",
       "  background-repeat: no-repeat;\n",
       "  background-position: center center;\n",
       "}\n",
       "\n",
       "/* Parallel-specific style estimator block */\n",
       "\n",
       "#sk-container-id-3 div.sk-parallel-item::after {\n",
       "  content: \"\";\n",
       "  width: 100%;\n",
       "  border-bottom: 2px solid var(--sklearn-color-text-on-default-background);\n",
       "  flex-grow: 1;\n",
       "}\n",
       "\n",
       "#sk-container-id-3 div.sk-parallel {\n",
       "  display: flex;\n",
       "  align-items: stretch;\n",
       "  justify-content: center;\n",
       "  background-color: var(--sklearn-color-background);\n",
       "  position: relative;\n",
       "}\n",
       "\n",
       "#sk-container-id-3 div.sk-parallel-item {\n",
       "  display: flex;\n",
       "  flex-direction: column;\n",
       "}\n",
       "\n",
       "#sk-container-id-3 div.sk-parallel-item:first-child::after {\n",
       "  align-self: flex-end;\n",
       "  width: 50%;\n",
       "}\n",
       "\n",
       "#sk-container-id-3 div.sk-parallel-item:last-child::after {\n",
       "  align-self: flex-start;\n",
       "  width: 50%;\n",
       "}\n",
       "\n",
       "#sk-container-id-3 div.sk-parallel-item:only-child::after {\n",
       "  width: 0;\n",
       "}\n",
       "\n",
       "/* Serial-specific style estimator block */\n",
       "\n",
       "#sk-container-id-3 div.sk-serial {\n",
       "  display: flex;\n",
       "  flex-direction: column;\n",
       "  align-items: center;\n",
       "  background-color: var(--sklearn-color-background);\n",
       "  padding-right: 1em;\n",
       "  padding-left: 1em;\n",
       "}\n",
       "\n",
       "\n",
       "/* Toggleable style: style used for estimator/Pipeline/ColumnTransformer box that is\n",
       "clickable and can be expanded/collapsed.\n",
       "- Pipeline and ColumnTransformer use this feature and define the default style\n",
       "- Estimators will overwrite some part of the style using the `sk-estimator` class\n",
       "*/\n",
       "\n",
       "/* Pipeline and ColumnTransformer style (default) */\n",
       "\n",
       "#sk-container-id-3 div.sk-toggleable {\n",
       "  /* Default theme specific background. It is overwritten whether we have a\n",
       "  specific estimator or a Pipeline/ColumnTransformer */\n",
       "  background-color: var(--sklearn-color-background);\n",
       "}\n",
       "\n",
       "/* Toggleable label */\n",
       "#sk-container-id-3 label.sk-toggleable__label {\n",
       "  cursor: pointer;\n",
       "  display: block;\n",
       "  width: 100%;\n",
       "  margin-bottom: 0;\n",
       "  padding: 0.5em;\n",
       "  box-sizing: border-box;\n",
       "  text-align: center;\n",
       "}\n",
       "\n",
       "#sk-container-id-3 label.sk-toggleable__label-arrow:before {\n",
       "  /* Arrow on the left of the label */\n",
       "  content: \"▸\";\n",
       "  float: left;\n",
       "  margin-right: 0.25em;\n",
       "  color: var(--sklearn-color-icon);\n",
       "}\n",
       "\n",
       "#sk-container-id-3 label.sk-toggleable__label-arrow:hover:before {\n",
       "  color: var(--sklearn-color-text);\n",
       "}\n",
       "\n",
       "/* Toggleable content - dropdown */\n",
       "\n",
       "#sk-container-id-3 div.sk-toggleable__content {\n",
       "  max-height: 0;\n",
       "  max-width: 0;\n",
       "  overflow: hidden;\n",
       "  text-align: left;\n",
       "  /* unfitted */\n",
       "  background-color: var(--sklearn-color-unfitted-level-0);\n",
       "}\n",
       "\n",
       "#sk-container-id-3 div.sk-toggleable__content.fitted {\n",
       "  /* fitted */\n",
       "  background-color: var(--sklearn-color-fitted-level-0);\n",
       "}\n",
       "\n",
       "#sk-container-id-3 div.sk-toggleable__content pre {\n",
       "  margin: 0.2em;\n",
       "  border-radius: 0.25em;\n",
       "  color: var(--sklearn-color-text);\n",
       "  /* unfitted */\n",
       "  background-color: var(--sklearn-color-unfitted-level-0);\n",
       "}\n",
       "\n",
       "#sk-container-id-3 div.sk-toggleable__content.fitted pre {\n",
       "  /* unfitted */\n",
       "  background-color: var(--sklearn-color-fitted-level-0);\n",
       "}\n",
       "\n",
       "#sk-container-id-3 input.sk-toggleable__control:checked~div.sk-toggleable__content {\n",
       "  /* Expand drop-down */\n",
       "  max-height: 200px;\n",
       "  max-width: 100%;\n",
       "  overflow: auto;\n",
       "}\n",
       "\n",
       "#sk-container-id-3 input.sk-toggleable__control:checked~label.sk-toggleable__label-arrow:before {\n",
       "  content: \"▾\";\n",
       "}\n",
       "\n",
       "/* Pipeline/ColumnTransformer-specific style */\n",
       "\n",
       "#sk-container-id-3 div.sk-label input.sk-toggleable__control:checked~label.sk-toggleable__label {\n",
       "  color: var(--sklearn-color-text);\n",
       "  background-color: var(--sklearn-color-unfitted-level-2);\n",
       "}\n",
       "\n",
       "#sk-container-id-3 div.sk-label.fitted input.sk-toggleable__control:checked~label.sk-toggleable__label {\n",
       "  background-color: var(--sklearn-color-fitted-level-2);\n",
       "}\n",
       "\n",
       "/* Estimator-specific style */\n",
       "\n",
       "/* Colorize estimator box */\n",
       "#sk-container-id-3 div.sk-estimator input.sk-toggleable__control:checked~label.sk-toggleable__label {\n",
       "  /* unfitted */\n",
       "  background-color: var(--sklearn-color-unfitted-level-2);\n",
       "}\n",
       "\n",
       "#sk-container-id-3 div.sk-estimator.fitted input.sk-toggleable__control:checked~label.sk-toggleable__label {\n",
       "  /* fitted */\n",
       "  background-color: var(--sklearn-color-fitted-level-2);\n",
       "}\n",
       "\n",
       "#sk-container-id-3 div.sk-label label.sk-toggleable__label,\n",
       "#sk-container-id-3 div.sk-label label {\n",
       "  /* The background is the default theme color */\n",
       "  color: var(--sklearn-color-text-on-default-background);\n",
       "}\n",
       "\n",
       "/* On hover, darken the color of the background */\n",
       "#sk-container-id-3 div.sk-label:hover label.sk-toggleable__label {\n",
       "  color: var(--sklearn-color-text);\n",
       "  background-color: var(--sklearn-color-unfitted-level-2);\n",
       "}\n",
       "\n",
       "/* Label box, darken color on hover, fitted */\n",
       "#sk-container-id-3 div.sk-label.fitted:hover label.sk-toggleable__label.fitted {\n",
       "  color: var(--sklearn-color-text);\n",
       "  background-color: var(--sklearn-color-fitted-level-2);\n",
       "}\n",
       "\n",
       "/* Estimator label */\n",
       "\n",
       "#sk-container-id-3 div.sk-label label {\n",
       "  font-family: monospace;\n",
       "  font-weight: bold;\n",
       "  display: inline-block;\n",
       "  line-height: 1.2em;\n",
       "}\n",
       "\n",
       "#sk-container-id-3 div.sk-label-container {\n",
       "  text-align: center;\n",
       "}\n",
       "\n",
       "/* Estimator-specific */\n",
       "#sk-container-id-3 div.sk-estimator {\n",
       "  font-family: monospace;\n",
       "  border: 1px dotted var(--sklearn-color-border-box);\n",
       "  border-radius: 0.25em;\n",
       "  box-sizing: border-box;\n",
       "  margin-bottom: 0.5em;\n",
       "  /* unfitted */\n",
       "  background-color: var(--sklearn-color-unfitted-level-0);\n",
       "}\n",
       "\n",
       "#sk-container-id-3 div.sk-estimator.fitted {\n",
       "  /* fitted */\n",
       "  background-color: var(--sklearn-color-fitted-level-0);\n",
       "}\n",
       "\n",
       "/* on hover */\n",
       "#sk-container-id-3 div.sk-estimator:hover {\n",
       "  /* unfitted */\n",
       "  background-color: var(--sklearn-color-unfitted-level-2);\n",
       "}\n",
       "\n",
       "#sk-container-id-3 div.sk-estimator.fitted:hover {\n",
       "  /* fitted */\n",
       "  background-color: var(--sklearn-color-fitted-level-2);\n",
       "}\n",
       "\n",
       "/* Specification for estimator info (e.g. \"i\" and \"?\") */\n",
       "\n",
       "/* Common style for \"i\" and \"?\" */\n",
       "\n",
       ".sk-estimator-doc-link,\n",
       "a:link.sk-estimator-doc-link,\n",
       "a:visited.sk-estimator-doc-link {\n",
       "  float: right;\n",
       "  font-size: smaller;\n",
       "  line-height: 1em;\n",
       "  font-family: monospace;\n",
       "  background-color: var(--sklearn-color-background);\n",
       "  border-radius: 1em;\n",
       "  height: 1em;\n",
       "  width: 1em;\n",
       "  text-decoration: none !important;\n",
       "  margin-left: 1ex;\n",
       "  /* unfitted */\n",
       "  border: var(--sklearn-color-unfitted-level-1) 1pt solid;\n",
       "  color: var(--sklearn-color-unfitted-level-1);\n",
       "}\n",
       "\n",
       ".sk-estimator-doc-link.fitted,\n",
       "a:link.sk-estimator-doc-link.fitted,\n",
       "a:visited.sk-estimator-doc-link.fitted {\n",
       "  /* fitted */\n",
       "  border: var(--sklearn-color-fitted-level-1) 1pt solid;\n",
       "  color: var(--sklearn-color-fitted-level-1);\n",
       "}\n",
       "\n",
       "/* On hover */\n",
       "div.sk-estimator:hover .sk-estimator-doc-link:hover,\n",
       ".sk-estimator-doc-link:hover,\n",
       "div.sk-label-container:hover .sk-estimator-doc-link:hover,\n",
       ".sk-estimator-doc-link:hover {\n",
       "  /* unfitted */\n",
       "  background-color: var(--sklearn-color-unfitted-level-3);\n",
       "  color: var(--sklearn-color-background);\n",
       "  text-decoration: none;\n",
       "}\n",
       "\n",
       "div.sk-estimator.fitted:hover .sk-estimator-doc-link.fitted:hover,\n",
       ".sk-estimator-doc-link.fitted:hover,\n",
       "div.sk-label-container:hover .sk-estimator-doc-link.fitted:hover,\n",
       ".sk-estimator-doc-link.fitted:hover {\n",
       "  /* fitted */\n",
       "  background-color: var(--sklearn-color-fitted-level-3);\n",
       "  color: var(--sklearn-color-background);\n",
       "  text-decoration: none;\n",
       "}\n",
       "\n",
       "/* Span, style for the box shown on hovering the info icon */\n",
       ".sk-estimator-doc-link span {\n",
       "  display: none;\n",
       "  z-index: 9999;\n",
       "  position: relative;\n",
       "  font-weight: normal;\n",
       "  right: .2ex;\n",
       "  padding: .5ex;\n",
       "  margin: .5ex;\n",
       "  width: min-content;\n",
       "  min-width: 20ex;\n",
       "  max-width: 50ex;\n",
       "  color: var(--sklearn-color-text);\n",
       "  box-shadow: 2pt 2pt 4pt #999;\n",
       "  /* unfitted */\n",
       "  background: var(--sklearn-color-unfitted-level-0);\n",
       "  border: .5pt solid var(--sklearn-color-unfitted-level-3);\n",
       "}\n",
       "\n",
       ".sk-estimator-doc-link.fitted span {\n",
       "  /* fitted */\n",
       "  background: var(--sklearn-color-fitted-level-0);\n",
       "  border: var(--sklearn-color-fitted-level-3);\n",
       "}\n",
       "\n",
       ".sk-estimator-doc-link:hover span {\n",
       "  display: block;\n",
       "}\n",
       "\n",
       "/* \"?\"-specific style due to the `<a>` HTML tag */\n",
       "\n",
       "#sk-container-id-3 a.estimator_doc_link {\n",
       "  float: right;\n",
       "  font-size: 1rem;\n",
       "  line-height: 1em;\n",
       "  font-family: monospace;\n",
       "  background-color: var(--sklearn-color-background);\n",
       "  border-radius: 1rem;\n",
       "  height: 1rem;\n",
       "  width: 1rem;\n",
       "  text-decoration: none;\n",
       "  /* unfitted */\n",
       "  color: var(--sklearn-color-unfitted-level-1);\n",
       "  border: var(--sklearn-color-unfitted-level-1) 1pt solid;\n",
       "}\n",
       "\n",
       "#sk-container-id-3 a.estimator_doc_link.fitted {\n",
       "  /* fitted */\n",
       "  border: var(--sklearn-color-fitted-level-1) 1pt solid;\n",
       "  color: var(--sklearn-color-fitted-level-1);\n",
       "}\n",
       "\n",
       "/* On hover */\n",
       "#sk-container-id-3 a.estimator_doc_link:hover {\n",
       "  /* unfitted */\n",
       "  background-color: var(--sklearn-color-unfitted-level-3);\n",
       "  color: var(--sklearn-color-background);\n",
       "  text-decoration: none;\n",
       "}\n",
       "\n",
       "#sk-container-id-3 a.estimator_doc_link.fitted:hover {\n",
       "  /* fitted */\n",
       "  background-color: var(--sklearn-color-fitted-level-3);\n",
       "}\n",
       "</style><div id=\"sk-container-id-3\" class=\"sk-top-container\"><div class=\"sk-text-repr-fallback\"><pre>LinearRegression()</pre><b>In a Jupyter environment, please rerun this cell to show the HTML representation or trust the notebook. <br />On GitHub, the HTML representation is unable to render, please try loading this page with nbviewer.org.</b></div><div class=\"sk-container\" hidden><div class=\"sk-item\"><div class=\"sk-estimator fitted sk-toggleable\"><input class=\"sk-toggleable__control sk-hidden--visually\" id=\"sk-estimator-id-3\" type=\"checkbox\" checked><label for=\"sk-estimator-id-3\" class=\"sk-toggleable__label fitted sk-toggleable__label-arrow fitted\">&nbsp;&nbsp;LinearRegression<a class=\"sk-estimator-doc-link fitted\" rel=\"noreferrer\" target=\"_blank\" href=\"https://scikit-learn.org/1.5/modules/generated/sklearn.linear_model.LinearRegression.html\">?<span>Documentation for LinearRegression</span></a><span class=\"sk-estimator-doc-link fitted\">i<span>Fitted</span></span></label><div class=\"sk-toggleable__content fitted\"><pre>LinearRegression()</pre></div> </div></div></div></div>"
      ],
      "text/plain": [
       "LinearRegression()"
      ]
     },
     "execution_count": 56,
     "metadata": {},
     "output_type": "execute_result"
    }
   ],
   "source": [
    "lr = LinearRegression()\n",
    "lr.fit(X_train, y_train)"
   ]
  },
  {
   "cell_type": "code",
   "execution_count": 57,
   "id": "595ad64d-c638-466b-9c31-d713451f71f9",
   "metadata": {},
   "outputs": [],
   "source": [
    "y_pred = lr.predict(X_test)"
   ]
  },
  {
   "cell_type": "code",
   "execution_count": 58,
   "id": "248b998d-23ce-4fd2-b9eb-db250d3f7ff1",
   "metadata": {},
   "outputs": [
    {
     "name": "stdout",
     "output_type": "stream",
     "text": [
      "MAE:  41.15241340848242\n",
      "MSE:  2249.3666237340676\n",
      "R2 score: 0.24008098348019002\n"
     ]
    }
   ],
   "source": [
    "print('MAE: ',mean_absolute_error(y_test, y_pred))\n",
    "print('MSE: ',mean_squared_error(y_test, y_pred))\n",
    "print('R2 score:', r2_score(y_test, y_pred))"
   ]
  },
  {
   "cell_type": "code",
   "execution_count": 70,
   "id": "55ce17ef-c2d3-4d0b-9429-b7418a78621e",
   "metadata": {},
   "outputs": [
    {
     "data": {
      "application/vnd.plotly.v1+json": {
       "config": {
        "plotlyServerURL": "https://plot.ly"
       },
       "data": [
        {
         "hovertemplate": "feature1=%{x}<br>feature2=%{y}<br>target=%{z}<extra></extra>",
         "legendgroup": "",
         "marker": {
          "color": "#636efa",
          "symbol": "circle"
         },
         "mode": "markers",
         "name": "",
         "scene": "scene",
         "showlegend": false,
         "type": "scatter3d",
         "x": [
          -0.4226374539450889,
          0.45017795782497005,
          -1.4514036727027626,
          -0.296025981257789,
          0.2775030525571902,
          1.4574312922501076,
          2.3984503205675702,
          1.7354455020958752,
          0.09520855569625192,
          -2.220441937794191,
          0.9947090002286622,
          0.8772424751435554,
          0.22794305718663363,
          -0.7461466525885999,
          -1.9968019244622246,
          -0.7032897901662434,
          -1.1161093192965157,
          -0.21748894085714066,
          0.6081632579828009,
          -0.1524657747118578,
          -0.9510517641640307,
          -1.2463977823597057,
          -0.3611895736169055,
          -0.39281065602236503,
          0.60230614527025,
          0.26443201740235855,
          0.0669067362695008,
          0.9447932506648186,
          -1.4039281618350616,
          -1.1989436420106927,
          -1.2075963643428904,
          -0.1678481785305719,
          0.9357621546329209,
          2.2469554813511188,
          -1.8877528531916705,
          0.9682502316134891,
          -1.6904535689332745,
          -0.48034052736548355,
          -0.2962233675773397,
          -1.211488171593976,
          0.20011249572159379,
          0.9751126923072709,
          -1.1258998784235015,
          -0.09644758560901587,
          -1.0161311004123426,
          2.4576350207301387,
          1.6700592409617134,
          0.1773193403642633,
          0.9297857324329634,
          1.105653361918748,
          2.599247028858939,
          0.7685062958470003,
          -0.739925603707755,
          -1.0874824953160094,
          0.8986815299136048,
          -0.41778630154860774,
          -1.4308200080018048,
          0.4808686710672256,
          -1.597505755515409,
          -0.7402619341860335,
          -0.3925343373262212,
          -1.5472881517484156,
          1.4238198388224228,
          -1.9947888925984003,
          1.7743288421404455,
          0.7307012344475416,
          -2.076410100251517,
          -0.10561812170653809,
          -1.0604845857563727,
          -0.015286445603124416,
          0.4444692278712425,
          0.19165452978974834,
          0.12247302933552184,
          -1.885636209142586,
          0.24431485784636733,
          -0.2727712721590783,
          -0.2686496294457745,
          -0.9151498771913898,
          -0.3521633395555772,
          1.343429518380229,
          -1.3979802521233369,
          -0.49757834480722213,
          1.4405442674959497,
          -1.605719680531445,
          -1.601123158171218,
          -0.21166214919929668,
          0.014589635586500118,
          -0.423650387369098,
          -0.17558689551836823,
          0.00703883038176706,
          -0.4085227786317456,
          -2.432321936661961,
          -1.071714832319957,
          -1.4409866720055635,
          1.2232863073810887,
          -0.9436791718915345,
          -0.7375409344923004,
          -0.780420081590724,
          0.5508442392690283,
          -0.8850772109948407
         ],
         "y": [
          0.38882900501775586,
          0.716134301007377,
          1.3099660383878629,
          -0.8411550219162451,
          0.12020548568830623,
          0.19904835692933653,
          0.23626928701914693,
          -1.1165015457526,
          -0.5523827345706818,
          0.4621387586272223,
          -0.638068381056829,
          2.3224966911502034,
          -0.12468521002847102,
          -0.677719584032931,
          -0.12732789016368437,
          -0.3753748726645556,
          0.36895115282660346,
          -0.11789559388615402,
          0.4219363894548789,
          -1.4280187234065203,
          -0.24793292454432098,
          -0.2920847125490459,
          -0.23623636678267657,
          1.269785238645416,
          0.3799333720241954,
          -2.7930709986545135,
          -0.5087197269148683,
          -1.3038344762808547,
          -0.03709183684155292,
          -0.02437959505484719,
          1.4839233401301533,
          -0.7138846521870014,
          1.2367950136693255,
          -1.842954762175139,
          1.757369105081822,
          0.7886297673597182,
          0.45519473608861544,
          1.6891148135698266,
          0.7666281667983258,
          -1.5009122535688901,
          1.8699738802484678,
          -1.3997692304163123,
          -0.2977419978532813,
          0.15180367906103498,
          -0.9475972880007111,
          -0.20625680209300393,
          -0.42273106700904395,
          -1.2019923937176415,
          2.397487015604709,
          -0.7273606866482659,
          -0.0030504496580610577,
          0.010861362938475963,
          -0.360374166194737,
          0.1661046463765669,
          1.2765645268813817,
          0.23296178326752764,
          0.8063387156467798,
          0.08857003807495147,
          -0.8555165100960389,
          -0.7180395472422887,
          -0.07920387076001982,
          1.5121879446637723,
          1.0382231367837615,
          0.26652809066016,
          -0.7802120200777587,
          0.0034239609378745334,
          0.3490091323755663,
          -0.1820500657994196,
          1.6382645853049156,
          -1.2811639434550481,
          0.3860675136877566,
          0.7361896263784927,
          0.5342162064530603,
          0.0992459651440279,
          -0.2922522795097431,
          -1.897116845626623,
          1.0102411667845572,
          0.40959200710480975,
          -0.29611902771210485,
          1.4895463492889176,
          1.0401924147357962,
          -1.2331305008780011,
          -1.477280379072712,
          0.9421502123581263,
          -1.9317411016798827,
          0.7471892791536915,
          0.052190074932587587,
          -0.40251545733326893,
          1.83006010413769,
          1.3481807018416567,
          0.5726923426661088,
          -1.5478398412267582,
          -0.1897941680209443,
          1.238554421918771,
          0.9363646902951122,
          0.09710770142490247,
          -0.3042957495352271,
          -0.15176411520752844,
          -0.5997240698005856,
          -1.1414355080520773
         ],
         "z": [
          109.02711565771098,
          71.85470328971303,
          -121.55521332540684,
          -43.179349697758504,
          -0.6128820628603187,
          183.34218442259277,
          96.06574831208718,
          156.29884591308297,
          51.5217935663053,
          -49.0373812445967,
          33.90273743161091,
          211.11756699354,
          -8.84891475537546,
          -40.19519186851008,
          38.19791770317296,
          -50.548557938042094,
          -32.10639915630707,
          -81.77135441479994,
          28.293892208096715,
          -42.1917740258009,
          -139.24810184405683,
          -89.00892857326485,
          -53.070557550378695,
          -17.895986790188786,
          20.44421615142567,
          -6.310511034863374,
          -30.338268830037418,
          -5.821211785277249,
          -40.804733466510406,
          -51.731947230740765,
          12.53311242712616,
          0.6865833253886429,
          98.19897902602433,
          56.50483337709589,
          -13.711806247847694,
          161.13442214454219,
          11.429723484177629,
          83.9092749977234,
          54.90247877395328,
          -68.82338793390066,
          42.01947390492697,
          -72.19517788671007,
          -18.054618524872637,
          -15.555727895358187,
          -122.80443308561777,
          37.206099173842674,
          122.48191149756249,
          24.249502588145063,
          40.59241580055425,
          8.12394298636152,
          139.14794098448704,
          96.66647719888806,
          4.558389623563819,
          -70.74784580688988,
          94.0184338332723,
          43.60858505750202,
          -115.5469307602233,
          -23.634702063553288,
          -98.40753183451984,
          -101.72143971081044,
          -23.43581319110306,
          -54.72756373589931,
          109.39646060114956,
          -183.98980870925772,
          71.2273958586915,
          95.57859137010516,
          -160.89805335029519,
          -14.944541219510665,
          -31.077728775009128,
          -66.40416025689649,
          86.92293399456196,
          -26.06891267816535,
          20.957729078100577,
          -144.59831577203403,
          -44.833900553831825,
          -92.48344305631993,
          78.70648902804463,
          -13.307759453391576,
          -44.2232456591283,
          134.17624309047585,
          -68.34782890349283,
          0.11297969632549609,
          36.281095857466006,
          21.369569903509067,
          -172.06912681118888,
          23.69141865828606,
          57.62032551660815,
          21.90217192254299,
          21.531642861834197,
          52.272833813008944,
          1.832222271427371,
          -113.65577177013616,
          10.880361751783425,
          -69.44221018304322,
          20.955407319316876,
          -93.47731493736225,
          -74.78382983060385,
          -92.22666418973515,
          49.227106440960206,
          -111.1416689973048
         ]
        },
        {
         "type": "surface",
         "x": [
          -5,
          -3.888888888888889,
          -2.7777777777777777,
          -1.6666666666666665,
          -0.5555555555555554,
          0.5555555555555554,
          1.666666666666667,
          2.7777777777777786,
          3.8888888888888893,
          5
         ],
         "y": [
          -5,
          -3.888888888888889,
          -2.7777777777777777,
          -1.6666666666666665,
          -0.5555555555555554,
          0.5555555555555554,
          1.666666666666667,
          2.7777777777777786,
          3.8888888888888893,
          5
         ],
         "z": [
          [
           -415.7875768187032,
           -352.40587596317994,
           -289.02417510765673,
           -225.64247425213344,
           -162.26077339661018,
           -98.87907254108697,
           -35.49737168556371,
           27.884329169959543,
           91.26603002548279,
           154.647730881006
          ],
          [
           -384.89153047008455,
           -321.5098296145613,
           -258.1281287590381,
           -194.74642790351479,
           -131.36472704799152,
           -67.98302619246832,
           -4.601325336945047,
           58.7803755185782,
           122.16207637410145,
           185.54377722962465
          ],
          [
           -353.9954841214659,
           -290.61378326594263,
           -227.23208241041937,
           -163.85038155489613,
           -100.46868069937287,
           -37.08697984384967,
           26.29472101167361,
           89.67642186719686,
           153.0581227227201,
           216.4398235782433
          ],
          [
           -323.0994377728472,
           -259.717736917324,
           -196.3360360618007,
           -132.95433520627745,
           -69.57263435075421,
           -6.1909334952310076,
           57.19076736029226,
           120.57246821581552,
           183.95416907133875,
           247.33586992686196
          ],
          [
           -292.2033914242285,
           -228.8216905687053,
           -165.43998971318206,
           -102.05828885765881,
           -38.67658800213557,
           24.705112853387647,
           88.08681370891092,
           151.46851456443417,
           214.8502154199574,
           278.2319162754806
          ],
          [
           -261.30734507560993,
           -197.92564422008664,
           -134.5439433645634,
           -71.16224250904015,
           -7.780541653516918,
           55.60115920200629,
           118.98286005752958,
           182.36456091305283,
           245.74626176857606,
           309.1279626240992
          ],
          [
           -230.41129872699122,
           -167.02959787146798,
           -103.64789701594474,
           -40.2661961604215,
           23.115504695101748,
           86.49720555062497,
           149.87890640614825,
           213.26060726167148,
           276.6423081171947,
           340.0240089727179
          ],
          [
           -199.51525237837254,
           -136.1335515228493,
           -72.75185066732607,
           -9.370149811802827,
           54.01155104372042,
           117.39325189924364,
           180.7749527547669,
           244.15665361029016,
           307.53835446581337,
           370.9200553213366
          ],
          [
           -168.61920602975388,
           -105.23750517423066,
           -41.855804318707435,
           21.525896536815818,
           84.90759739233907,
           148.2892982478623,
           211.67099910338555,
           275.05269995890876,
           338.434400814432,
           401.81610166995523
          ],
          [
           -137.72315968113526,
           -74.34145882561202,
           -10.959757970088786,
           52.42194288543446,
           115.80364374095771,
           179.18534459648092,
           242.5670454520042,
           305.9487463075274,
           369.3304471630507,
           432.7121480185739
          ]
         ]
        }
       ],
       "layout": {
        "autosize": true,
        "legend": {
         "tracegroupgap": 0
        },
        "margin": {
         "t": 60
        },
        "scene": {
         "aspectmode": "auto",
         "aspectratio": {
          "x": 1,
          "y": 1,
          "z": 1
         },
         "camera": {
          "center": {
           "x": 0,
           "y": 0,
           "z": 0
          },
          "eye": {
           "x": 0.42251244388591086,
           "y": 0.42251244388591064,
           "z": 0.42251244388591075
          },
          "projection": {
           "type": "perspective"
          },
          "up": {
           "x": 0,
           "y": 0,
           "z": 1
          }
         },
         "domain": {
          "x": [
           0,
           1
          ],
          "y": [
           0,
           1
          ]
         },
         "xaxis": {
          "title": {
           "text": "feature1"
          },
          "type": "linear"
         },
         "yaxis": {
          "title": {
           "text": "feature2"
          },
          "type": "linear"
         },
         "zaxis": {
          "title": {
           "text": "target"
          },
          "type": "linear"
         }
        },
        "template": {
         "data": {
          "bar": [
           {
            "error_x": {
             "color": "#2a3f5f"
            },
            "error_y": {
             "color": "#2a3f5f"
            },
            "marker": {
             "line": {
              "color": "#E5ECF6",
              "width": 0.5
             },
             "pattern": {
              "fillmode": "overlay",
              "size": 10,
              "solidity": 0.2
             }
            },
            "type": "bar"
           }
          ],
          "barpolar": [
           {
            "marker": {
             "line": {
              "color": "#E5ECF6",
              "width": 0.5
             },
             "pattern": {
              "fillmode": "overlay",
              "size": 10,
              "solidity": 0.2
             }
            },
            "type": "barpolar"
           }
          ],
          "carpet": [
           {
            "aaxis": {
             "endlinecolor": "#2a3f5f",
             "gridcolor": "white",
             "linecolor": "white",
             "minorgridcolor": "white",
             "startlinecolor": "#2a3f5f"
            },
            "baxis": {
             "endlinecolor": "#2a3f5f",
             "gridcolor": "white",
             "linecolor": "white",
             "minorgridcolor": "white",
             "startlinecolor": "#2a3f5f"
            },
            "type": "carpet"
           }
          ],
          "choropleth": [
           {
            "colorbar": {
             "outlinewidth": 0,
             "ticks": ""
            },
            "type": "choropleth"
           }
          ],
          "contour": [
           {
            "colorbar": {
             "outlinewidth": 0,
             "ticks": ""
            },
            "colorscale": [
             [
              0,
              "#0d0887"
             ],
             [
              0.1111111111111111,
              "#46039f"
             ],
             [
              0.2222222222222222,
              "#7201a8"
             ],
             [
              0.3333333333333333,
              "#9c179e"
             ],
             [
              0.4444444444444444,
              "#bd3786"
             ],
             [
              0.5555555555555556,
              "#d8576b"
             ],
             [
              0.6666666666666666,
              "#ed7953"
             ],
             [
              0.7777777777777778,
              "#fb9f3a"
             ],
             [
              0.8888888888888888,
              "#fdca26"
             ],
             [
              1,
              "#f0f921"
             ]
            ],
            "type": "contour"
           }
          ],
          "contourcarpet": [
           {
            "colorbar": {
             "outlinewidth": 0,
             "ticks": ""
            },
            "type": "contourcarpet"
           }
          ],
          "heatmap": [
           {
            "colorbar": {
             "outlinewidth": 0,
             "ticks": ""
            },
            "colorscale": [
             [
              0,
              "#0d0887"
             ],
             [
              0.1111111111111111,
              "#46039f"
             ],
             [
              0.2222222222222222,
              "#7201a8"
             ],
             [
              0.3333333333333333,
              "#9c179e"
             ],
             [
              0.4444444444444444,
              "#bd3786"
             ],
             [
              0.5555555555555556,
              "#d8576b"
             ],
             [
              0.6666666666666666,
              "#ed7953"
             ],
             [
              0.7777777777777778,
              "#fb9f3a"
             ],
             [
              0.8888888888888888,
              "#fdca26"
             ],
             [
              1,
              "#f0f921"
             ]
            ],
            "type": "heatmap"
           }
          ],
          "heatmapgl": [
           {
            "colorbar": {
             "outlinewidth": 0,
             "ticks": ""
            },
            "colorscale": [
             [
              0,
              "#0d0887"
             ],
             [
              0.1111111111111111,
              "#46039f"
             ],
             [
              0.2222222222222222,
              "#7201a8"
             ],
             [
              0.3333333333333333,
              "#9c179e"
             ],
             [
              0.4444444444444444,
              "#bd3786"
             ],
             [
              0.5555555555555556,
              "#d8576b"
             ],
             [
              0.6666666666666666,
              "#ed7953"
             ],
             [
              0.7777777777777778,
              "#fb9f3a"
             ],
             [
              0.8888888888888888,
              "#fdca26"
             ],
             [
              1,
              "#f0f921"
             ]
            ],
            "type": "heatmapgl"
           }
          ],
          "histogram": [
           {
            "marker": {
             "pattern": {
              "fillmode": "overlay",
              "size": 10,
              "solidity": 0.2
             }
            },
            "type": "histogram"
           }
          ],
          "histogram2d": [
           {
            "colorbar": {
             "outlinewidth": 0,
             "ticks": ""
            },
            "colorscale": [
             [
              0,
              "#0d0887"
             ],
             [
              0.1111111111111111,
              "#46039f"
             ],
             [
              0.2222222222222222,
              "#7201a8"
             ],
             [
              0.3333333333333333,
              "#9c179e"
             ],
             [
              0.4444444444444444,
              "#bd3786"
             ],
             [
              0.5555555555555556,
              "#d8576b"
             ],
             [
              0.6666666666666666,
              "#ed7953"
             ],
             [
              0.7777777777777778,
              "#fb9f3a"
             ],
             [
              0.8888888888888888,
              "#fdca26"
             ],
             [
              1,
              "#f0f921"
             ]
            ],
            "type": "histogram2d"
           }
          ],
          "histogram2dcontour": [
           {
            "colorbar": {
             "outlinewidth": 0,
             "ticks": ""
            },
            "colorscale": [
             [
              0,
              "#0d0887"
             ],
             [
              0.1111111111111111,
              "#46039f"
             ],
             [
              0.2222222222222222,
              "#7201a8"
             ],
             [
              0.3333333333333333,
              "#9c179e"
             ],
             [
              0.4444444444444444,
              "#bd3786"
             ],
             [
              0.5555555555555556,
              "#d8576b"
             ],
             [
              0.6666666666666666,
              "#ed7953"
             ],
             [
              0.7777777777777778,
              "#fb9f3a"
             ],
             [
              0.8888888888888888,
              "#fdca26"
             ],
             [
              1,
              "#f0f921"
             ]
            ],
            "type": "histogram2dcontour"
           }
          ],
          "mesh3d": [
           {
            "colorbar": {
             "outlinewidth": 0,
             "ticks": ""
            },
            "type": "mesh3d"
           }
          ],
          "parcoords": [
           {
            "line": {
             "colorbar": {
              "outlinewidth": 0,
              "ticks": ""
             }
            },
            "type": "parcoords"
           }
          ],
          "pie": [
           {
            "automargin": true,
            "type": "pie"
           }
          ],
          "scatter": [
           {
            "fillpattern": {
             "fillmode": "overlay",
             "size": 10,
             "solidity": 0.2
            },
            "type": "scatter"
           }
          ],
          "scatter3d": [
           {
            "line": {
             "colorbar": {
              "outlinewidth": 0,
              "ticks": ""
             }
            },
            "marker": {
             "colorbar": {
              "outlinewidth": 0,
              "ticks": ""
             }
            },
            "type": "scatter3d"
           }
          ],
          "scattercarpet": [
           {
            "marker": {
             "colorbar": {
              "outlinewidth": 0,
              "ticks": ""
             }
            },
            "type": "scattercarpet"
           }
          ],
          "scattergeo": [
           {
            "marker": {
             "colorbar": {
              "outlinewidth": 0,
              "ticks": ""
             }
            },
            "type": "scattergeo"
           }
          ],
          "scattergl": [
           {
            "marker": {
             "colorbar": {
              "outlinewidth": 0,
              "ticks": ""
             }
            },
            "type": "scattergl"
           }
          ],
          "scattermapbox": [
           {
            "marker": {
             "colorbar": {
              "outlinewidth": 0,
              "ticks": ""
             }
            },
            "type": "scattermapbox"
           }
          ],
          "scatterpolar": [
           {
            "marker": {
             "colorbar": {
              "outlinewidth": 0,
              "ticks": ""
             }
            },
            "type": "scatterpolar"
           }
          ],
          "scatterpolargl": [
           {
            "marker": {
             "colorbar": {
              "outlinewidth": 0,
              "ticks": ""
             }
            },
            "type": "scatterpolargl"
           }
          ],
          "scatterternary": [
           {
            "marker": {
             "colorbar": {
              "outlinewidth": 0,
              "ticks": ""
             }
            },
            "type": "scatterternary"
           }
          ],
          "surface": [
           {
            "colorbar": {
             "outlinewidth": 0,
             "ticks": ""
            },
            "colorscale": [
             [
              0,
              "#0d0887"
             ],
             [
              0.1111111111111111,
              "#46039f"
             ],
             [
              0.2222222222222222,
              "#7201a8"
             ],
             [
              0.3333333333333333,
              "#9c179e"
             ],
             [
              0.4444444444444444,
              "#bd3786"
             ],
             [
              0.5555555555555556,
              "#d8576b"
             ],
             [
              0.6666666666666666,
              "#ed7953"
             ],
             [
              0.7777777777777778,
              "#fb9f3a"
             ],
             [
              0.8888888888888888,
              "#fdca26"
             ],
             [
              1,
              "#f0f921"
             ]
            ],
            "type": "surface"
           }
          ],
          "table": [
           {
            "cells": {
             "fill": {
              "color": "#EBF0F8"
             },
             "line": {
              "color": "white"
             }
            },
            "header": {
             "fill": {
              "color": "#C8D4E3"
             },
             "line": {
              "color": "white"
             }
            },
            "type": "table"
           }
          ]
         },
         "layout": {
          "annotationdefaults": {
           "arrowcolor": "#2a3f5f",
           "arrowhead": 0,
           "arrowwidth": 1
          },
          "autotypenumbers": "strict",
          "coloraxis": {
           "colorbar": {
            "outlinewidth": 0,
            "ticks": ""
           }
          },
          "colorscale": {
           "diverging": [
            [
             0,
             "#8e0152"
            ],
            [
             0.1,
             "#c51b7d"
            ],
            [
             0.2,
             "#de77ae"
            ],
            [
             0.3,
             "#f1b6da"
            ],
            [
             0.4,
             "#fde0ef"
            ],
            [
             0.5,
             "#f7f7f7"
            ],
            [
             0.6,
             "#e6f5d0"
            ],
            [
             0.7,
             "#b8e186"
            ],
            [
             0.8,
             "#7fbc41"
            ],
            [
             0.9,
             "#4d9221"
            ],
            [
             1,
             "#276419"
            ]
           ],
           "sequential": [
            [
             0,
             "#0d0887"
            ],
            [
             0.1111111111111111,
             "#46039f"
            ],
            [
             0.2222222222222222,
             "#7201a8"
            ],
            [
             0.3333333333333333,
             "#9c179e"
            ],
            [
             0.4444444444444444,
             "#bd3786"
            ],
            [
             0.5555555555555556,
             "#d8576b"
            ],
            [
             0.6666666666666666,
             "#ed7953"
            ],
            [
             0.7777777777777778,
             "#fb9f3a"
            ],
            [
             0.8888888888888888,
             "#fdca26"
            ],
            [
             1,
             "#f0f921"
            ]
           ],
           "sequentialminus": [
            [
             0,
             "#0d0887"
            ],
            [
             0.1111111111111111,
             "#46039f"
            ],
            [
             0.2222222222222222,
             "#7201a8"
            ],
            [
             0.3333333333333333,
             "#9c179e"
            ],
            [
             0.4444444444444444,
             "#bd3786"
            ],
            [
             0.5555555555555556,
             "#d8576b"
            ],
            [
             0.6666666666666666,
             "#ed7953"
            ],
            [
             0.7777777777777778,
             "#fb9f3a"
            ],
            [
             0.8888888888888888,
             "#fdca26"
            ],
            [
             1,
             "#f0f921"
            ]
           ]
          },
          "colorway": [
           "#636efa",
           "#EF553B",
           "#00cc96",
           "#ab63fa",
           "#FFA15A",
           "#19d3f3",
           "#FF6692",
           "#B6E880",
           "#FF97FF",
           "#FECB52"
          ],
          "font": {
           "color": "#2a3f5f"
          },
          "geo": {
           "bgcolor": "white",
           "lakecolor": "white",
           "landcolor": "#E5ECF6",
           "showlakes": true,
           "showland": true,
           "subunitcolor": "white"
          },
          "hoverlabel": {
           "align": "left"
          },
          "hovermode": "closest",
          "mapbox": {
           "style": "light"
          },
          "paper_bgcolor": "white",
          "plot_bgcolor": "#E5ECF6",
          "polar": {
           "angularaxis": {
            "gridcolor": "white",
            "linecolor": "white",
            "ticks": ""
           },
           "bgcolor": "#E5ECF6",
           "radialaxis": {
            "gridcolor": "white",
            "linecolor": "white",
            "ticks": ""
           }
          },
          "scene": {
           "xaxis": {
            "backgroundcolor": "#E5ECF6",
            "gridcolor": "white",
            "gridwidth": 2,
            "linecolor": "white",
            "showbackground": true,
            "ticks": "",
            "zerolinecolor": "white"
           },
           "yaxis": {
            "backgroundcolor": "#E5ECF6",
            "gridcolor": "white",
            "gridwidth": 2,
            "linecolor": "white",
            "showbackground": true,
            "ticks": "",
            "zerolinecolor": "white"
           },
           "zaxis": {
            "backgroundcolor": "#E5ECF6",
            "gridcolor": "white",
            "gridwidth": 2,
            "linecolor": "white",
            "showbackground": true,
            "ticks": "",
            "zerolinecolor": "white"
           }
          },
          "shapedefaults": {
           "line": {
            "color": "#2a3f5f"
           }
          },
          "ternary": {
           "aaxis": {
            "gridcolor": "white",
            "linecolor": "white",
            "ticks": ""
           },
           "baxis": {
            "gridcolor": "white",
            "linecolor": "white",
            "ticks": ""
           },
           "bgcolor": "#E5ECF6",
           "caxis": {
            "gridcolor": "white",
            "linecolor": "white",
            "ticks": ""
           }
          },
          "title": {
           "x": 0.05
          },
          "xaxis": {
           "automargin": true,
           "gridcolor": "white",
           "linecolor": "white",
           "ticks": "",
           "title": {
            "standoff": 15
           },
           "zerolinecolor": "white",
           "zerolinewidth": 2
          },
          "yaxis": {
           "automargin": true,
           "gridcolor": "white",
           "linecolor": "white",
           "ticks": "",
           "title": {
            "standoff": 15
           },
           "zerolinecolor": "white",
           "zerolinewidth": 2
          }
         }
        }
       }
      },
      "image/png": "[encoded data removed]",
      "text/html": [
       "<div>                            <div id=\"7cbf728a-981e-42a9-82aa-2341ff98c679\" class=\"plotly-graph-div\" style=\"height:525px; width:100%;\"></div>            <script type=\"text/javascript\">                require([\"plotly\"], function(Plotly) {                    window.PLOTLYENV=window.PLOTLYENV || {};                                    if (document.getElementById(\"7cbf728a-981e-42a9-82aa-2341ff98c679\")) {                    Plotly.newPlot(                        \"7cbf728a-981e-42a9-82aa-2341ff98c679\",                        [{\"hovertemplate\":\"feature1=%{x}\\u003cbr\\u003efeature2=%{y}\\u003cbr\\u003etarget=%{z}\\u003cextra\\u003e\\u003c\\u002fextra\\u003e\",\"legendgroup\":\"\",\"marker\":{\"color\":\"#636efa\",\"symbol\":\"circle\"},\"mode\":\"markers\",\"name\":\"\",\"scene\":\"scene\",\"showlegend\":false,\"x\":[-0.4226374539450889,0.45017795782497005,-1.4514036727027626,-0.296025981257789,0.2775030525571902,1.4574312922501076,2.3984503205675702,1.7354455020958752,0.09520855569625192,-2.220441937794191,0.9947090002286622,0.8772424751435554,0.22794305718663363,-0.7461466525885999,-1.9968019244622246,-0.7032897901662434,-1.1161093192965157,-0.21748894085714066,0.6081632579828009,-0.1524657747118578,-0.9510517641640307,-1.2463977823597057,-0.3611895736169055,-0.39281065602236503,0.60230614527025,0.26443201740235855,0.0669067362695008,0.9447932506648186,-1.4039281618350616,-1.1989436420106927,-1.2075963643428904,-0.1678481785305719,0.9357621546329209,2.2469554813511188,-1.8877528531916705,0.9682502316134891,-1.6904535689332745,-0.48034052736548355,-0.2962233675773397,-1.211488171593976,0.20011249572159379,0.9751126923072709,-1.1258998784235015,-0.09644758560901587,-1.0161311004123426,2.4576350207301387,1.6700592409617134,0.1773193403642633,0.9297857324329634,1.105653361918748,2.599247028858939,0.7685062958470003,-0.739925603707755,-1.0874824953160094,0.8986815299136048,-0.41778630154860774,-1.4308200080018048,0.4808686710672256,-1.597505755515409,-0.7402619341860335,-0.3925343373262212,-1.5472881517484156,1.4238198388224228,-1.9947888925984003,1.7743288421404455,0.7307012344475416,-2.076410100251517,-0.10561812170653809,-1.0604845857563727,-0.015286445603124416,0.4444692278712425,0.19165452978974834,0.12247302933552184,-1.885636209142586,0.24431485784636733,-0.2727712721590783,-0.2686496294457745,-0.9151498771913898,-0.3521633395555772,1.343429518380229,-1.3979802521233369,-0.49757834480722213,1.4405442674959497,-1.605719680531445,-1.601123158171218,-0.21166214919929668,0.014589635586500118,-0.423650387369098,-0.17558689551836823,0.00703883038176706,-0.4085227786317456,-2.432321936661961,-1.071714832319957,-1.4409866720055635,1.2232863073810887,-0.9436791718915345,-0.7375409344923004,-0.780420081590724,0.5508442392690283,-0.8850772109948407],\"y\":[0.38882900501775586,0.716134301007377,1.3099660383878629,-0.8411550219162451,0.12020548568830623,0.19904835692933653,0.23626928701914693,-1.1165015457526,-0.5523827345706818,0.4621387586272223,-0.638068381056829,2.3224966911502034,-0.12468521002847102,-0.677719584032931,-0.12732789016368437,-0.3753748726645556,0.36895115282660346,-0.11789559388615402,0.4219363894548789,-1.4280187234065203,-0.24793292454432098,-0.2920847125490459,-0.23623636678267657,1.269785238645416,0.3799333720241954,-2.7930709986545135,-0.5087197269148683,-1.3038344762808547,-0.03709183684155292,-0.02437959505484719,1.4839233401301533,-0.7138846521870014,1.2367950136693255,-1.842954762175139,1.757369105081822,0.7886297673597182,0.45519473608861544,1.6891148135698266,0.7666281667983258,-1.5009122535688901,1.8699738802484678,-1.3997692304163123,-0.2977419978532813,0.15180367906103498,-0.9475972880007111,-0.20625680209300393,-0.42273106700904395,-1.2019923937176415,2.397487015604709,-0.7273606866482659,-0.0030504496580610577,0.010861362938475963,-0.360374166194737,0.1661046463765669,1.2765645268813817,0.23296178326752764,0.8063387156467798,0.08857003807495147,-0.8555165100960389,-0.7180395472422887,-0.07920387076001982,1.5121879446637723,1.0382231367837615,0.26652809066016,-0.7802120200777587,0.0034239609378745334,0.3490091323755663,-0.1820500657994196,1.6382645853049156,-1.2811639434550481,0.3860675136877566,0.7361896263784927,0.5342162064530603,0.0992459651440279,-0.2922522795097431,-1.897116845626623,1.0102411667845572,0.40959200710480975,-0.29611902771210485,1.4895463492889176,1.0401924147357962,-1.2331305008780011,-1.477280379072712,0.9421502123581263,-1.9317411016798827,0.7471892791536915,0.052190074932587587,-0.40251545733326893,1.83006010413769,1.3481807018416567,0.5726923426661088,-1.5478398412267582,-0.1897941680209443,1.238554421918771,0.9363646902951122,0.09710770142490247,-0.3042957495352271,-0.15176411520752844,-0.5997240698005856,-1.1414355080520773],\"z\":[109.02711565771098,71.85470328971303,-121.55521332540684,-43.179349697758504,-0.6128820628603187,183.34218442259277,96.06574831208718,156.29884591308297,51.5217935663053,-49.0373812445967,33.90273743161091,211.11756699354,-8.84891475537546,-40.19519186851008,38.19791770317296,-50.548557938042094,-32.10639915630707,-81.77135441479994,28.293892208096715,-42.1917740258009,-139.24810184405683,-89.00892857326485,-53.070557550378695,-17.895986790188786,20.44421615142567,-6.310511034863374,-30.338268830037418,-5.821211785277249,-40.804733466510406,-51.731947230740765,12.53311242712616,0.6865833253886429,98.19897902602433,56.50483337709589,-13.711806247847694,161.13442214454219,11.429723484177629,83.9092749977234,54.90247877395328,-68.82338793390066,42.01947390492697,-72.19517788671007,-18.054618524872637,-15.555727895358187,-122.80443308561777,37.206099173842674,122.48191149756249,24.249502588145063,40.59241580055425,8.12394298636152,139.14794098448704,96.66647719888806,4.558389623563819,-70.74784580688988,94.0184338332723,43.60858505750202,-115.5469307602233,-23.634702063553288,-98.40753183451984,-101.72143971081044,-23.43581319110306,-54.72756373589931,109.39646060114956,-183.98980870925772,71.2273958586915,95.57859137010516,-160.89805335029519,-14.944541219510665,-31.077728775009128,-66.40416025689649,86.92293399456196,-26.06891267816535,20.957729078100577,-144.59831577203403,-44.833900553831825,-92.48344305631993,78.70648902804463,-13.307759453391576,-44.2232456591283,134.17624309047585,-68.34782890349283,0.11297969632549609,36.281095857466006,21.369569903509067,-172.06912681118888,23.69141865828606,57.62032551660815,21.90217192254299,21.531642861834197,52.272833813008944,1.832222271427371,-113.65577177013616,10.880361751783425,-69.44221018304322,20.955407319316876,-93.47731493736225,-74.78382983060385,-92.22666418973515,49.227106440960206,-111.1416689973048],\"type\":\"scatter3d\"},{\"x\":[-5.0,-3.888888888888889,-2.7777777777777777,-1.6666666666666665,-0.5555555555555554,0.5555555555555554,1.666666666666667,2.7777777777777786,3.8888888888888893,5.0],\"y\":[-5.0,-3.888888888888889,-2.7777777777777777,-1.6666666666666665,-0.5555555555555554,0.5555555555555554,1.666666666666667,2.7777777777777786,3.8888888888888893,5.0],\"z\":[[-415.7875768187032,-352.40587596317994,-289.02417510765673,-225.64247425213344,-162.26077339661018,-98.87907254108697,-35.49737168556371,27.884329169959543,91.26603002548279,154.647730881006],[-384.89153047008455,-321.5098296145613,-258.1281287590381,-194.74642790351479,-131.36472704799152,-67.98302619246832,-4.601325336945047,58.7803755185782,122.16207637410145,185.54377722962465],[-353.9954841214659,-290.61378326594263,-227.23208241041937,-163.85038155489613,-100.46868069937287,-37.08697984384967,26.29472101167361,89.67642186719686,153.0581227227201,216.4398235782433],[-323.0994377728472,-259.717736917324,-196.3360360618007,-132.95433520627745,-69.57263435075421,-6.1909334952310076,57.19076736029226,120.57246821581552,183.95416907133875,247.33586992686196],[-292.2033914242285,-228.8216905687053,-165.43998971318206,-102.05828885765881,-38.67658800213557,24.705112853387647,88.08681370891092,151.46851456443417,214.8502154199574,278.2319162754806],[-261.30734507560993,-197.92564422008664,-134.5439433645634,-71.16224250904015,-7.780541653516918,55.60115920200629,118.98286005752958,182.36456091305283,245.74626176857606,309.1279626240992],[-230.41129872699122,-167.02959787146798,-103.64789701594474,-40.2661961604215,23.115504695101748,86.49720555062497,149.87890640614825,213.26060726167148,276.6423081171947,340.0240089727179],[-199.51525237837254,-136.1335515228493,-72.75185066732607,-9.370149811802827,54.01155104372042,117.39325189924364,180.7749527547669,244.15665361029016,307.53835446581337,370.9200553213366],[-168.61920602975388,-105.23750517423066,-41.855804318707435,21.525896536815818,84.90759739233907,148.2892982478623,211.67099910338555,275.05269995890876,338.434400814432,401.81610166995523],[-137.72315968113526,-74.34145882561202,-10.959757970088786,52.42194288543446,115.80364374095771,179.18534459648092,242.5670454520042,305.9487463075274,369.3304471630507,432.7121480185739]],\"type\":\"surface\"}],                        {\"template\":{\"data\":{\"histogram2dcontour\":[{\"type\":\"histogram2dcontour\",\"colorbar\":{\"outlinewidth\":0,\"ticks\":\"\"},\"colorscale\":[[0.0,\"#0d0887\"],[0.1111111111111111,\"#46039f\"],[0.2222222222222222,\"#7201a8\"],[0.3333333333333333,\"#9c179e\"],[0.4444444444444444,\"#bd3786\"],[0.5555555555555556,\"#d8576b\"],[0.6666666666666666,\"#ed7953\"],[0.7777777777777778,\"#fb9f3a\"],[0.8888888888888888,\"#fdca26\"],[1.0,\"#f0f921\"]]}],\"choropleth\":[{\"type\":\"choropleth\",\"colorbar\":{\"outlinewidth\":0,\"ticks\":\"\"}}],\"histogram2d\":[{\"type\":\"histogram2d\",\"colorbar\":{\"outlinewidth\":0,\"ticks\":\"\"},\"colorscale\":[[0.0,\"#0d0887\"],[0.1111111111111111,\"#46039f\"],[0.2222222222222222,\"#7201a8\"],[0.3333333333333333,\"#9c179e\"],[0.4444444444444444,\"#bd3786\"],[0.5555555555555556,\"#d8576b\"],[0.6666666666666666,\"#ed7953\"],[0.7777777777777778,\"#fb9f3a\"],[0.8888888888888888,\"#fdca26\"],[1.0,\"#f0f921\"]]}],\"heatmap\":[{\"type\":\"heatmap\",\"colorbar\":{\"outlinewidth\":0,\"ticks\":\"\"},\"colorscale\":[[0.0,\"#0d0887\"],[0.1111111111111111,\"#46039f\"],[0.2222222222222222,\"#7201a8\"],[0.3333333333333333,\"#9c179e\"],[0.4444444444444444,\"#bd3786\"],[0.5555555555555556,\"#d8576b\"],[0.6666666666666666,\"#ed7953\"],[0.7777777777777778,\"#fb9f3a\"],[0.8888888888888888,\"#fdca26\"],[1.0,\"#f0f921\"]]}],\"heatmapgl\":[{\"type\":\"heatmapgl\",\"colorbar\":{\"outlinewidth\":0,\"ticks\":\"\"},\"colorscale\":[[0.0,\"#0d0887\"],[0.1111111111111111,\"#46039f\"],[0.2222222222222222,\"#7201a8\"],[0.3333333333333333,\"#9c179e\"],[0.4444444444444444,\"#bd3786\"],[0.5555555555555556,\"#d8576b\"],[0.6666666666666666,\"#ed7953\"],[0.7777777777777778,\"#fb9f3a\"],[0.8888888888888888,\"#fdca26\"],[1.0,\"#f0f921\"]]}],\"contourcarpet\":[{\"type\":\"contourcarpet\",\"colorbar\":{\"outlinewidth\":0,\"ticks\":\"\"}}],\"contour\":[{\"type\":\"contour\",\"colorbar\":{\"outlinewidth\":0,\"ticks\":\"\"},\"colorscale\":[[0.0,\"#0d0887\"],[0.1111111111111111,\"#46039f\"],[0.2222222222222222,\"#7201a8\"],[0.3333333333333333,\"#9c179e\"],[0.4444444444444444,\"#bd3786\"],[0.5555555555555556,\"#d8576b\"],[0.6666666666666666,\"#ed7953\"],[0.7777777777777778,\"#fb9f3a\"],[0.8888888888888888,\"#fdca26\"],[1.0,\"#f0f921\"]]}],\"surface\":[{\"type\":\"surface\",\"colorbar\":{\"outlinewidth\":0,\"ticks\":\"\"},\"colorscale\":[[0.0,\"#0d0887\"],[0.1111111111111111,\"#46039f\"],[0.2222222222222222,\"#7201a8\"],[0.3333333333333333,\"#9c179e\"],[0.4444444444444444,\"#bd3786\"],[0.5555555555555556,\"#d8576b\"],[0.6666666666666666,\"#ed7953\"],[0.7777777777777778,\"#fb9f3a\"],[0.8888888888888888,\"#fdca26\"],[1.0,\"#f0f921\"]]}],\"mesh3d\":[{\"type\":\"mesh3d\",\"colorbar\":{\"outlinewidth\":0,\"ticks\":\"\"}}],\"scatter\":[{\"fillpattern\":{\"fillmode\":\"overlay\",\"size\":10,\"solidity\":0.2},\"type\":\"scatter\"}],\"parcoords\":[{\"type\":\"parcoords\",\"line\":{\"colorbar\":{\"outlinewidth\":0,\"ticks\":\"\"}}}],\"scatterpolargl\":[{\"type\":\"scatterpolargl\",\"marker\":{\"colorbar\":{\"outlinewidth\":0,\"ticks\":\"\"}}}],\"bar\":[{\"error_x\":{\"color\":\"#2a3f5f\"},\"error_y\":{\"color\":\"#2a3f5f\"},\"marker\":{\"line\":{\"color\":\"#E5ECF6\",\"width\":0.5},\"pattern\":{\"fillmode\":\"overlay\",\"size\":10,\"solidity\":0.2}},\"type\":\"bar\"}],\"scattergeo\":[{\"type\":\"scattergeo\",\"marker\":{\"colorbar\":{\"outlinewidth\":0,\"ticks\":\"\"}}}],\"scatterpolar\":[{\"type\":\"scatterpolar\",\"marker\":{\"colorbar\":{\"outlinewidth\":0,\"ticks\":\"\"}}}],\"histogram\":[{\"marker\":{\"pattern\":{\"fillmode\":\"overlay\",\"size\":10,\"solidity\":0.2}},\"type\":\"histogram\"}],\"scattergl\":[{\"type\":\"scattergl\",\"marker\":{\"colorbar\":{\"outlinewidth\":0,\"ticks\":\"\"}}}],\"scatter3d\":[{\"type\":\"scatter3d\",\"line\":{\"colorbar\":{\"outlinewidth\":0,\"ticks\":\"\"}},\"marker\":{\"colorbar\":{\"outlinewidth\":0,\"ticks\":\"\"}}}],\"scattermapbox\":[{\"type\":\"scattermapbox\",\"marker\":{\"colorbar\":{\"outlinewidth\":0,\"ticks\":\"\"}}}],\"scatterternary\":[{\"type\":\"scatterternary\",\"marker\":{\"colorbar\":{\"outlinewidth\":0,\"ticks\":\"\"}}}],\"scattercarpet\":[{\"type\":\"scattercarpet\",\"marker\":{\"colorbar\":{\"outlinewidth\":0,\"ticks\":\"\"}}}],\"carpet\":[{\"aaxis\":{\"endlinecolor\":\"#2a3f5f\",\"gridcolor\":\"white\",\"linecolor\":\"white\",\"minorgridcolor\":\"white\",\"startlinecolor\":\"#2a3f5f\"},\"baxis\":{\"endlinecolor\":\"#2a3f5f\",\"gridcolor\":\"white\",\"linecolor\":\"white\",\"minorgridcolor\":\"white\",\"startlinecolor\":\"#2a3f5f\"},\"type\":\"carpet\"}],\"table\":[{\"cells\":{\"fill\":{\"color\":\"#EBF0F8\"},\"line\":{\"color\":\"white\"}},\"header\":{\"fill\":{\"color\":\"#C8D4E3\"},\"line\":{\"color\":\"white\"}},\"type\":\"table\"}],\"barpolar\":[{\"marker\":{\"line\":{\"color\":\"#E5ECF6\",\"width\":0.5},\"pattern\":{\"fillmode\":\"overlay\",\"size\":10,\"solidity\":0.2}},\"type\":\"barpolar\"}],\"pie\":[{\"automargin\":true,\"type\":\"pie\"}]},\"layout\":{\"autotypenumbers\":\"strict\",\"colorway\":[\"#636efa\",\"#EF553B\",\"#00cc96\",\"#ab63fa\",\"#FFA15A\",\"#19d3f3\",\"#FF6692\",\"#B6E880\",\"#FF97FF\",\"#FECB52\"],\"font\":{\"color\":\"#2a3f5f\"},\"hovermode\":\"closest\",\"hoverlabel\":{\"align\":\"left\"},\"paper_bgcolor\":\"white\",\"plot_bgcolor\":\"#E5ECF6\",\"polar\":{\"bgcolor\":\"#E5ECF6\",\"angularaxis\":{\"gridcolor\":\"white\",\"linecolor\":\"white\",\"ticks\":\"\"},\"radialaxis\":{\"gridcolor\":\"white\",\"linecolor\":\"white\",\"ticks\":\"\"}},\"ternary\":{\"bgcolor\":\"#E5ECF6\",\"aaxis\":{\"gridcolor\":\"white\",\"linecolor\":\"white\",\"ticks\":\"\"},\"baxis\":{\"gridcolor\":\"white\",\"linecolor\":\"white\",\"ticks\":\"\"},\"caxis\":{\"gridcolor\":\"white\",\"linecolor\":\"white\",\"ticks\":\"\"}},\"coloraxis\":{\"colorbar\":{\"outlinewidth\":0,\"ticks\":\"\"}},\"colorscale\":{\"sequential\":[[0.0,\"#0d0887\"],[0.1111111111111111,\"#46039f\"],[0.2222222222222222,\"#7201a8\"],[0.3333333333333333,\"#9c179e\"],[0.4444444444444444,\"#bd3786\"],[0.5555555555555556,\"#d8576b\"],[0.6666666666666666,\"#ed7953\"],[0.7777777777777778,\"#fb9f3a\"],[0.8888888888888888,\"#fdca26\"],[1.0,\"#f0f921\"]],\"sequentialminus\":[[0.0,\"#0d0887\"],[0.1111111111111111,\"#46039f\"],[0.2222222222222222,\"#7201a8\"],[0.3333333333333333,\"#9c179e\"],[0.4444444444444444,\"#bd3786\"],[0.5555555555555556,\"#d8576b\"],[0.6666666666666666,\"#ed7953\"],[0.7777777777777778,\"#fb9f3a\"],[0.8888888888888888,\"#fdca26\"],[1.0,\"#f0f921\"]],\"diverging\":[[0,\"#8e0152\"],[0.1,\"#c51b7d\"],[0.2,\"#de77ae\"],[0.3,\"#f1b6da\"],[0.4,\"#fde0ef\"],[0.5,\"#f7f7f7\"],[0.6,\"#e6f5d0\"],[0.7,\"#b8e186\"],[0.8,\"#7fbc41\"],[0.9,\"#4d9221\"],[1,\"#276419\"]]},\"xaxis\":{\"gridcolor\":\"white\",\"linecolor\":\"white\",\"ticks\":\"\",\"title\":{\"standoff\":15},\"zerolinecolor\":\"white\",\"automargin\":true,\"zerolinewidth\":2},\"yaxis\":{\"gridcolor\":\"white\",\"linecolor\":\"white\",\"ticks\":\"\",\"title\":{\"standoff\":15},\"zerolinecolor\":\"white\",\"automargin\":true,\"zerolinewidth\":2},\"scene\":{\"xaxis\":{\"backgroundcolor\":\"#E5ECF6\",\"gridcolor\":\"white\",\"linecolor\":\"white\",\"showbackground\":true,\"ticks\":\"\",\"zerolinecolor\":\"white\",\"gridwidth\":2},\"yaxis\":{\"backgroundcolor\":\"#E5ECF6\",\"gridcolor\":\"white\",\"linecolor\":\"white\",\"showbackground\":true,\"ticks\":\"\",\"zerolinecolor\":\"white\",\"gridwidth\":2},\"zaxis\":{\"backgroundcolor\":\"#E5ECF6\",\"gridcolor\":\"white\",\"linecolor\":\"white\",\"showbackground\":true,\"ticks\":\"\",\"zerolinecolor\":\"white\",\"gridwidth\":2}},\"shapedefaults\":{\"line\":{\"color\":\"#2a3f5f\"}},\"annotationdefaults\":{\"arrowcolor\":\"#2a3f5f\",\"arrowhead\":0,\"arrowwidth\":1},\"geo\":{\"bgcolor\":\"white\",\"landcolor\":\"#E5ECF6\",\"subunitcolor\":\"white\",\"showland\":true,\"showlakes\":true,\"lakecolor\":\"white\"},\"title\":{\"x\":0.05},\"mapbox\":{\"style\":\"light\"}}},\"scene\":{\"domain\":{\"x\":[0.0,1.0],\"y\":[0.0,1.0]},\"xaxis\":{\"title\":{\"text\":\"feature1\"}},\"yaxis\":{\"title\":{\"text\":\"feature2\"}},\"zaxis\":{\"title\":{\"text\":\"target\"}}},\"legend\":{\"tracegroupgap\":0},\"margin\":{\"t\":60}},                        {\"responsive\": true}                    ).then(function(){\n",
       "                            \n",
       "var gd = document.getElementById('7cbf728a-981e-42a9-82aa-2341ff98c679');\n",
       "var x = new MutationObserver(function (mutations, observer) {{\n",
       "        var display = window.getComputedStyle(gd).display;\n",
       "        if (!display || display === 'none') {{\n",
       "            console.log([gd, 'removed!']);\n",
       "            Plotly.purge(gd);\n",
       "            observer.disconnect();\n",
       "        }}\n",
       "}});\n",
       "\n",
       "// Listen for the removal of the full notebook cells\n",
       "var notebookContainer = gd.closest('#notebook-container');\n",
       "if (notebookContainer) {{\n",
       "    x.observe(notebookContainer, {childList: true});\n",
       "}}\n",
       "\n",
       "// Listen for the clearing of the current output cell\n",
       "var outputEl = gd.closest('.output');\n",
       "if (outputEl) {{\n",
       "    x.observe(outputEl, {childList: true});\n",
       "}}\n",
       "\n",
       "                        })                };                });            </script>        </div>"
      ]
     },
     "metadata": {},
     "output_type": "display_data"
    }
   ],
   "source": [
    "x = np.linspace(-5, 5, 10)\n",
    "y = np.linspace(-5, 5, 10)\n",
    "xGrid, yGrid = np.meshgrid(x, y)\n",
    "\n",
    "# Combine the grid into a single dataset for prediction\n",
    "final = np.vstack((xGrid.ravel(), yGrid.ravel())).T\n",
    "\n",
    "# Predict z values and reshape to match the grid\n",
    "z_final = lr.predict(final).reshape(10, 10)\n",
    "\n",
    "# Assign z to the final prediction grid\n",
    "z = z_final\n",
    "\n",
    "fig = px.scatter_3d(df, x='feature1', y='feature2', z='target')\n",
    "fig.add_trace(go.Surface(x=x, y=y, z=z))\n",
    "fig.show()"
   ]
  }
 ],
 "metadata": {
  "kernelspec": {
   "display_name": "Python 3 (ipykernel)",
   "language": "python",
   "name": "python3"
  },
  "language_info": {
   "codemirror_mode": {
    "name": "ipython",
    "version": 3
   },
   "file_extension": ".py",
   "mimetype": "text/x-python",
   "name": "python",
   "nbconvert_exporter": "python",
   "pygments_lexer": "ipython3",
   "version": "3.12.2"
  }
 },
 "nbformat": 4,
 "nbformat_minor": 5
}
