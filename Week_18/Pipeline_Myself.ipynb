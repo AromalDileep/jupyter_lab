{
 "cells": [
  {
   "cell_type": "code",
   "execution_count": 60,
   "id": "882498b3-2bae-4038-9112-806e6dcc8f34",
   "metadata": {},
   "outputs": [
    {
     "name": "stdout",
     "output_type": "stream",
     "text": [
      "Best Model: {'classifier': SVC(), 'classifier__C': 0.1, 'classifier__kernel': 'linear'}\n",
      "Best Score: 0.975\n",
      "Test Accuracy: 0.93\n",
      "\n",
      "🔹 Best Scores Across Metrics:\n",
      "Accuracy: 0.9750\n",
      "Precision: 0.9793\n",
      "Recall: 0.9750\n",
      "F1: 0.9749\n"
     ]
    }
   ],
   "source": [
    "from sklearn.pipeline import Pipeline\n",
    "from sklearn.preprocessing import StandardScaler\n",
    "from sklearn.model_selection import GridSearchCV, train_test_split\n",
    "from sklearn.ensemble import RandomForestClassifier, AdaBoostClassifier\n",
    "from sklearn.svm import SVC\n",
    "from sklearn.linear_model import LogisticRegression\n",
    "from sklearn.datasets import load_iris\n",
    "from sklearn.tree import DecisionTreeClassifier\n",
    "from sklearn.metrics import (\n",
    "    accuracy_score, precision_score, recall_score, f1_score, \n",
    "    make_scorer, classification_report\n",
    ")\n",
    "import numpy as np\n",
    "\n",
    "X,y =load_iris(return_X_y=True)\n",
    "\n",
    "X_train, X_test, y_train, y_test = train_test_split(X, y, test_size=0.2, stratify=y, random_state=42)\n",
    "\n",
    "pipeline = Pipeline([\n",
    "    ('scaler',StandardScaler()), \n",
    "    ('classifier', RandomForestClassifier())\n",
    "])\n",
    "\n",
    "dt = DecisionTreeClassifier(max_depth=1)\n",
    "\n",
    "param_grid = [\n",
    "    {'classifier': [LogisticRegression()],\n",
    "    'classifier__C' : [0.1,1,10]},\n",
    "    \n",
    "    {'classifier': [RandomForestClassifier()],\n",
    "    'classifier__n_estimators':[50,100,200], \n",
    "    'classifier__max_depth': [None, 5, 10]},\n",
    "\n",
    "    {'classifier':[SVC()], \n",
    "    'classifier__kernel': ['rbf', 'linear'],\n",
    "    'classifier__C':[0.1, 1, 10]}, \n",
    "\n",
    "    {'classifier': [AdaBoostClassifier()],\n",
    "    'classifier__estimator': [dt]}\n",
    "]\n",
    "scoring = {\n",
    "    'accuracy': make_scorer(accuracy_score),\n",
    "    'precision':make_scorer(precision_score, average='macro'),\n",
    "    'recall': make_scorer(recall_score, average='macro'),\n",
    "    'f1': make_scorer(f1_score, average='macro')\n",
    "}\n",
    "grid_search = GridSearchCV(pipeline, param_grid, cv=5, scoring=scoring,refit='accuracy', n_jobs=-1)\n",
    "grid_search.fit(X_train, y_train)\n",
    "\n",
    "\n",
    "\n",
    "print(f'Best Model: {grid_search.best_params_}')\n",
    "print(f'Best Score: {grid_search.best_score_}')\n",
    "\n",
    "best_model = grid_search.best_estimator_\n",
    "test_accuracry = best_model.score(X_test, y_test)\n",
    "print(f'Test Accuracy: {test_accuracry:.2f}')\n",
    "\n",
    "cv_results = grid_search.cv_results_\n",
    "metrics = ['accuracy', 'precision', 'recall', 'f1']\n",
    "\n",
    "best_scores = {metric: np.max(cv_results[f'mean_test_{metric}']) for metric in metrics}\n",
    "\n",
    "# Display Best Scores for Each Metric\n",
    "print(\"\\n🔹 Best Scores Across Metrics:\")\n",
    "for metric, score in best_scores.items():\n",
    "    print(f\"{metric.capitalize()}: {score:.4f}\")"
   ]
  },
  {
   "cell_type": "code",
   "execution_count": null,
   "id": "4e27d696-20f2-47bc-942a-b607af978a63",
   "metadata": {},
   "outputs": [],
   "source": []
  }
 ],
 "metadata": {
  "kernelspec": {
   "display_name": "Python 3 (ipykernel)",
   "language": "python",
   "name": "python3"
  },
  "language_info": {
   "codemirror_mode": {
    "name": "ipython",
    "version": 3
   },
   "file_extension": ".py",
   "mimetype": "text/x-python",
   "name": "python",
   "nbconvert_exporter": "python",
   "pygments_lexer": "ipython3",
   "version": "3.12.3"
  }
 },
 "nbformat": 4,
 "nbformat_minor": 5
}
