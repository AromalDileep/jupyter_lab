{
 "cells": [
  {
   "cell_type": "code",
   "execution_count": 15,
   "id": "23e3aa0a-5be4-4242-bf4b-1d62acebdaf8",
   "metadata": {},
   "outputs": [
    {
     "name": "stdout",
     "output_type": "stream",
     "text": [
      "0    1\n",
      "1    5\n",
      "Name: C, dtype: int32\n",
      "-------\n",
      "[1 5]\n",
      "-----------------------\n",
      "0    2\n",
      "1    6\n",
      "Name: S, dtype: int32\n",
      "-------\n",
      "[2 6]\n",
      "-----------------------\n",
      "0    3\n",
      "1    7\n",
      "Name: Q, dtype: int32\n",
      "-------\n",
      "[3 7]\n",
      "-----------------------\n",
      "0    4\n",
      "1    8\n",
      "Name: N, dtype: int32\n",
      "-------\n",
      "[4 8]\n",
      "-----------------------\n",
      "   C  S  Q  N\n",
      "0  1  2  3  4\n",
      "1  5  6  7  8\n"
     ]
    }
   ],
   "source": [
    "import numpy as np\n",
    "import pandas as pd\n",
    "\n",
    "# Define the matrix\n",
    "matrs = np.array([\n",
    "    [1, 2, 3, 4],\n",
    "    [5, 6, 7, 8]\n",
    "])\n",
    "\n",
    "# Define column names\n",
    "column_names = ['C', 'S', 'Q', 'N']\n",
    "\n",
    "# Create an empty DataFrame\n",
    "X = pd.DataFrame()\n",
    "\n",
    "# Assign transposed columns to the DataFrame\n",
    "for i in range(len(matrs.T)):  # Iterate over transposed columns\n",
    "    X[column_names[i]] = matrs.T[i]\n",
    "    print(X[column_names[i]])\n",
    "    print('-------')\n",
    "    print(matrs.T[i])\n",
    "    print('-----------------------')\n",
    "    \n",
    "\n",
    "# Display the resulting DataFrame\n",
    "print(X)\n"
   ]
  }
 ],
 "metadata": {
  "kernelspec": {
   "display_name": "Python 3 (ipykernel)",
   "language": "python",
   "name": "python3"
  },
  "language_info": {
   "codemirror_mode": {
    "name": "ipython",
    "version": 3
   },
   "file_extension": ".py",
   "mimetype": "text/x-python",
   "name": "python",
   "nbconvert_exporter": "python",
   "pygments_lexer": "ipython3",
   "version": "3.12.3"
  }
 },
 "nbformat": 4,
 "nbformat_minor": 5
}
