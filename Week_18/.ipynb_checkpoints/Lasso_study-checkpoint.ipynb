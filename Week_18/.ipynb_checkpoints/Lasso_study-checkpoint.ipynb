{
 "cells": [
  {
   "cell_type": "markdown",
   "id": "309a28db-0c63-44cc-b180-02d2b2471c2c",
   "metadata": {},
   "source": [
    "\n",
    "\n",
    "### **What is Lasso Regression?**\n",
    "\n",
    "Lasso Regression (Least Absolute Shrinkage and Selection Operator) is a type of linear regression that performs both **feature selection** and **regularization** to improve prediction accuracy and model interpretability. It is an extension of linear regression where a penalty term is added to the loss function to constrain the magnitude of the coefficients.\n",
    "\n",
    "The loss function for Lasso Regression is:\n",
    "\n",
    "$\n",
    "\\text{Minimize: } \\frac{1}{2n} \\sum_{i=1}^{n} \\left( y_i - \\hat{y}_i \\right)^2 + \\lambda \\sum_{j=1}^{p} |\\beta_j|\n",
    "$\n",
    "\n",
    "Where:\n",
    "- $ \\frac{1}{2n} \\sum_{i=1}^{n} \\left( y_i - \\hat{y}_i \\right)^2 $ is the Mean Squared Error (MSE).\n",
    "- $ \\lambda $ is the regularization parameter (controls the strength of penalty).\n",
    "- $ \\sum_{j=1}^{p} |\\beta_j| $ is the **L1 norm** (sum of absolute values of the coefficients).\n",
    "- $ \\beta_j $ are the coefficients of the features.\n",
    "\n",
    "### **Key Features of Lasso Regression**\n",
    "1. **Feature Selection:** Lasso can shrink some coefficients to exactly zero, effectively removing less important features from the model.\n",
    "2. **Regularization:** Prevents overfitting by constraining the size of the coefficients.\n",
    "3. **Simplicity:** The resulting model is sparse, meaning it uses fewer features, which makes it easier to interpret.\n",
    "\n",
    "---\n",
    "\n",
    "### **When is Lasso Regression Used?**\n",
    "1. **High-Dimensional Data:**\n",
    "   - When the dataset has a large number of features, Lasso helps identify the most important ones by shrinking others to zero.\n",
    "   - It is particularly useful when the number of features $(p)$ exceeds the number of observations $(n)$.\n",
    "\n",
    "2. **Feature Selection:**\n",
    "   - When you suspect that some features are irrelevant or redundant, Lasso automatically eliminates them during training.\n",
    "\n",
    "3. **Preventing Overfitting:**\n",
    "   - By regularizing the coefficients, Lasso prevents models from fitting noise in the data, especially when the dataset is small or noisy.\n",
    "\n",
    "4. **Interpretability:**\n",
    "   - When you need a simpler, more interpretable model, Lasso creates a sparse model by retaining only the most relevant features.\n",
    "\n",
    "---\n",
    "\n",
    "### **Limitations of Lasso Regression**\n",
    "1. **Multicollinearity:**\n",
    "   - When features are highly correlated, Lasso may arbitrarily choose one and shrink the others to zero, which might not be ideal.\n",
    "   - In such cases, **Elastic Net Regression** (a combination of Lasso and Ridge) might be better.\n",
    "\n",
    "2. **Small Regularization Parameter (\\(\\lambda\\)):**\n",
    "   - If $\\lambda$ is too small, the model behaves like simple linear regression.\n",
    "   - If $\\lambda$ is too large, the model might underfit by shrinking too many coefficients to zero.\n",
    "\n",
    "---\n",
    "\n",
    "### **Example Use Case**\n",
    "Suppose you have a dataset with 1000 features, but you believe only a handful are important for predicting your target variable. Lasso Regression can help:\n",
    "- Automatically select the most relevant features.\n",
    "- Reduce the risk of overfitting.\n",
    "- Create a simpler, more interpretable model.\n",
    "\n",
    "---\n",
    "---\n"
   ]
  },
  {
   "cell_type": "markdown",
   "id": "a8dbaade-d320-413f-91bc-ca1f61a80e8a",
   "metadata": {},
   "source": [
    "### Lasso Regression Formula\n",
    "$$\\text{Minimize: } \\frac{1}{2n} \\sum_{i=1}^n \\left( y_i - \\hat{y}_i \\right)^2 + \\alpha \\sum_{j=1}^p |w_j|$$\n",
    "\n",
    "### Ridge Regression Formula\n",
    "$$\\text{Minimize: } \\frac{1}{2n} \\sum_{i=1}^n \\left( y_i - \\hat{y}_i \\right)^2 + \\alpha \\sum_{j=1}^p w_j^2$$\n"
   ]
  },
  {
   "cell_type": "markdown",
   "id": "455d2d82-8859-4ebb-90c6-5bf53eea0903",
   "metadata": {},
   "source": []
  }
 ],
 "metadata": {
  "kernelspec": {
   "display_name": "Python 3 (ipykernel)",
   "language": "python",
   "name": "python3"
  },
  "language_info": {
   "codemirror_mode": {
    "name": "ipython",
    "version": 3
   },
   "file_extension": ".py",
   "mimetype": "text/x-python",
   "name": "python",
   "nbconvert_exporter": "python",
   "pygments_lexer": "ipython3",
   "version": "3.12.2"
  }
 },
 "nbformat": 4,
 "nbformat_minor": 5
}
