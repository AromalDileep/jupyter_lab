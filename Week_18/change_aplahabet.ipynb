{
 "cells": [
  {
   "cell_type": "code",
   "execution_count": 1,
   "id": "d47c7862-9d33-410c-9951-74b408c3eaa3",
   "metadata": {},
   "outputs": [
    {
     "name": "stdout",
     "output_type": "stream",
     "text": [
      "a3b2a1c1\n"
     ]
    }
   ],
   "source": [
    "st = 'aaabbac'\n",
    "count = 1\n",
    "s = ''\n",
    "for i in range(1, len(st)):\n",
    "    if st[i] != st[i-1]:  \n",
    "        s += st[i-1] + str(count) \n",
    "        count = 1\n",
    "    else:\n",
    "        count += 1\n",
    "\n",
    "s +=  st[-1] +str(count)\n",
    "\n",
    "print(s)"
   ]
  },
  {
   "cell_type": "code",
   "execution_count": null,
   "id": "88e0c776-0537-447a-a662-56ceaff93f80",
   "metadata": {},
   "outputs": [],
   "source": []
  }
 ],
 "metadata": {
  "kernelspec": {
   "display_name": "Python 3 (ipykernel)",
   "language": "python",
   "name": "python3"
  },
  "language_info": {
   "codemirror_mode": {
    "name": "ipython",
    "version": 3
   },
   "file_extension": ".py",
   "mimetype": "text/x-python",
   "name": "python",
   "nbconvert_exporter": "python",
   "pygments_lexer": "ipython3",
   "version": "3.12.2"
  }
 },
 "nbformat": 4,
 "nbformat_minor": 5
}
