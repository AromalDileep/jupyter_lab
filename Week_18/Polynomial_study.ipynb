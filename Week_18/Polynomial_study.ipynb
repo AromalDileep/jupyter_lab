{
 "cells": [
  {
   "cell_type": "markdown",
   "id": "6d709050-62e6-4c33-a711-df2204603299",
   "metadata": {},
   "source": [
    "### Polynomial Regression Formula\n",
    "\n",
    "1. **Polynomial Regression Model**:\n",
    "   $$y = \\beta_0 + \\beta_1 x + \\beta_2 x^2 + \\cdots + \\beta_d x^d + \\epsilon$$\n",
    "   - **Explanation**:\n",
    "     - $y$: Target variable.\n",
    "     - $x$: Feature variable.\n",
    "     - $\\beta_0$: Intercept term.\n",
    "     - $\\beta_1, \\beta_2, \\dots, \\beta_d$: Coefficients of the polynomial terms.\n",
    "     - $d$: Degree of the polynomial (degree of the highest power of $x$).\n",
    "     - $\\epsilon$: Error term (residuals).\n",
    "\n",
    "2. **Objective (Least Squares Method)**:\n",
    "   $$\\text{Minimize: } \\sum_{i=1}^n \\left( y_i - \\hat{y}_i \\right)^2$$\n",
    "   - **Explanation**:\n",
    "     - $y_i$: Actual target value.\n",
    "     - $\\hat{y}_i$: Predicted target value based on the polynomial equation.\n",
    "     - The goal is to minimize the sum of squared errors between the actual and predicted values.\n",
    "\n",
    "### Polynomial Regression in Practice:\n",
    "1. **Transformation**:\n",
    "   - To apply polynomial regression, you often transform the feature $x$ into higher powers: \n",
    "     $$X' = [x, x^2, x^3, \\dots, x^d]$$\n",
    "   - This transformation allows linear regression to be applied in the transformed feature space, fitting a polynomial function to the data.\n",
    "\n",
    "2. **Model Prediction**:\n",
    "   $$\\hat{y} = \\beta_0 + \\beta_1 x + \\beta_2 x^2 + \\cdots + \\beta_d x^d$$\n",
    "\n",
    "### Key Parameters:\n",
    "- **Degree ($d$)**: Determines the complexity of the polynomial curve.\n",
    "- **Coefficients ($\\beta_0, \\beta_1, \\dots, \\beta_d$)**: These are learned through least squares fitting, which minimizes the error term.\n"
   ]
  },
  {
   "cell_type": "code",
   "execution_count": null,
   "id": "0c288300-9dca-4a4d-964d-016a8416dc69",
   "metadata": {},
   "outputs": [],
   "source": []
  }
 ],
 "metadata": {
  "kernelspec": {
   "display_name": "Python 3 (ipykernel)",
   "language": "python",
   "name": "python3"
  },
  "language_info": {
   "codemirror_mode": {
    "name": "ipython",
    "version": 3
   },
   "file_extension": ".py",
   "mimetype": "text/x-python",
   "name": "python",
   "nbconvert_exporter": "python",
   "pygments_lexer": "ipython3",
   "version": "3.12.2"
  }
 },
 "nbformat": 4,
 "nbformat_minor": 5
}
